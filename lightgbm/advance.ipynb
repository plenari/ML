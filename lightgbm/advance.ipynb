{
 "cells": [
  {
   "cell_type": "code",
   "execution_count": 1,
   "metadata": {},
   "outputs": [],
   "source": [
    "# coding: utf-8\n",
    "import json\n",
    "import lightgbm as lgb\n",
    "import pandas as pd\n",
    "import numpy as np\n",
    "from sklearn.metrics import mean_squared_error\n",
    "import pickle"
   ]
  },
  {
   "cell_type": "code",
   "execution_count": 2,
   "metadata": {},
   "outputs": [],
   "source": [
    "# load or create your dataset\n",
    "df_train = pd.read_csv('binary_classification/binary.train', header=None, sep='\\t')\n",
    "df_test = pd.read_csv('binary_classification/binary.test', header=None, sep='\\t')\n",
    "W_train = pd.read_csv('binary_classification/binary.train.weight', header=None)[0]\n",
    "W_test = pd.read_csv('binary_classification/binary.test.weight', header=None)[0]"
   ]
  },
  {
   "cell_type": "code",
   "execution_count": 3,
   "metadata": {},
   "outputs": [],
   "source": [
    "y_train = df_train[0].values\n",
    "y_test = df_test[0].values\n",
    "X_train = df_train.drop(0, axis=1).values\n",
    "X_test = df_test.drop(0, axis=1).values"
   ]
  },
  {
   "cell_type": "code",
   "execution_count": 4,
   "metadata": {},
   "outputs": [],
   "source": [
    "num_train, num_feature = X_train.shape"
   ]
  },
  {
   "cell_type": "code",
   "execution_count": 5,
   "metadata": {},
   "outputs": [],
   "source": [
    "# create dataset for lightgbm\n",
    "# if you want to re-use data, remember to set free_raw_data=False\n",
    "lgb_train=lgb.Dataset(X_train,y_train,free_raw_data=False)\n",
    "lgb_eval=lgb.Dataset(X_test,y_test,reference=lgb_train,free_raw_data=False)"
   ]
  },
  {
   "cell_type": "code",
   "execution_count": 6,
   "metadata": {},
   "outputs": [],
   "source": [
    "# specify your configurations as a dict\n",
    "params = {\n",
    "    'boosting_type': 'gbdt',#\n",
    "    'objective': 'binary',\n",
    "    'metric': 'binary_logloss',\n",
    "    'num_leaves': 31,\n",
    "    'learning_rate': 0.05,#\n",
    "    'feature_fraction': 0.9,#\n",
    "    'bagging_fraction': 0.8,#\n",
    "    'bagging_freq': 5,#\n",
    "    'verbose': 0#\n",
    "}"
   ]
  },
  {
   "cell_type": "code",
   "execution_count": 7,
   "metadata": {},
   "outputs": [],
   "source": [
    "# generate a feature name,我认为没有必要\n",
    "feature_name = ['feature_' + str(col) for col in range(num_feature)]"
   ]
  },
  {
   "cell_type": "code",
   "execution_count": 8,
   "metadata": {},
   "outputs": [],
   "source": [
    "gbm=lgb.train(params,\n",
    "          lgb_train,\n",
    "          num_boost_round=10,#训练次数\n",
    "          feature_name=feature_name,\n",
    "              \n",
    "         )"
   ]
  },
  {
   "cell_type": "markdown",
   "metadata": {},
   "source": [
    "## save model"
   ]
  },
  {
   "cell_type": "markdown",
   "metadata": {},
   "source": [
    "## txt"
   ]
  },
  {
   "cell_type": "code",
   "execution_count": 24,
   "metadata": {},
   "outputs": [],
   "source": [
    "gbm.save_model('advanced_example-model.txt')"
   ]
  },
  {
   "cell_type": "markdown",
   "metadata": {},
   "source": [
    "pickle,或者joblib"
   ]
  },
  {
   "cell_type": "code",
   "execution_count": 25,
   "metadata": {},
   "outputs": [],
   "source": [
    "with open('advanced_example-model.pkl','wb') as f:\n",
    "    pickle.dump(gbm,f)"
   ]
  },
  {
   "cell_type": "markdown",
   "metadata": {},
   "source": [
    "### model 复原\n",
    "    从txt复原的booster只能用最好的训练模型预测\n",
    "    从pickle,复原的可以通过任何迭代预测  "
   ]
  },
  {
   "cell_type": "code",
   "execution_count": 27,
   "metadata": {},
   "outputs": [
    {
     "name": "stdout",
     "output_type": "stream",
     "text": [
      "The rmse of loaded model's prediction is: 0.4456811768709752\n"
     ]
    }
   ],
   "source": [
    "# load model to predict\n",
    "bst = lgb.Booster(model_file='advanced_example-model.txt')\n",
    "# can only predict with the best iteration (or the saving iteration)\n",
    "y_pred = bst.predict(X_test)\n",
    "# eval with loaded model\n",
    "print('The rmse of loaded model\\'s prediction is:', mean_squared_error(y_test, y_pred) ** 0.5)\n"
   ]
  },
  {
   "cell_type": "markdown",
   "metadata": {},
   "source": [
    "### from pickle"
   ]
  },
  {
   "cell_type": "code",
   "execution_count": 28,
   "metadata": {},
   "outputs": [],
   "source": [
    "with open('advanced_example-model.pkl','rb') as f:\n",
    "    gbm_pkl=pickle.load(f)"
   ]
  },
  {
   "cell_type": "code",
   "execution_count": 29,
   "metadata": {},
   "outputs": [
    {
     "data": {
      "text/plain": [
       "(lightgbm.basic.Booster, lightgbm.basic.Booster)"
      ]
     },
     "execution_count": 29,
     "metadata": {},
     "output_type": "execute_result"
    }
   ],
   "source": [
    "type(bst),type(gbm_pkl)"
   ]
  },
  {
   "cell_type": "code",
   "execution_count": 30,
   "metadata": {},
   "outputs": [
    {
     "data": {
      "text/plain": [
       "0.19863171141709746"
      ]
     },
     "execution_count": 30,
     "metadata": {},
     "output_type": "execute_result"
    }
   ],
   "source": [
    "mean_squared_error(gbm_pkl.predict(X_test,num_iteration=10),y_test)"
   ]
  },
  {
   "cell_type": "markdown",
   "metadata": {},
   "source": [
    "### continue train\n",
    "     init_model accepts:\n",
    "     1. model file name\n",
    "     2. Booster()"
   ]
  },
  {
   "cell_type": "markdown",
   "metadata": {},
   "source": [
    "## fromfile"
   ]
  },
  {
   "cell_type": "code",
   "execution_count": 31,
   "metadata": {},
   "outputs": [],
   "source": [
    "#gb2 为cv\n",
    "with open('advanced_example-model.pkl','rb') as f:\n",
    "    gb2=pickle.load(f)"
   ]
  },
  {
   "cell_type": "code",
   "execution_count": 34,
   "metadata": {},
   "outputs": [
    {
     "name": "stdout",
     "output_type": "stream",
     "text": [
      "[11]\tvalid_0's binary_logloss: 0.582247\n",
      "[12]\tvalid_0's binary_logloss: 0.578684\n",
      "[13]\tvalid_0's binary_logloss: 0.574623\n",
      "[14]\tvalid_0's binary_logloss: 0.571333\n",
      "[15]\tvalid_0's binary_logloss: 0.56686\n",
      "[16]\tvalid_0's binary_logloss: 0.563997\n",
      "[17]\tvalid_0's binary_logloss: 0.559482\n",
      "[18]\tvalid_0's binary_logloss: 0.556386\n",
      "[19]\tvalid_0's binary_logloss: 0.554983\n",
      "[20]\tvalid_0's binary_logloss: 0.552832\n",
      "[21]\tvalid_0's binary_logloss: 0.550053\n",
      "[22]\tvalid_0's binary_logloss: 0.546326\n",
      "[23]\tvalid_0's binary_logloss: 0.544424\n",
      "[24]\tvalid_0's binary_logloss: 0.542267\n",
      "[25]\tvalid_0's binary_logloss: 0.540004\n",
      "[26]\tvalid_0's binary_logloss: 0.539057\n",
      "[27]\tvalid_0's binary_logloss: 0.53717\n",
      "[28]\tvalid_0's binary_logloss: 0.535431\n",
      "[29]\tvalid_0's binary_logloss: 0.532915\n",
      "[30]\tvalid_0's binary_logloss: 0.53075\n"
     ]
    }
   ],
   "source": [
    "gbm20=lgb.train(params,lgb_train,num_boost_round=20,init_model=gb2,valid_sets=lgb_eval)"
   ]
  },
  {
   "cell_type": "markdown",
   "metadata": {},
   "source": [
    "## from booster"
   ]
  },
  {
   "cell_type": "code",
   "execution_count": 35,
   "metadata": {},
   "outputs": [
    {
     "name": "stdout",
     "output_type": "stream",
     "text": [
      "[11]\tvalid_0's binary_logloss: 0.582247\n",
      "[12]\tvalid_0's binary_logloss: 0.578684\n",
      "[13]\tvalid_0's binary_logloss: 0.574623\n",
      "[14]\tvalid_0's binary_logloss: 0.571333\n",
      "[15]\tvalid_0's binary_logloss: 0.56686\n",
      "[16]\tvalid_0's binary_logloss: 0.563997\n",
      "[17]\tvalid_0's binary_logloss: 0.559482\n",
      "[18]\tvalid_0's binary_logloss: 0.556386\n",
      "[19]\tvalid_0's binary_logloss: 0.554983\n",
      "[20]\tvalid_0's binary_logloss: 0.552832\n",
      "[21]\tvalid_0's binary_logloss: 0.550053\n",
      "[22]\tvalid_0's binary_logloss: 0.546326\n",
      "[23]\tvalid_0's binary_logloss: 0.544424\n",
      "[24]\tvalid_0's binary_logloss: 0.542267\n",
      "[25]\tvalid_0's binary_logloss: 0.540004\n",
      "[26]\tvalid_0's binary_logloss: 0.539057\n",
      "[27]\tvalid_0's binary_logloss: 0.53717\n",
      "[28]\tvalid_0's binary_logloss: 0.535431\n",
      "[29]\tvalid_0's binary_logloss: 0.532915\n",
      "[30]\tvalid_0's binary_logloss: 0.53075\n"
     ]
    },
    {
     "name": "stderr",
     "output_type": "stream",
     "text": [
      "F:\\app\\anaconda\\lib\\site-packages\\lightgbm\\basic.py:729: UserWarning: The prediction of init_model will be overrided by init_score.\n",
      "  warnings.warn(\"The prediction of init_model will be overrided by init_score.\")\n"
     ]
    }
   ],
   "source": [
    "gbm20=lgb.train(params,lgb_train,num_boost_round=20,init_model=bst,valid_sets=lgb_eval)"
   ]
  },
  {
   "cell_type": "markdown",
   "metadata": {},
   "source": [
    "### 改变学习率"
   ]
  },
  {
   "cell_type": "code",
   "execution_count": 38,
   "metadata": {},
   "outputs": [
    {
     "name": "stdout",
     "output_type": "stream",
     "text": [
      "[11]\tvalid_0's binary_logloss: 0.583764\n",
      "[12]\tvalid_0's binary_logloss: 0.58234\n",
      "[13]\tvalid_0's binary_logloss: 0.580202\n",
      "[14]\tvalid_0's binary_logloss: 0.578394\n",
      "[15]\tvalid_0's binary_logloss: 0.575964\n",
      "[16]\tvalid_0's binary_logloss: 0.573929\n",
      "[17]\tvalid_0's binary_logloss: 0.572486\n",
      "[18]\tvalid_0's binary_logloss: 0.571196\n",
      "[19]\tvalid_0's binary_logloss: 0.569816\n",
      "[20]\tvalid_0's binary_logloss: 0.568528\n"
     ]
    },
    {
     "name": "stderr",
     "output_type": "stream",
     "text": [
      "F:\\app\\anaconda\\lib\\site-packages\\lightgbm\\basic.py:729: UserWarning: The prediction of init_model will be overrided by init_score.\n",
      "  warnings.warn(\"The prediction of init_model will be overrided by init_score.\")\n"
     ]
    }
   ],
   "source": [
    "# decay learning rates\n",
    "# learning_rates accepts:\n",
    "# 1. list/tuple with length = num_boost_round\n",
    "# 2. function(curr_iter)\n",
    "gbm = lgb.train(params,\n",
    "                lgb_train,\n",
    "                num_boost_round=10,\n",
    "                init_model=gbm,\n",
    "                learning_rates=lambda iter: 0.05 * (0.99 ** iter),\n",
    "                valid_sets=lgb_eval)"
   ]
  },
  {
   "cell_type": "code",
   "execution_count": 39,
   "metadata": {},
   "outputs": [
    {
     "name": "stdout",
     "output_type": "stream",
     "text": [
      "[21]\tvalid_0's binary_logloss: 0.583192\n",
      "[22]\tvalid_0's binary_logloss: 0.581739\n",
      "[23]\tvalid_0's binary_logloss: 0.579506\n",
      "[24]\tvalid_0's binary_logloss: 0.577723\n",
      "[25]\tvalid_0's binary_logloss: 0.575948\n",
      "[26]\tvalid_0's binary_logloss: 0.575386\n",
      "[27]\tvalid_0's binary_logloss: 0.57392\n",
      "[28]\tvalid_0's binary_logloss: 0.572346\n",
      "[29]\tvalid_0's binary_logloss: 0.571381\n",
      "[30]\tvalid_0's binary_logloss: 0.569988\n"
     ]
    },
    {
     "name": "stderr",
     "output_type": "stream",
     "text": [
      "F:\\app\\anaconda\\lib\\site-packages\\lightgbm\\basic.py:729: UserWarning: The prediction of init_model will be overrided by init_score.\n",
      "  warnings.warn(\"The prediction of init_model will be overrided by init_score.\")\n"
     ]
    }
   ],
   "source": [
    "# change other parameters during training\n",
    "gbm = lgb.train(params,\n",
    "                lgb_train,\n",
    "                num_boost_round=10,\n",
    "                init_model=gbm,\n",
    "                valid_sets=lgb_eval,\n",
    "                callbacks=[lgb.reset_parameter(bagging_fraction=[0.7] * 5 + [0.6] * 5)])"
   ]
  }
 ],
 "metadata": {
  "kernelspec": {
   "display_name": "Python 3",
   "language": "python",
   "name": "python3"
  },
  "language_info": {
   "codemirror_mode": {
    "name": "ipython",
    "version": 3
   },
   "file_extension": ".py",
   "mimetype": "text/x-python",
   "name": "python",
   "nbconvert_exporter": "python",
   "pygments_lexer": "ipython3",
   "version": "3.6.4"
  }
 },
 "nbformat": 4,
 "nbformat_minor": 2
}
