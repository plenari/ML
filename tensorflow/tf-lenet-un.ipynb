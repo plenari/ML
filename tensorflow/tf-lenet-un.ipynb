{
 "cells": [
  {
   "cell_type": "markdown",
   "metadata": {},
   "source": [
    "## Lenet \n",
    "http://noahsnail.com/2017/03/02/2017-3-2-LeNet%E7%A5%9E%E7%BB%8F%E7%BD%91%E7%BB%9C/"
   ]
  },
  {
   "cell_type": "markdown",
   "metadata": {},
   "source": [
    "### 1. LeNet神经网络介绍"
   ]
  },
  {
   "cell_type": "raw",
   "metadata": {},
   "source": [
    "LeNet神经网络由深度学习三巨头之一的Yan LeCun提出，他同时也是卷积神经网络 (CNN，Convolutional Neural Networks)之父。LeNet主要用来进行手写字符的识别与分类。LeNet的实现确立了CNN的结构，例如卷积层，Pooling层，ReLU层。虽然LeNet网络结构比较简单，但是刚好适合神经网络的入门学习。"
   ]
  },
  {
   "cell_type": "raw",
   "metadata": {},
   "source": [
    "2.7 LeNet各层的参数变化\n",
    "C1\n",
    "输入大小：32*32\n",
    "核大小：5*5\n",
    "核数目：6\n",
    "输出大小：28*28*6\n",
    "训练参数数目：(5*5+1)*6=156\n",
    "连接数：(5*5+1)*6*(32-2-2)*(32-2-2)=122304\n",
    "\n",
    "S2\n",
    "输入大小：28*28*6\n",
    "核大小：2*2\n",
    "核数目：1\n",
    "输出大小：14*14*6\n",
    "训练参数数目：2*6=12，2=(w,b)\n",
    "连接数：(2*2+1)*1*14*14*6 = 5880\n",
    "\n",
    "C3\n",
    "输入大小：14*14*6\n",
    "核大小：5*5\n",
    "核数目：16\n",
    "输出大小：10*10*16\n",
    "训练参数数目：6*(3*5*5+1) + 6*(4*5*5+1) + 3*(4*5*5+1) + 1*(6*5*5+1)=1516\n",
    "连接数：(6*(3*5*5+1) + 6*(4*5*5+1) + 3*(4*5*5+1) + 1*(6*5*5+1))*10*10=151600\n",
    "\n",
    "S4\n",
    "输入大小：10*10*16\n",
    "核大小：2*2\n",
    "核数目：1\n",
    "输出大小：5*5*16\n",
    "训练参数数目：2*16=32\n",
    "连接数：(2*2+1)*1*5*5*16=2000\n",
    "\n",
    "C5\n",
    "输入大小：5*5*16\n",
    "核大小：5*5\n",
    "核数目：120\n",
    "输出大小：120*1*1\n",
    "训练参数数目：(5*5*16+1)*120*1*1=48120（因为是全连接）\n",
    "连接数：(5*5*16+1)*120*1*1=48120\n",
    "\n",
    "F6\n",
    "输入大小：120\n",
    "输出大小：84\n",
    "训练参数数目：(120+1)*84=10164\n",
    "连接数：(120+1)*84=1016"
   ]
  },
  {
   "cell_type": "markdown",
   "metadata": {},
   "source": [
    "### 如何确定参数个数"
   ]
  },
  {
   "cell_type": "markdown",
   "metadata": {},
   "source": [
    "权重个数加上偏差个数，比如：\n",
    "图片大小32*32，卷积核5*5，feature 为6，如果卷积步进都设为1.这样可以得到一个 28*28*6的一个输出结果。\n",
    "如果每个卷积核都可以优化的话，那么每张图片每个卷积核就会有28*28*25个参数可以优化。所以权重一共有28*28*25*6个加上偏差28*28个一共28*28*（25*6+1）个"
   ]
  },
  {
   "cell_type": "markdown",
   "metadata": {},
   "source": []
  },
  {
   "cell_type": "code",
   "execution_count": null,
   "metadata": {
    "collapsed": true
   },
   "outputs": [],
   "source": []
  }
 ],
 "metadata": {
  "kernelspec": {
   "display_name": "Python 3",
   "language": "python",
   "name": "python3"
  },
  "language_info": {
   "codemirror_mode": {
    "name": "ipython",
    "version": 3
   },
   "file_extension": ".py",
   "mimetype": "text/x-python",
   "name": "python",
   "nbconvert_exporter": "python",
   "pygments_lexer": "ipython3",
   "version": "3.6.1"
  }
 },
 "nbformat": 4,
 "nbformat_minor": 2
}
