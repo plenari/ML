{
 "cells": [
  {
   "cell_type": "markdown",
   "metadata": {},
   "source": [
    "### 一. rnn +mnist"
   ]
  },
  {
   "cell_type": "markdown",
   "metadata": {},
   "source": [
    "####  1.1 RNN 来进行分类的训练 (Classification).\n",
    " 1. 会继续使用到手写数字 MNIST 数据集. \n",
    " 2.  RNN 从每张图片的第一行像素读到最后一行, 然后再进行分类判断.\n",
    " 3. 接下来我们导入 MNIST 数据并确定 RNN 的各种参数(hyper-parameters)"
   ]
  },
  {
   "cell_type": "code",
   "execution_count": 1,
   "metadata": {},
   "outputs": [
    {
     "name": "stdout",
     "output_type": "stream",
     "text": [
      "Extracting MNIST_data\\train-images-idx3-ubyte.gz\n",
      "Extracting MNIST_data\\train-labels-idx1-ubyte.gz\n",
      "Extracting MNIST_data\\t10k-images-idx3-ubyte.gz\n",
      "Extracting MNIST_data\\t10k-labels-idx1-ubyte.gz\n"
     ]
    }
   ],
   "source": [
    "import tensorflow as tf\n",
    "from tensorflow.examples.tutorials.mnist import input_data\n",
    "tf.set_random_seed(1)   # set random seed\n",
    "\n",
    "# 导入数据\n",
    "mnist = input_data.read_data_sets('MNIST_data', one_hot=True)\n",
    "\n",
    "# hyperparameters\n",
    "lr = 0.001                  # learning rate\n",
    "training_iters = 100000     # train step 上限\n",
    "batch_size = 128            \n",
    "n_inputs = 28               # MNIST data input (img shape: 28*28)\n",
    "n_steps = 28                # time steps\n",
    "n_hidden_units = 128        # neurons in hidden layer\n",
    "n_classes = 10              # MNIST classes (0-9 digits)"
   ]
  },
  {
   "cell_type": "markdown",
   "metadata": {},
   "source": [
    "### 1.2 \n",
    "1. 由于batch_size=128,所以x的形状是128x28x28.进去之后改变形状为：3584x28\n",
    "2. 所以$x*$weights['in']$*$weights['out']的过程是：3584x28***28x128 *** 128x10 ====3584x10\n",
    "3. 就是y的形状"
   ]
  },
  {
   "cell_type": "code",
   "execution_count": 2,
   "metadata": {
    "collapsed": true
   },
   "outputs": [],
   "source": [
    "# x y placeholder\n",
    "#x.shape: -1x28x28\n",
    "x = tf.placeholder(tf.float32, [None, n_steps, n_inputs])\n",
    "#y.shape :-1x10\n",
    "y = tf.placeholder(tf.float32, [None, n_classes])\n",
    "\n",
    "# 对 weights biases 初始值的定义\n",
    "weights = {\n",
    "    # shape (28, 128)\n",
    "    'in': tf.Variable(tf.random_normal([n_inputs, n_hidden_units])),\n",
    "    # shape (128, 10)\n",
    "    'out': tf.Variable(tf.random_normal([n_hidden_units, n_classes]))\n",
    "}\n",
    "biases = {\n",
    "    # shape (128, )\n",
    "    'in': tf.Variable(tf.constant(0.1, shape=[n_hidden_units, ])),\n",
    "    # shape (10, )\n",
    "    'out': tf.Variable(tf.constant(0.1, shape=[n_classes, ]))\n",
    "}"
   ]
  },
  {
   "cell_type": "markdown",
   "metadata": {},
   "source": [
    "### 2 函数帮助\n"
   ]
  },
  {
   "cell_type": "markdown",
   "metadata": {},
   "source": [
    "### 2.1 tf.contrib.rnn.BasicLSTMCell\n",
    "\n",
    "    Methods defined here:\n",
    "     |  \n",
    "     |  __init__(self, num_units, forget_bias=1.0, state_is_tuple=True, activation=None, reuse=None)\n",
    "     |      Initialize the basic LSTM cell.\n",
    "     |      \n",
    "     |      Args:\n",
    "     |        num_units: int, The number of units in the LSTM cell.\n",
    "     |        forget_bias: float, The bias added to forget gates (see above).\n",
    "     |          Must set to `0.0` manually when restoring from CudnnLSTM-trained\n",
    "     |          checkpoints.\n",
    "     |        state_is_tuple: If True, accepted and returned states are 2-tuples of\n",
    "     |          the `c_state` and `m_state`.  If False, they are concatenated\n",
    "     |          along the column axis.  The latter behavior will soon be deprecated.\n",
    "     |        activation: Activation function of the inner states.  Default: `tanh`.\n",
    "     |        reuse: (optional) Python boolean describing whether to reuse variables\n",
    "     |          in an existing scope.  If not `True`, and the existing scope already has\n",
    "     |          the given variables, an error is raised.\n",
    "     |      \n",
    "     |        When restoring from CudnnLSTM-trained checkpoints, must use\n",
    "     |        CudnnCompatibleLSTMCell instead."
   ]
  },
  {
   "cell_type": "markdown",
   "metadata": {},
   "source": [
    "### 2.2 tf.nn.dynamic_rnn\n",
    "\n",
    "dynamic_rnn(cell, inputs, sequence_length=None, initial_state=None, dtype=None, parallel_iterations=None, swap_memory=False, time_major=False, scope=None)\n",
    "    Creates a recurrent neural network specified by RNNCell `cell`.\n",
    "    \n",
    "    Performs fully dynamic unrolling of `inputs`.\n",
    "    \n",
    "    Example\n",
    "    \n",
    "    ```python\n",
    "    # create a BasicRNNCell\n",
    "    rnn_cell = tf.nn.rnn_cell.BasicRNNCell(hidden_size)\n",
    "    \n",
    "    # 'outputs' is a tensor of shape [batch_size, max_time, cell_state_size]\n",
    "    \n",
    "    # defining initial state\n",
    "    initial_state = rnn_cell.zero_state(batch_size, dtype=tf.float32)\n",
    "    \n",
    "    # 'state' is a tensor of shape [batch_size, cell_state_size]\n",
    "    outputs, state = tf.nn.dynamic_rnn(rnn_cell, input_data,\n",
    "                                       initial_state=initial_state,\n",
    "                                       dtype=tf.float32)\n",
    "                                      \n",
    "Returns:\n",
    "\n",
    "1. outputs: The RNN output `Tensor`.\n",
    "\n",
    "    If time_major == False (default), this will be a `Tensor` shaped:\n",
    "      `[batch_size, max_time, cell.output_size]`.\n",
    "\n",
    "    If time_major == True, this will be a `Tensor` shaped:\n",
    "      `[max_time, batch_size, cell.output_size]`.\n",
    "\n",
    "    Note, if `cell.output_size` is a (possibly nested) tuple of integers\n",
    "    or `TensorShape` objects, then `outputs` will be a tuple having the\n",
    "    same structure as `cell.output_size`, containing Tensors having shapes\n",
    "    corresponding to the shape data in `cell.output_size`.\n",
    "\n",
    "2. state:The final state.\n",
    "    If `cell.state_size` is an int, this will be shaped `[batch_size, cell.state_size]`.  If it is a\n",
    "    `TensorShape`, this will be shaped `[batch_size] + cell.state_size`.\n",
    "    If it is a (possibly nested) tuple of ints or `TensorShape`, this will\n",
    "    be a tuple having the corresponding shapes. If cells are `LSTMCells`\n",
    "    `state` will be a tuple containing a `LSTMStateTuple` for each cell.\n"
   ]
  },
  {
   "cell_type": "code",
   "execution_count": 3,
   "metadata": {
    "collapsed": true
   },
   "outputs": [],
   "source": [
    "def RNN(X, weights, biases):\n",
    "    # 原始的 X 是 3 维数据, 我们需要把它变成 2 维数据才能使用 weights 的矩阵乘法\n",
    "    # X ==> (128 batches * 28 steps, 28 inputs)\n",
    "    X = tf.reshape(X, [-1, n_inputs])\n",
    "\n",
    "    # X_in = W*X + b===3584*128\n",
    "    X_in = tf.matmul(X, weights['in']) + biases['in']\n",
    "    # X_in ==> (128 batches, 28 steps, 128 hidden) 换回3维\n",
    "    X_in = tf.reshape(X_in, [-1, n_steps, n_hidden_units])\n",
    "    # 使用 basic LSTM Cell.\n",
    "    lstm_cell = tf.contrib.rnn.BasicLSTMCell(n_hidden_units, forget_bias=1.0, state_is_tuple=True)\n",
    "    init_state = lstm_cell.zero_state(batch_size, dtype=tf.float32) # 初始化全零 state\n",
    "    outputs, final_state = tf.nn.dynamic_rnn(lstm_cell, X_in, initial_state=init_state, time_major=False)\n",
    "    #[batch_size, cell.state_size]\n",
    "    results = tf.matmul(final_state[1], weights['out']) + biases['out']\n",
    "    return results"
   ]
  },
  {
   "cell_type": "code",
   "execution_count": 4,
   "metadata": {},
   "outputs": [],
   "source": [
    "pred = RNN(x, weights, biases)\n",
    "cost = tf.reduce_mean(tf.nn.softmax_cross_entropy_with_logits(logits=pred, labels=y))\n",
    "train_op = tf.train.AdamOptimizer(lr).minimize(cost)"
   ]
  },
  {
   "cell_type": "code",
   "execution_count": 5,
   "metadata": {},
   "outputs": [
    {
     "name": "stdout",
     "output_type": "stream",
     "text": [
      "0 0.265625\n",
      "100 0.882813\n",
      "200 0.867188\n",
      "300 0.929688\n",
      "400 0.945313\n",
      "500 0.953125\n",
      "600 0.96875\n",
      "700 0.960938\n",
      "done\n"
     ]
    }
   ],
   "source": [
    "correct_pred = tf.equal(tf.argmax(pred, 1), tf.argmax(y, 1))\n",
    "accuracy = tf.reduce_mean(tf.cast(correct_pred, tf.float32))\n",
    "\n",
    "init = tf.global_variables_initializer()\n",
    "sess=tf.Session()\n",
    "\n",
    "sess.run(init)\n",
    "step = 0\n",
    "while step * batch_size < training_iters:\n",
    "    batch_xs, batch_ys = mnist.train.next_batch(batch_size)\n",
    "    batch_xs = batch_xs.reshape([batch_size, n_steps, n_inputs])\n",
    "    sess.run([train_op], feed_dict={\n",
    "        x: batch_xs,\n",
    "        y: batch_ys,\n",
    "    })\n",
    "    if step % 100 == 0:\n",
    "        print(step,sess.run(accuracy, feed_dict={\n",
    "        x: batch_xs,\n",
    "        y: batch_ys,\n",
    "    }))\n",
    "    step += 1\n",
    "print('done')"
   ]
  },
  {
   "cell_type": "markdown",
   "metadata": {},
   "source": [
    "### 5. 结果验证，时间序列？？必须相同维度"
   ]
  },
  {
   "cell_type": "code",
   "execution_count": 6,
   "metadata": {},
   "outputs": [
    {
     "name": "stdout",
     "output_type": "stream",
     "text": [
      "Testing Accuracy: 0.984375\n"
     ]
    }
   ],
   "source": [
    "test_len = 128\n",
    "test_data = mnist.test.images[:test_len].reshape((-1, n_steps, n_inputs))\n",
    "test_label = mnist.test.labels[:test_len]\n",
    "print (\"Testing Accuracy:\", \\\n",
    "       sess.run(accuracy, feed_dict={x: test_data, y: test_label}))\n"
   ]
  }
 ],
 "metadata": {
  "kernelspec": {
   "display_name": "Python 3",
   "language": "python",
   "name": "python3"
  },
  "language_info": {
   "codemirror_mode": {
    "name": "ipython",
    "version": 3
   },
   "file_extension": ".py",
   "mimetype": "text/x-python",
   "name": "python",
   "nbconvert_exporter": "python",
   "pygments_lexer": "ipython3",
   "version": "3.6.4"
  }
 },
 "nbformat": 4,
 "nbformat_minor": 2
}
