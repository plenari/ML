{
 "cells": [
  {
   "cell_type": "markdown",
   "metadata": {},
   "source": [
    "board"
   ]
  },
  {
   "cell_type": "raw",
   "metadata": {},
   "source": [
    "merged_summary_op = tf.merge_all_summaries()#z在这个位置汇总\n",
    "summary_writer = tf.train.SummaryWriter('/tmp/mnist_logs', sess.graph)#logdier,graph\n",
    "total_step = 0\n",
    "while training:\n",
    "  total_step += 1\n",
    "  session.run(training_op)\n",
    "  if total_step % 100 == 0:\n",
    "    summary_str = session.run(merged_summary_op)\n",
    "    summary_writer.add_summary(summary_str, total_step)\n",
    "    "
   ]
  }
 ],
 "metadata": {
  "kernelspec": {
   "display_name": "Python 3",
   "language": "python",
   "name": "python3"
  },
  "language_info": {
   "codemirror_mode": {
    "name": "ipython",
    "version": 3
   },
   "file_extension": ".py",
   "mimetype": "text/x-python",
   "name": "python",
   "nbconvert_exporter": "python",
   "pygments_lexer": "ipython3",
   "version": "3.6.1"
  }
 },
 "nbformat": 4,
 "nbformat_minor": 2
}
