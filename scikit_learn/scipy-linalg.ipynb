{
 "cells": [
  {
   "cell_type": "code",
   "execution_count": 1,
   "metadata": {
    "collapsed": true
   },
   "outputs": [],
   "source": [
    "import numpy as np\n",
    "from scipy import linalg\n"
   ]
  },
  {
   "cell_type": "code",
   "execution_count": 2,
   "metadata": {},
   "outputs": [
    {
     "data": {
      "text/plain": [
       "(array([  1.48833326e+04 +0.00000000e+00j,\n",
       "          2.66674146e+01 +0.00000000e+00j,\n",
       "          5.69898646e-13 +0.00000000e+00j,\n",
       "         -2.83125331e-14 +6.64401253e-14j,\n",
       "         -2.83125331e-14 -6.64401253e-14j,  -2.39095770e-14 +0.00000000e+00j]),\n",
       " array([[-0.05255297+0.j        ,  0.72183635+0.j        ,\n",
       "          0.10265574+0.j        , -0.42694537+0.10699567j,\n",
       "         -0.42694537-0.10699567j, -0.05684334+0.j        ],\n",
       "        [-0.17270437+0.j        ,  0.51518084+0.j        ,\n",
       "          0.01618342+0.j        ,  0.06365469-0.32233467j,\n",
       "          0.06365469+0.32233467j,  0.32981073+0.j        ],\n",
       "        [-0.29285577+0.j        ,  0.30852533+0.j        ,\n",
       "          0.10567529+0.j        ,  0.64216882+0.j        ,\n",
       "          0.64216882-0.j        , -0.43565582+0.j        ],\n",
       "        [-0.41300717+0.j        ,  0.10186983+0.j        ,\n",
       "         -0.05975991+0.j        ,  0.04500065+0.23371871j,\n",
       "          0.04500065-0.23371871j,  0.44634837+0.j        ],\n",
       "        [-0.53315857+0.j        , -0.10478568+0.j        ,\n",
       "         -0.77551844+0.j        , -0.13639967+0.28692291j,\n",
       "         -0.13639967-0.28692291j, -0.62075553+0.j        ],\n",
       "        [-0.65330996+0.j        , -0.31144119+0.j        ,\n",
       "          0.61076389+0.j        , -0.18747912-0.30530262j,\n",
       "         -0.18747912+0.30530262j,  0.33709558+0.j        ]]))"
      ]
     },
     "execution_count": 2,
     "metadata": {},
     "output_type": "execute_result"
    }
   ],
   "source": [
    "a=np.arange(36).reshape(6,6)\n",
    "linalg.eig(a.dot(a.T))#特征值，特征向量"
   ]
  },
  {
   "cell_type": "code",
   "execution_count": 3,
   "metadata": {},
   "outputs": [
    {
     "name": "stdout",
     "output_type": "stream",
     "text": [
      "True\n"
     ]
    }
   ],
   "source": [
    "m,n=10,10#方针才可以求逆\n",
    "A=np.random.rand(m,n)\n",
    "B=np.random.rand(m,1)\n",
    "x1=linalg.solve(A,B)#solve ax=b,faster\n",
    "x2=np.dot(linalg.inv(A),B)#x=a-1*b,slower\n",
    "print(np.allclose(x1,x2))#\n"
   ]
  },
  {
   "cell_type": "code",
   "execution_count": 4,
   "metadata": {},
   "outputs": [
    {
     "data": {
      "text/plain": [
       "True"
      ]
     },
     "execution_count": 4,
     "metadata": {},
     "output_type": "execute_result"
    }
   ],
   "source": [
    "#lu 分解\n",
    "luf=linalg.lu_factor(A)\n",
    "x3=linalg.lu_solve(luf,B)\n",
    "np.allclose(x1,x3)"
   ]
  },
  {
   "cell_type": "code",
   "execution_count": 5,
   "metadata": {},
   "outputs": [
    {
     "data": {
      "text/plain": [
       "array([[ 0.96791203,  0.22328524,  0.22441649,  0.85268333,  0.08156653,\n",
       "         0.15654591,  0.39263851,  0.74840003,  0.4160021 ,  0.89673368],\n",
       "       [ 0.71274002,  0.81565239,  0.13244489, -0.13611805,  0.03335979,\n",
       "        -0.02205981,  0.29660569, -0.06011774,  0.02740368, -0.06271686],\n",
       "       [ 0.1548519 ,  0.07696042,  0.88875507,  0.50727963,  0.14808666,\n",
       "         0.85607906,  0.32280673,  0.53620415,  0.83388353,  0.40607045],\n",
       "       [ 0.91143681,  0.19789524,  0.40351257, -0.8500011 ,  0.42087757,\n",
       "        -0.16766242,  0.40725717, -0.67765161, -0.11579877, -0.90699147],\n",
       "       [ 0.34355007,  0.76295728, -0.06824961, -0.12938179,  0.92272443,\n",
       "         0.83295474,  0.28010379,  0.40458711,  0.79175062,  0.57142025],\n",
       "       [ 0.27570074,  0.88937532,  0.61126261, -0.6654824 ,  0.73068297,\n",
       "        -0.54494165,  0.39212636, -0.71137199, -1.18506926, -0.89922807],\n",
       "       [ 0.78815261,  0.44785231,  0.81589208,  0.29025842,  0.04142352,\n",
       "         0.69887063, -0.92473262,  0.01188001,  0.20568953,  0.64284689],\n",
       "       [ 0.72159446,  0.79532701, -0.25461875, -0.34508728,  0.67557703,\n",
       "         0.53678538, -0.02219294,  0.50812996,  0.39998824, -0.1854756 ],\n",
       "       [ 0.92516635, -0.21484962,  0.49068763,  0.44537012,  0.43811059,\n",
       "        -0.09349654, -0.05378411, -0.74656596, -0.86524579, -0.99800249],\n",
       "       [ 0.58385908, -0.15399727,  0.16986717, -0.09457638,  0.48810562,\n",
       "         0.52936115, -0.48607921,  0.91092057, -0.51208589,  0.21509976]])"
      ]
     },
     "execution_count": 5,
     "metadata": {},
     "output_type": "execute_result"
    }
   ],
   "source": [
    "luf[0]"
   ]
  },
  {
   "cell_type": "markdown",
   "metadata": {},
   "source": [
    "## 最小二乘法\n",
    " ### lstsq,"
   ]
  },
  {
   "cell_type": "code",
   "execution_count": 6,
   "metadata": {
    "collapsed": true
   },
   "outputs": [],
   "source": [
    "linalg.lstsq?"
   ]
  },
  {
   "cell_type": "markdown",
   "metadata": {},
   "source": [
    "## 特征值，eig"
   ]
  },
  {
   "cell_type": "code",
   "execution_count": 7,
   "metadata": {},
   "outputs": [
    {
     "data": {
      "text/plain": [
       "(array([ 5.46189026+0.j        , -0.70805556+0.j        ,\n",
       "        -0.25678862+0.68746567j, -0.25678862-0.68746567j,\n",
       "         0.13589589+0.77643424j,  0.13589589-0.77643424j,\n",
       "         0.91813423+0.j        ,  0.54285439+0.j        ,\n",
       "        -0.17233806+0.10470077j, -0.17233806-0.10470077j]),\n",
       " array([[ 0.34243421+0.j        ,  0.28139765+0.j        ,\n",
       "         -0.19538301+0.09974316j, -0.19538301-0.09974316j,\n",
       "         -0.05801598+0.06758749j, -0.05801598-0.06758749j,\n",
       "          0.21226221+0.j        , -0.08404496+0.j        ,\n",
       "         -0.09476265+0.00199816j, -0.09476265-0.00199816j],\n",
       "        [ 0.26364799+0.j        ,  0.17663542+0.j        ,\n",
       "          0.11758111-0.01091384j,  0.11758111+0.01091384j,\n",
       "          0.18406337-0.23481295j,  0.18406337+0.23481295j,\n",
       "         -0.07430446+0.j        ,  0.03470520+0.j        ,\n",
       "         -0.07513548-0.00531059j, -0.07513548+0.00531059j],\n",
       "        [ 0.30923796+0.j        ,  0.11010866+0.j        ,\n",
       "          0.06855624-0.03887351j,  0.06855624+0.03887351j,\n",
       "          0.05714172+0.28075642j,  0.05714172-0.28075642j,\n",
       "         -0.27748458+0.j        , -0.14369115+0.j        ,\n",
       "          0.33914340+0.04991392j,  0.33914340-0.04991392j],\n",
       "        [ 0.35624211+0.j        ,  0.05434106+0.j        ,\n",
       "         -0.22271926-0.2052652j , -0.22271926+0.2052652j ,\n",
       "          0.01508166-0.37360217j,  0.01508166+0.37360217j,\n",
       "         -0.56762454+0.j        ,  0.68826328+0.j        ,\n",
       "         -0.48955784+0.j        , -0.48955784-0.j        ],\n",
       "        [ 0.29790018+0.j        , -0.31362865+0.j        ,\n",
       "         -0.21516075+0.3400802j , -0.21516075-0.3400802j ,\n",
       "         -0.21226450+0.14480474j, -0.21226450-0.14480474j,\n",
       "          0.26202678+0.j        , -0.09389094+0.j        ,\n",
       "         -0.06004387+0.11185751j, -0.06004387-0.11185751j],\n",
       "        [ 0.32158250+0.j        , -0.05103002+0.j        ,\n",
       "          0.12515799+0.36500907j,  0.12515799-0.36500907j,\n",
       "         -0.08633535+0.16410189j, -0.08633535-0.16410189j,\n",
       "         -0.17248213+0.j        ,  0.03207360+0.j        ,\n",
       "         -0.14501236-0.05197966j, -0.14501236+0.05197966j],\n",
       "        [ 0.31556319+0.j        , -0.26529723+0.j        ,\n",
       "          0.29216412-0.28450103j,  0.29216412+0.28450103j,\n",
       "          0.51032482+0.j        ,  0.51032482-0.j        ,\n",
       "         -0.26185753+0.j        ,  0.27830624+0.j        ,\n",
       "          0.26396937-0.13438813j,  0.26396937+0.13438813j],\n",
       "        [ 0.35182736+0.j        ,  0.65460005+0.j        ,\n",
       "          0.45418741+0.j        ,  0.45418741-0.j        ,\n",
       "         -0.14490425+0.34715066j, -0.14490425-0.34715066j,\n",
       "          0.51665319+0.j        , -0.60256229+0.j        ,\n",
       "          0.24785506+0.18769249j,  0.24785506-0.18769249j],\n",
       "        [ 0.26166466+0.j        , -0.28517581+0.j        ,\n",
       "         -0.31586398+0.03005973j, -0.31586398-0.03005973j,\n",
       "         -0.24169875-0.31418053j, -0.24169875+0.31418053j,\n",
       "          0.03809830+0.j        ,  0.01505341+0.j        ,\n",
       "         -0.45255129+0.02621035j, -0.45255129-0.02621035j],\n",
       "        [ 0.32665145+0.j        , -0.43972985+0.j        ,\n",
       "         -0.18559700-0.14639651j, -0.18559700+0.14639651j,\n",
       "         -0.12540563-0.07713557j, -0.12540563+0.07713557j,\n",
       "          0.33892301+0.j        , -0.21626833+0.j        ,\n",
       "          0.41839060-0.15289603j,  0.41839060+0.15289603j]]))"
      ]
     },
     "execution_count": 7,
     "metadata": {},
     "output_type": "execute_result"
    }
   ],
   "source": [
    "evalues,evector=linalg.eig(A)\n",
    "evalues,evector"
   ]
  },
  {
   "cell_type": "markdown",
   "metadata": {},
   "source": [
    "## 奇异值分解，svd ,linalg.svd\n",
    "#### 提取有用信息，可以按照用无用信息提取\n"
   ]
  },
  {
   "cell_type": "code",
   "execution_count": null,
   "metadata": {},
   "outputs": [
    {
     "data": {
      "text/plain": [
       "(2880, 2912)"
      ]
     },
     "execution_count": 8,
     "metadata": {},
     "output_type": "execute_result"
    }
   ],
   "source": [
    "from scipy.misc import imread\n",
    "r,g,b=np.rollaxis(imread('CD28.jpg'),2).astype(float)\n",
    "img=0.2829*r+0.5870*g+0.1140*b\n",
    "img.shape"
   ]
  },
  {
   "cell_type": "code",
   "execution_count": null,
   "metadata": {},
   "outputs": [],
   "source": [
    "U,s,Vh=linalg.svd(img)\n",
    "U.shape,s.shape,Vh.shape"
   ]
  },
  {
   "cell_type": "code",
   "execution_count": null,
   "metadata": {},
   "outputs": [],
   "source": [
    "import matplotlib.pyplot as plt"
   ]
  },
  {
   "cell_type": "code",
   "execution_count": null,
   "metadata": {},
   "outputs": [],
   "source": [
    "plt.plot(s,lw=3)\n",
    "plt.show()"
   ]
  },
  {
   "cell_type": "markdown",
   "metadata": {},
   "source": [
    "#### 一共有2000个特征，可是只有前边几个有用，后边的效果很不明显。\n",
    "#### U*s*Vh"
   ]
  },
  {
   "cell_type": "code",
   "execution_count": null,
   "metadata": {
    "collapsed": true
   },
   "outputs": [],
   "source": [
    "def composite(U,s,Vh,n):\n",
    "    return np.dot(U[:,:n],s[:n,np.newaxis]*Vh[:n,:])#怎么想乘的呢？\n"
   ]
  },
  {
   "cell_type": "code",
   "execution_count": null,
   "metadata": {},
   "outputs": [],
   "source": [
    "np.allclose(img,composite(U,s,Vh,len(s)))"
   ]
  },
  {
   "cell_type": "code",
   "execution_count": null,
   "metadata": {},
   "outputs": [],
   "source": [
    "img5=composite(U,s,Vh,5)\n",
    "img50=composite(U,s,Vh,50)\n",
    "img100=composite(U,s,Vh,100)\n",
    "plt.imshow(img)\n",
    "plt.show()\n",
    "plt.imshow(img5)\n",
    "plt.show()\n",
    "plt.imshow(img50)\n",
    "plt.show()"
   ]
  },
  {
   "cell_type": "code",
   "execution_count": null,
   "metadata": {},
   "outputs": [],
   "source": [
    "plt.imshow(img100)\n",
    "plt.show()"
   ]
  },
  {
   "cell_type": "code",
   "execution_count": null,
   "metadata": {},
   "outputs": [],
   "source": [
    "img50.shape       "
   ]
  },
  {
   "cell_type": "markdown",
   "metadata": {},
   "source": [
    "### 统计-stats"
   ]
  },
  {
   "cell_type": "code",
   "execution_count": null,
   "metadata": {},
   "outputs": [],
   "source": [
    "from scipy.stats import norm\n"
   ]
  },
  {
   "cell_type": "markdown",
   "metadata": {},
   "source": [
    "它包含四类常用的函数：\n",
    "\n",
    "- `norm.cdf` 返回对应的[累计分布函数](https://zh.wikipedia.org/wiki/%E7%B4%AF%E7%A7%AF%E5%88%86%E5%B8%83%E5%87%BD%E6%95%B0)值\n",
    "- `norm.pdf` 返回对应的[概率密度函数](https://zh.wikipedia.org/wiki/%E6%A9%9F%E7%8E%87%E5%AF%86%E5%BA%A6%E5%87%BD%E6%95%B8)值\n",
    "- `norm.rvs` 产生指定参数的随机变量\n",
    "- `norm.fit` 返回给定数据下，各参数的[最大似然估计](https://zh.wikipedia.org/wiki/%E6%9C%80%E5%A4%A7%E4%BC%BC%E7%84%B6%E4%BC%B0%E8%AE%A1)（MLE）值\n",
    "\n",
    "从正态分布产生500个随机点："
   ]
  },
  {
   "cell_type": "code",
   "execution_count": null,
   "metadata": {},
   "outputs": [],
   "source": [
    "x=norm.rvs(size=500)\n",
    "type(x)"
   ]
  },
  {
   "cell_type": "code",
   "execution_count": null,
   "metadata": {},
   "outputs": [],
   "source": [
    "h=plt.hist(x)"
   ]
  },
  {
   "cell_type": "code",
   "execution_count": null,
   "metadata": {},
   "outputs": [],
   "source": [
    "h=plt.hist(x,normed=True,bins=20)"
   ]
  },
  {
   "cell_type": "code",
   "execution_count": null,
   "metadata": {},
   "outputs": [],
   "source": [
    "x_mean,x_std=norm.fit(x)\n",
    "x_mean,x_std"
   ]
  },
  {
   "cell_type": "code",
   "execution_count": null,
   "metadata": {},
   "outputs": [],
   "source": [
    "h=plt.hist(x,normed=True,bins=20)\n",
    "xx=np.linspace(-3,3,100)\n",
    "p=plt.plot(xx,norm.pdf(xx),'r-')"
   ]
  },
  {
   "cell_type": "markdown",
   "metadata": {},
   "source": [
    "### 不定积分"
   ]
  },
  {
   "cell_type": "code",
   "execution_count": null,
   "metadata": {},
   "outputs": [],
   "source": [
    "from scipy.integrate import trapz"
   ]
  },
  {
   "cell_type": "code",
   "execution_count": null,
   "metadata": {},
   "outputs": [],
   "source": [
    "p=trapz(norm.pdf(xx),xx)\n",
    "p"
   ]
  },
  {
   "cell_type": "code",
   "execution_count": null,
   "metadata": {},
   "outputs": [],
   "source": [
    "plt.fill_between(xx, norm.pdf(xx), color = 'red')\n",
    "\n"
   ]
  },
  {
   "cell_type": "code",
   "execution_count": null,
   "metadata": {},
   "outputs": [],
   "source": [
    "x=np.linspace(-5,5,100)\n",
    "p = plt.plot(x, norm.pdf(x, loc=0, scale=1))\n",
    "p = plt.plot(x, norm.pdf(x, loc=0.5, scale=2))\n",
    "p = plt.plot(x, norm.pdf(x, loc=-0.5, scale=.5))"
   ]
  },
  {
   "cell_type": "markdown",
   "metadata": {},
   "source": [
    "### 其他连续分布"
   ]
  },
  {
   "cell_type": "code",
   "execution_count": null,
   "metadata": {
    "collapsed": true
   },
   "outputs": [],
   "source": [
    "from scipy.stats import lognorm, t, dweibull\n",
    "#对数正态分布，t分布，韦氏分布"
   ]
  },
  {
   "cell_type": "code",
   "execution_count": null,
   "metadata": {},
   "outputs": [],
   "source": [
    " x = np.linspace(0.01, 3, 100)\n",
    " \n",
    "plt.plot(x, dweibull.pdf(x, 1), label='s=1, constant failure rate')\n",
    "plt.plot(x, dweibull.pdf(x, 2), label='s>1, increasing failure rate')\n",
    "plt.plot(x, dweibull.pdf(x, .1), label='0<s<1, decreasing failure rate')\n",
    "plt.legend() \n",
    "plt.show()"
   ]
  },
  {
   "cell_type": "code",
   "execution_count": null,
   "metadata": {},
   "outputs": [],
   "source": [
    "x = np.linspace(-3, 3, 100)\n",
    "\n",
    "plt.plot(x, t.pdf(x, 1), label='df=1')\n",
    "plt.plot(x, t.pdf(x, 2), label='df=2')\n",
    "plt.plot(x, t.pdf(x, 100), label='df=100')\n",
    "plt.plot(x[::5], norm.pdf(x[::5]), 'kx', label='normal')\n",
    "plt.legend()\n",
    "plt.show()\n"
   ]
  },
  {
   "cell_type": "markdown",
   "metadata": {},
   "source": [
    "### 离散分布"
   ]
  },
  {
   "cell_type": "code",
   "execution_count": null,
   "metadata": {
    "collapsed": true
   },
   "outputs": [],
   "source": [
    "from scipy.stats import binom, poisson, randint\n",
    "#二项分布，泊松分布，随机数"
   ]
  },
  {
   "cell_type": "code",
   "execution_count": null,
   "metadata": {},
   "outputs": [],
   "source": [
    "#二项分布\n",
    "num_trials = 60\n",
    "x = np.arange(num_trials)\n",
    "\n",
    "plt.plot(x, binom(num_trials, 0.5).pmf(x), 'o-', label='p=0.5')\n",
    "plt.plot(x, binom(num_trials, 0.2).pmf(x), 'o-', label='p=0.2')\n",
    "plt.legend()\n",
    "plt.show()"
   ]
  },
  {
   "cell_type": "markdown",
   "metadata": {},
   "source": [
    "\n",
    "\n",
    "### 自定义离散分布\n",
    "导入函数"
   ]
  },
  {
   "cell_type": "code",
   "execution_count": null,
   "metadata": {
    "collapsed": true
   },
   "outputs": [],
   "source": [
    "from scipy.stats import rv_discrete\n",
    "xk=[1,2,3,4,5,6]\n",
    "pk=[0.3,0.35,0.25,0.05,0.025,0.025]"
   ]
  },
  {
   "cell_type": "code",
   "execution_count": null,
   "metadata": {},
   "outputs": [],
   "source": [
    "loaded=rv_discrete(values=(xk,pk))\n",
    "loaded.rvs(size=2)"
   ]
  },
  {
   "cell_type": "code",
   "execution_count": null,
   "metadata": {},
   "outputs": [],
   "source": [
    "rv_y=loaded.rvs(size=100)\n",
    "plt.hist(rv_y)\n",
    "plt.show()"
   ]
  },
  {
   "cell_type": "markdown",
   "metadata": {},
   "source": [
    "### 假设检验\n"
   ]
  }
 ],
 "metadata": {
  "kernelspec": {
   "display_name": "Python 3",
   "language": "python",
   "name": "python3"
  },
  "language_info": {
   "codemirror_mode": {
    "name": "ipython",
    "version": 3
   },
   "file_extension": ".py",
   "mimetype": "text/x-python",
   "name": "python",
   "nbconvert_exporter": "python",
   "pygments_lexer": "ipython3",
   "version": "3.6.1"
  }
 },
 "nbformat": 4,
 "nbformat_minor": 2
}
