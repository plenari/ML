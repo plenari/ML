{
 "cells": [
  {
   "cell_type": "code",
   "execution_count": 41,
   "metadata": {
    "collapsed": true
   },
   "outputs": [],
   "source": [
    "from scipy import stats\n",
    "import matplotlib.pyplot as plt\n",
    "import numpy as np\n",
    "%matplotlib inline\n",
    "import seaborn"
   ]
  },
  {
   "cell_type": "markdown",
   "metadata": {},
   "source": [
    "#### 单样本 t-检验: 检验总体平均数的值"
   ]
  },
  {
   "cell_type": "markdown",
   "metadata": {},
   "source": [
    "    一般而言，把要检验的假设称之为原假设，记为H0；把与H0相对应（相反）的假设称之为备择假设，记为H1。\n",
    "         如果原假设为真，而检验的结论却劝你放弃原假设。此时，我们把这种错误称之为第一类错误。通常把第一类错误出现的概率记为α\n",
    "         如果原假设不真，而检验的结论却劝你不放弃原假设。此时，我们把这种错误称之为第二类错误。通常把第二类错误出现的概率记为β\n",
    "         通常只限定犯第一类错误的最大概率α， 不考虑犯第二类错误的概率β。我们把这样的假设检验称为显著性检验，概率α称为显著性水平。显著性水平是数学界约定俗成的，一般有α =0.05,0.025.0.01这三种情况。代表着显著性检验的结论错误率必须低于5%或2.5%或1%（统计学中，通常把在现实世界中发生几率小于5%的事件称之为“不可能事件”）。（以上这一段话实际上讲授了显著性检验与统计假设检验的关系）"
   ]
  },
  {
   "cell_type": "markdown",
   "metadata": {},
   "source": [
    "scipy.stats.ttest_1samp()检验数据总体的平均数是否可能等于给定值 (严格来说是否观察值来自于给定总体平均数的正态分布)。它返回一个T统计值以及p-值 (见函数的帮助):"
   ]
  },
  {
   "cell_type": "raw",
   "metadata": {},
   "source": [
    "stats.norm.rvs(mean ,std，size)"
   ]
  },
  {
   "cell_type": "code",
   "execution_count": 42,
   "metadata": {},
   "outputs": [],
   "source": [
    "rvs = stats.norm.rvs(loc=0, scale=1, size=(50))"
   ]
  },
  {
   "cell_type": "code",
   "execution_count": 49,
   "metadata": {
    "scrolled": false
   },
   "outputs": [
    {
     "data": {
      "text/plain": [
       "(array([2., 5., 4., 8., 9., 6., 5., 6., 3., 2.]),\n",
       " array([-2.38875577, -1.88953172, -1.39030768, -0.89108363, -0.39185958,\n",
       "         0.10736447,  0.60658852,  1.10581256,  1.60503661,  2.10426066,\n",
       "         2.60348471]),\n",
       " <a list of 10 Patch objects>)"
      ]
     },
     "execution_count": 49,
     "metadata": {},
     "output_type": "execute_result"
    },
    {
     "data": {
      "image/png": "[encoded data removed]",
      "text/plain": [
       "<matplotlib.figure.Figure at 0x230c82d94e0>"
      ]
     },
     "metadata": {},
     "output_type": "display_data"
    }
   ],
   "source": [
    "plt.hist(rvs)"
   ]
  },
  {
   "cell_type": "markdown",
   "metadata": {
    "collapsed": true
   },
   "source": [
    "#### 如果p>0.05就认为没有显著差别"
   ]
  },
  {
   "cell_type": "code",
   "execution_count": 9,
   "metadata": {},
   "outputs": [
    {
     "data": {
      "text/plain": [
       "Ttest_1sampResult(statistic=-1.6665727225192535, pvalue=0.10198001846200694)"
      ]
     },
     "execution_count": 9,
     "metadata": {},
     "output_type": "execute_result"
    }
   ],
   "source": [
    "stats.ttest_1samp(rvs,0.3)"
   ]
  },
  {
   "cell_type": "markdown",
   "metadata": {},
   "source": [
    "#### 灯泡的问题"
   ]
  },
  {
   "cell_type": "raw",
   "metadata": {},
   "source": [
    "假设灯泡符合N(u,200**2)的正态分布，新抽取的25个灯泡的平均值是1655，那么可以认为现在灯泡寿命增长了吗？都抽到好的手命的概率。H0，还是原来的分布\n",
    "p{拒绝H0|H0为真}=alpha，如果这个值很小，就应该接受H0"
   ]
  },
  {
   "cell_type": "raw",
   "metadata": {},
   "source": [
    "我们用统计量{}{}{},来归一化为（0,1）的正态分布、"
   ]
  },
  {
   "cell_type": "raw",
   "metadata": {},
   "source": [
    "在上一个正态分布中x~>1655的概率非常小"
   ]
  },
  {
   "cell_type": "code",
   "execution_count": 18,
   "metadata": {},
   "outputs": [
    {
     "data": {
      "text/plain": [
       "Ttest_1sampResult(statistic=0.17209716419796067, pvalue=0.8648041111738769)"
      ]
     },
     "execution_count": 18,
     "metadata": {},
     "output_type": "execute_result"
    }
   ],
   "source": [
    "stats.ttest_1samp(rvs,1660)"
   ]
  },
  {
   "cell_type": "markdown",
   "metadata": {
    "collapsed": true
   },
   "source": [
    "#### 双样本 t-检验: 检验不同总体的差异"
   ]
  },
  {
   "cell_type": "markdown",
   "metadata": {},
   "source": [
    "    ttest_ind(a, b, axis=0, equal_var=True, nan_policy='propagate')\n",
    "        Calculates the T-test for the means of *two independent* samples of scores.\n",
    "\n",
    "        This is a two-sided test for the null hypothesis that 2 independent samples\n",
    "        have identical average (expected) values. This test assumes that the\n",
    "        populations have identical variances by default."
   ]
  },
  {
   "cell_type": "code",
   "execution_count": 29,
   "metadata": {
    "collapsed": true
   },
   "outputs": [],
   "source": [
    "male = stats.norm.rvs(loc=170, scale=20, size=(25))\n",
    "female = stats.norm.rvs(loc=160, scale=10, size=(25))"
   ]
  },
  {
   "cell_type": "code",
   "execution_count": 30,
   "metadata": {},
   "outputs": [
    {
     "data": {
      "text/plain": [
       "Ttest_indResult(statistic=-1.5506684725630846, pvalue=0.12755016149484083)"
      ]
     },
     "execution_count": 30,
     "metadata": {},
     "output_type": "execute_result"
    }
   ],
   "source": [
    "stats.ttest_ind(female, male)"
   ]
  },
  {
   "cell_type": "markdown",
   "metadata": {},
   "source": [
    "#### 配对实验: 同一个体的重复测量"
   ]
  },
  {
   "cell_type": "markdown",
   "metadata": {
    "collapsed": true
   },
   "source": [
    "    ttest_rel(a, b, axis=0, nan_policy='propagate')\n",
    "        Calculates the T-test on TWO RELATED samples of scores, a and b.\n",
    "\n",
    "        This is a two-sided test for the null hypothesis that 2 related or\n",
    "        repeated samples have identical average (expected) values."
   ]
  },
  {
   "cell_type": "markdown",
   "metadata": {
    "collapsed": true
   },
   "source": [
    "### seaborn"
   ]
  },
  {
   "cell_type": "raw",
   "metadata": {},
   "source": [
    "使用seaborn.pairplot()来显示散点矩阵我们可以很轻松的对连续变量之间的交互有一个直觉"
   ]
  },
  {
   "cell_type": "raw",
   "metadata": {},
   "source": [
    "lmplot: 绘制一个单变量回归\n",
    "seaborn.lmplot(y='WAGE', x='EDUCATION', data=data)"
   ]
  }
 ],
 "metadata": {
  "kernelspec": {
   "display_name": "Python 3",
   "language": "python",
   "name": "python3"
  },
  "language_info": {
   "codemirror_mode": {
    "name": "ipython",
    "version": 3
   },
   "file_extension": ".py",
   "mimetype": "text/x-python",
   "name": "python",
   "nbconvert_exporter": "python",
   "pygments_lexer": "ipython3",
   "version": "3.6.1"
  }
 },
 "nbformat": 4,
 "nbformat_minor": 2
}
