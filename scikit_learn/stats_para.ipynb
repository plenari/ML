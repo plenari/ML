{
 "cells": [
  {
   "cell_type": "raw",
   "metadata": {
    "collapsed": true
   },
   "source": [
    "监督学习算法，n个特征，和对应例子的标签，进行预测。\n",
    "半监督学习，有的有标签，有的没有标签。\n",
    "半监督学习，有的有标签，有的没有标签。\n",
    "统计是概率问题的逆运算。"
   ]
  },
  {
   "cell_type": "markdown",
   "metadata": {},
   "source": [
    "### 1. 统计量，\n",
    "#### 2. 期望,概率加权下的平均值，\n",
    "    两个数据独立，则P(AB)=P(A)P(B)\n",
    "#### 3. 方差，值与期望误差的平方的平均值\n",
    "    Var(kx)=k*kVar(x)\n",
    "    XY独立则，var(x+y)=var(x)+var(y)\n",
    "#### 4. 协方差，相关系数\n",
    "    cov(x,y)=E(xy)-E(x)E(y)\n",
    "    xy不相关，Cov(x,y)=0\n",
    "    cov(x,y)>0,x,y变化趋势相同，\n",
    "    cov(x,y)<0,x,y,变化趋势想反\n"
   ]
  },
  {
   "cell_type": "markdown",
   "metadata": {},
   "source": [
    "    协方差的上界，\n",
    "    var(x)=d1,var(y)=d2\n",
    "    |cov(x,y)|<=sqrt(d1*d2)\n"
   ]
  },
  {
   "cell_type": "markdown",
   "metadata": {},
   "source": [
    "p_xy=(cov(x,y))/(sqet(var(x)*var(y)))"
   ]
  },
  {
   "cell_type": "code",
   "execution_count": 5,
   "metadata": {},
   "outputs": [
    {
     "name": "stdout",
     "output_type": "stream",
     "text": [
      "Using matplotlib backend: Qt5Agg\n",
      "Populating the interactive namespace from numpy and matplotlib\n"
     ]
    }
   ],
   "source": [
    "%pylab\n",
    "%matplotlib inline"
   ]
  },
  {
   "cell_type": "code",
   "execution_count": 2,
   "metadata": {},
   "outputs": [
    {
     "data": {
      "text/plain": [
       "(5, 5)"
      ]
     },
     "execution_count": 2,
     "metadata": {},
     "output_type": "execute_result"
    }
   ],
   "source": [
    "a=random.rand(5,5)\n",
    "a.shape"
   ]
  },
  {
   "cell_type": "code",
   "execution_count": 7,
   "metadata": {},
   "outputs": [
    {
     "data": {
      "image/png": "[encoded data removed]",
      "text/plain": [
       "<matplotlib.figure.Figure at 0x1d175206a58>"
      ]
     },
     "metadata": {},
     "output_type": "display_data"
    }
   ],
   "source": [
    "plt.hist(a.flatten())\n",
    "plt.show()"
   ]
  },
  {
   "cell_type": "code",
   "execution_count": 8,
   "metadata": {},
   "outputs": [
    {
     "data": {
      "text/plain": [
       "array([[ 0.13087024,  0.04051501, -0.01370601,  0.01921397, -0.06023937],\n",
       "       [ 0.04051501,  0.03277669, -0.01352357, -0.01635983, -0.0137351 ],\n",
       "       [-0.01370601, -0.01352357,  0.02567556, -0.01774516,  0.00046679],\n",
       "       [ 0.01921397, -0.01635983, -0.01774516,  0.06157464, -0.00875932],\n",
       "       [-0.06023937, -0.0137351 ,  0.00046679, -0.00875932,  0.03123442]])"
      ]
     },
     "execution_count": 8,
     "metadata": {},
     "output_type": "execute_result"
    }
   ],
   "source": [
    "cov(a)#协方差矩阵，与维度形同"
   ]
  },
  {
   "cell_type": "code",
   "execution_count": 9,
   "metadata": {},
   "outputs": [
    {
     "data": {
      "text/plain": [
       "array(0.03123442)"
      ]
     },
     "execution_count": 9,
     "metadata": {},
     "output_type": "execute_result"
    }
   ],
   "source": [
    "cov(a[4])"
   ]
  },
  {
   "cell_type": "markdown",
   "metadata": {
    "collapsed": true
   },
   "source": [
    "#### 协方差C=(x.T*x)/n;x减去每一列的平均值。不太对。"
   ]
  },
  {
   "cell_type": "code",
   "execution_count": 10,
   "metadata": {},
   "outputs": [
    {
     "data": {
      "text/plain": [
       "array([0.39389415, 0.45736232, 0.57157298, 0.44354828, 0.42506676])"
      ]
     },
     "execution_count": 10,
     "metadata": {},
     "output_type": "execute_result"
    }
   ],
   "source": [
    "a2=a-a.mean(axis=0)\n",
    "a.mean(axis=0)"
   ]
  },
  {
   "cell_type": "code",
   "execution_count": 11,
   "metadata": {},
   "outputs": [
    {
     "data": {
      "text/plain": [
       "array([[ 0.04231661,  0.04281443, -0.03754118,  0.01907859,  0.03335259],\n",
       "       [ 0.04281443,  0.10560635, -0.0134227 ,  0.07400334,  0.03417846],\n",
       "       [-0.03754118, -0.0134227 ,  0.05521769, -0.01141265, -0.04313869],\n",
       "       [ 0.01907859,  0.07400334, -0.01141265,  0.08024616,  0.03388732],\n",
       "       [ 0.03335259,  0.03417846, -0.04313869,  0.03388732,  0.04176723]])"
      ]
     },
     "execution_count": 11,
     "metadata": {},
     "output_type": "execute_result"
    }
   ],
   "source": [
    "a2.T.dot(a2)/5"
   ]
  },
  {
   "cell_type": "markdown",
   "metadata": {},
   "source": [
    "jensen 函数\n",
    "f(ax+(1-a)y)<af(x)+(1-a)f(y)"
   ]
  }
 ],
 "metadata": {
  "kernelspec": {
   "display_name": "Python 3",
   "language": "python",
   "name": "python3"
  },
  "language_info": {
   "codemirror_mode": {
    "name": "ipython",
    "version": 3
   },
   "file_extension": ".py",
   "mimetype": "text/x-python",
   "name": "python",
   "nbconvert_exporter": "python",
   "pygments_lexer": "ipython3",
   "version": "3.6.1"
  }
 },
 "nbformat": 4,
 "nbformat_minor": 2
}
