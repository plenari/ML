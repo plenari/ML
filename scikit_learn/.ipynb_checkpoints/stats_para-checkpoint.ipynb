{
 "cells": [
  {
   "cell_type": "markdown",
   "metadata": {
    "collapsed": true
   },
   "source": [
    "监督学习算法，n个特征，和对应例子的标签，进行预测。"
   ]
  },
  {
   "cell_type": "markdown",
   "metadata": {},
   "source": [
    "无监督学习算法那，有特征没有标签。"
   ]
  },
  {
   "cell_type": "markdown",
   "metadata": {},
   "source": [
    "半监督学习，有的有标签，有的没有标签。"
   ]
  },
  {
   "cell_type": "markdown",
   "metadata": {},
   "source": [
    "统计是概率问题的逆运算。"
   ]
  },
  {
   "cell_type": "markdown",
   "metadata": {},
   "source": [
    "## 统计量，\n",
    "### 期望,概率加权下的平均值，\n",
    "两个数据独立，则P(AB)=P(A)P(B)\n",
    "### 方差，值与期望误差的平方的平均值\n",
    "Var(kx)=k*kVar(x)\n",
    "XY独立则，var(x+y)=var(x)+var(y)\n",
    "### 协方差，相关系数\n",
    "cov(x,y)=E(xy)-E(x)E(y)\n",
    "xy不相关，Cov(x,y)=0\n",
    "cov(x,y)>0,x,y变化趋势相同，\n",
    "cov(x,y)<0,x,y,变化趋势想反\n"
   ]
  },
  {
   "cell_type": "markdown",
   "metadata": {},
   "source": [
    "协方差的上届，\n",
    "var(x)=d1,var(y)=d2\n",
    "|cov(x,y)|<=sqrt(d1*d2)\n"
   ]
  },
  {
   "cell_type": "markdown",
   "metadata": {},
   "source": [
    "p_xy=(cov(x,y))/(sqet(var(x)*var(y)))"
   ]
  },
  {
   "cell_type": "code",
   "execution_count": 2,
   "metadata": {},
   "outputs": [
    {
     "name": "stdout",
     "output_type": "stream",
     "text": [
      "Using matplotlib backend: Qt5Agg\n",
      "Populating the interactive namespace from numpy and matplotlib\n"
     ]
    }
   ],
   "source": [
    "%pylab"
   ]
  },
  {
   "cell_type": "code",
   "execution_count": 21,
   "metadata": {},
   "outputs": [
    {
     "data": {
      "text/plain": [
       "(5, 5)"
      ]
     },
     "execution_count": 21,
     "metadata": {},
     "output_type": "execute_result"
    }
   ],
   "source": [
    "a=random.rand(5,5)\n",
    "a.shape"
   ]
  },
  {
   "cell_type": "code",
   "execution_count": 38,
   "metadata": {},
   "outputs": [
    {
     "data": {
      "text/plain": [
       "array([[ 0.12063097, -0.04260668, -0.02146522, -0.01919873, -0.05243865],\n",
       "       [-0.04260668,  0.06675219,  0.01055646,  0.01581448,  0.00501578],\n",
       "       [-0.02146522,  0.01055646,  0.06215909, -0.01207421, -0.01840434],\n",
       "       [-0.01919873,  0.01581448, -0.01207421,  0.03147722,  0.01283317],\n",
       "       [-0.05243865,  0.00501578, -0.01840434,  0.01283317,  0.03883148]])"
      ]
     },
     "execution_count": 38,
     "metadata": {},
     "output_type": "execute_result"
    }
   ],
   "source": [
    "cov(a)#协方差矩阵，与维度形同"
   ]
  },
  {
   "cell_type": "code",
   "execution_count": 39,
   "metadata": {},
   "outputs": [
    {
     "data": {
      "text/plain": [
       "array(0.038831479079281944)"
      ]
     },
     "execution_count": 39,
     "metadata": {},
     "output_type": "execute_result"
    }
   ],
   "source": [
    "cov(a[4])"
   ]
  },
  {
   "cell_type": "markdown",
   "metadata": {
    "collapsed": true
   },
   "source": [
    "#### 协方差C=(x.T*x)/n;x减去每一列的平均值。不太对。"
   ]
  },
  {
   "cell_type": "code",
   "execution_count": 58,
   "metadata": {},
   "outputs": [
    {
     "data": {
      "text/plain": [
       "array([ 0.48650879,  0.47938299,  0.5278099 ,  0.4297313 ,  0.57634308])"
      ]
     },
     "execution_count": 58,
     "metadata": {},
     "output_type": "execute_result"
    }
   ],
   "source": [
    "a2=a-a.mean(axis=0)\n",
    "a.mean(axis=0)"
   ]
  },
  {
   "cell_type": "code",
   "execution_count": 61,
   "metadata": {},
   "outputs": [
    {
     "data": {
      "text/plain": [
       "array([[ 0.04695602,  0.05145548,  0.0594666 , -0.03052664, -0.00099238],\n",
       "       [ 0.05145548,  0.09676563,  0.09415418, -0.02709383,  0.02804081],\n",
       "       [ 0.0594666 ,  0.09415418,  0.1705247 ,  0.00591351,  0.02884419],\n",
       "       [-0.03052664, -0.02709383,  0.00591351,  0.04939541, -0.00235494],\n",
       "       [-0.00099238,  0.02804081,  0.02884419, -0.00235494,  0.04447967]])"
      ]
     },
     "execution_count": 61,
     "metadata": {},
     "output_type": "execute_result"
    }
   ],
   "source": [
    "a2.T.dot(a2)/5"
   ]
  },
  {
   "cell_type": "markdown",
   "metadata": {},
   "source": [
    "jensen 函数\n",
    "f(ax+(1-a)y)<af(x)+(1-a)f(y)"
   ]
  },
  {
   "cell_type": "code",
   "execution_count": null,
   "metadata": {
    "collapsed": true
   },
   "outputs": [],
   "source": []
  },
  {
   "cell_type": "code",
   "execution_count": null,
   "metadata": {
    "collapsed": true
   },
   "outputs": [],
   "source": []
  },
  {
   "cell_type": "code",
   "execution_count": null,
   "metadata": {
    "collapsed": true
   },
   "outputs": [],
   "source": []
  },
  {
   "cell_type": "code",
   "execution_count": null,
   "metadata": {
    "collapsed": true
   },
   "outputs": [],
   "source": []
  },
  {
   "cell_type": "code",
   "execution_count": null,
   "metadata": {
    "collapsed": true
   },
   "outputs": [],
   "source": []
  },
  {
   "cell_type": "code",
   "execution_count": null,
   "metadata": {
    "collapsed": true
   },
   "outputs": [],
   "source": []
  },
  {
   "cell_type": "code",
   "execution_count": null,
   "metadata": {
    "collapsed": true
   },
   "outputs": [],
   "source": []
  }
 ],
 "metadata": {
  "kernelspec": {
   "display_name": "Python 3",
   "language": "python",
   "name": "python3"
  },
  "language_info": {
   "codemirror_mode": {
    "name": "ipython",
    "version": 3
   },
   "file_extension": ".py",
   "mimetype": "text/x-python",
   "name": "python",
   "nbconvert_exporter": "python",
   "pygments_lexer": "ipython3",
   "version": "3.6.1"
  }
 },
 "nbformat": 4,
 "nbformat_minor": 2
}
