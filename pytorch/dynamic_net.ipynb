{
  "cells": [
    {
      "cell_type": "code",
      "execution_count": null,
      "metadata": {
        "collapsed": false
      },
      "outputs": [],
      "source": [
        "%matplotlib inline"
      ]
    },
    {
      "cell_type": "markdown",
      "metadata": {},
      "source": [
        "\nPyTorch: \u52a8\u6001\u63a7\u5236\u6d41\u7a0b + \u6743\u91cd\u5171\u4eab\n--------------------------------------\n\n\u4e3a\u4e86\u5c55\u793aPyTorch\u7684\u52a8\u6001\u56fe\u7684\u5f3a\u5927, \u6211\u4eec\u5b9e\u73b0\u4e86\u4e00\u4e2a\u975e\u5e38\u5947\u5f02\u7684\u6a21\u578b: \u4e00\u4e2a\u5168\u8fde\u63a5\u7684ReLU\u6fc0\u6d3b\u7684\u795e\u7ecf\u7f51\u7edc,\n\u6bcf\u6b21\u524d\u5411\u8ba1\u7b97\u65f6\u90fd\u968f\u673a\u9009\u4e00\u4e2a1\u52304\u4e4b\u95f4\u7684\u6570\u5b57n, \u7136\u540e\u63a5\u4e0b\u6765\u5c31\u6709n\u5c42\u9690\u85cf\u5c42, \u6bcf\u4e2a\u9690\u85cf\u5c42\u7684\u8fde\u63a5\u6743\u91cd\u5171\u4eab.\n\n"
      ]
    },
    {
      "cell_type": "code",
      "execution_count": null,
      "metadata": {
        "collapsed": false
      },
      "outputs": [],
      "source": [
        "import random\nimport torch\nfrom torch.autograd import Variable\n\n\nclass DynamicNet(torch.nn.Module):\n    def __init__(self, D_in, H, D_out):\n        \"\"\"\n        \u5728\u6784\u9020\u51fd\u6570\u4e2d,\u6211\u4eec\u6784\u9020\u4e86\u4e09\u4e2ann.Linear\u5b9e\u4f8b,\u6211\u4eec\u5c06\u5728\u6b63\u5411\u4f20\u9012\u4e2d\u4f7f\u7528\u5b83\u4eec.\n        \"\"\"\n        super(DynamicNet, self).__init__()\n        self.input_linear = torch.nn.Linear(D_in, H)\n        self.middle_linear = torch.nn.Linear(H, H)\n        self.output_linear = torch.nn.Linear(H, D_out)\n\n    def forward(self, x):\n        \"\"\"\n        \u5bf9\u4e8e\u6a21\u578b\u7684\u6b63\u5411\u901a\u9053,\u6211\u4eec\u968f\u673a\u9009\u62e90,1,2\u62163,\n        \u5e76\u91cd\u590d\u4f7f\u7528\u591a\u6b21\u8ba1\u7b97\u9690\u85cf\u5c42\u8868\u793a\u7684middle_linear\u6a21\u5757.\n\n        \u7531\u4e8e\u6bcf\u4e2a\u6b63\u5411\u901a\u9053\u90fd\u4f1a\u751f\u6210\u4e00\u4e2a\u52a8\u6001\u8ba1\u7b97\u56fe,\u56e0\u6b64\u5728\u5b9a\u4e49\u6a21\u578b\u7684\u6b63\u5411\u901a\u9053\u65f6,\n        \u6211\u4eec\u53ef\u4ee5\u4f7f\u7528\u666e\u901a\u7684Python\u63a7\u5236\u6d41\u64cd\u4f5c\u7b26(\u5982\u5faa\u73af\u6216\u6761\u4ef6\u8bed\u53e5).\n\n        \u5728\u8fd9\u91cc\u6211\u4eec\u4e5f\u770b\u5230,\u5b9a\u4e49\u8ba1\u7b97\u56fe\u65f6\u591a\u6b21\u91cd\u590d\u4f7f\u7528\u76f8\u540c\u6a21\u5757\u662f\u5b8c\u5168\u5b89\u5168\u7684.\n        \u8fd9\u662fLua Torch\u7684\u4e00\u5927\u6539\u8fdb,\u6bcf\u4e2a\u6a21\u5757\u53ea\u80fd\u4f7f\u7528\u4e00\u6b21.\n        \"\"\"\n        h_relu = self.input_linear(x).clamp(min=0)\n        for _ in range(random.randint(0, 3)):\n            h_relu = self.middle_linear(h_relu).clamp(min=0)\n        y_pred = self.output_linear(h_relu)\n        return y_pred\n\n\n# N \u6279\u91cf\u5927\u5c0f; D_in\u662f\u8f93\u5165\u5c3a\u5bf8;\n# H\u662f\u9690\u85cf\u5c3a\u5bf8; D_out\u662f\u8f93\u51fa\u5c3a\u5bf8.\nN, D_in, H, D_out = 64, 1000, 100, 10\n\n# \u521b\u5efa\u968f\u673a\u5f20\u91cf\u6765\u4fdd\u5b58\u8f93\u5165\u548c\u8f93\u51fa,\u5e76\u5c06\u5b83\u4eec\u5305\u88c5\u5728\u53d8\u91cf\u4e2d.\nx = Variable(torch.randn(N, D_in))\ny = Variable(torch.randn(N, D_out), requires_grad=False)\n\n# \u901a\u8fc7\u5b9e\u4f8b\u5316\u4e0a\u9762\u5b9a\u4e49\u7684\u7c7b\u6765\u6784\u5efa\u6211\u4eec\u7684\u6a21\u578b\nmodel = DynamicNet(D_in, H, D_out)\n\n# \u6784\u5efa\u6211\u4eec\u7684\u635f\u5931\u51fd\u6570\u548c\u4f18\u5316\u5668.\n# \u7528\u968f\u673a\u68af\u5ea6\u4e0b\u964d\u8bad\u7ec3\u8fd9\u4e2a\u5947\u602a\u7684\u6a21\u578b\u975e\u5e38\u56f0\u96be,\u6240\u4ee5\u6211\u4eec\u4f7f\u7528\u52a8\u91cf\ncriterion = torch.nn.MSELoss(size_average=False)\noptimizer = torch.optim.SGD(model.parameters(), lr=1e-4, momentum=0.9)\nfor t in range(500):\n    # \u6b63\u5411\u4f20\u9012:\u901a\u8fc7\u5c06x\u4f20\u9012\u7ed9\u6a21\u578b\u6765\u8ba1\u7b97\u9884\u6d4b\u7684y\n    y_pred = model(x)\n\n    # \u8ba1\u7b97\u548c\u6253\u5370\u635f\u5931\n    loss = criterion(y_pred, y)\n    print(t, loss.data[0])\n\n    # \u96f6\u68af\u5ea6\u6267\u884c\u53cd\u5411\u4f20\u9012\u5e76\u66f4\u65b0\u6743\u91cd.\n    optimizer.zero_grad()\n    loss.backward()\n    optimizer.step()"
      ]
    }
  ],
  "metadata": {
    "kernelspec": {
      "display_name": "Python 3",
      "language": "python",
      "name": "python3"
    },
    "language_info": {
      "codemirror_mode": {
        "name": "ipython",
        "version": 3
      },
      "file_extension": ".py",
      "mimetype": "text/x-python",
      "name": "python",
      "nbconvert_exporter": "python",
      "pygments_lexer": "ipython3",
      "version": "3.6.3"
    }
  },
  "nbformat": 4,
  "nbformat_minor": 0
}