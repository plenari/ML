{
  "cells": [
    {
      "cell_type": "code",
      "execution_count": null,
      "metadata": {
        "collapsed": false
      },
      "outputs": [],
      "source": [
        "%matplotlib inline"
      ]
    },
    {
      "cell_type": "markdown",
      "metadata": {},
      "source": [
        "\nWarm-up: numpy\n--------------\n\n\u672c\u4f8b\u4e2d\u7684\u795e\u7ecf\u7f51\u7edc\u6709\u4e00\u4e2a\u9690\u85cf\u5c42, \u540e\u63a5ReLU\u6fc0\u6d3b\u5c42, \u5e76\u4e14\u4e0d\u5e26\u504f\u7f6e\u53c2\u6570. \u8bad\u7ec3\u65f6\u4f7f\u7528\u6b27\u51e0\u91cc\u5f97\u8bef\u5dee\u6765\u5b66\u4e60\u4ecex\u5230y\u7684\u6620\u5c04.\n\n\u6211\u4eec\u53ea\u7528\u5230\u4e86numpy, \u5b8c\u5168\u624b\u5199\u5b9e\u73b0\u795e\u7ecf\u7f51\u7edc, \u5305\u62ec\u524d\u5411\u8ba1\u7b97, \u8bef\u5dee\u8ba1\u7b97\u548c\u540e\u5411\u4f20\u64ad.\n\nnumpy\u7684\u6570\u7ec4\u7c7b\u578b\u662f\u4e00\u79cd\u901a\u7528\u7684N\u7ef4\u6570\u7ec4; \u5b83\u6ca1\u6709\u5185\u7f6e\u6df1\u5ea6\u5b66\u4e60\u7684\u51fd\u6570, \u65e2\u4e0d\u77e5\u9053\u600e\u4e48\u6c42\u5bfc, \u4e5f\u6ca1\u6709\u8ba1\u7b97\u56fe\u7684\u6982\u5ff5, \u53ea\u80fd\u505a\u4e00\u4e9b\u901a\u7528\u7684\u6570\u503c\u8ba1\u7b97.\n\n"
      ]
    },
    {
      "cell_type": "code",
      "execution_count": null,
      "metadata": {
        "collapsed": false
      },
      "outputs": [],
      "source": [
        "import numpy as np\n\n# N \u662f\u4e00\u4e2abatch\u7684\u6837\u672c\u6570\u91cf; D_in\u662f\u8f93\u5165\u7ef4\u5ea6;\n# H \u662f\u9690\u85cf\u5c42\u5411\u91cf\u7684\u7ef4\u5ea6; D_out\u662f\u8f93\u51fa\u7ef4\u5ea6.\nN, D_in, H, D_out = 64, 1000, 100, 10\n\n# \u521b\u5efa\u968f\u673a\u7684\u8f93\u5165\u8f93\u51fa\u6570\u636e\nx = np.random.randn(N, D_in)\ny = np.random.randn(N, D_out)\n\n# \u968f\u673a\u521d\u59cb\u5316\u6743\u91cd\u53c2\u6570\nw1 = np.random.randn(D_in, H)\nw2 = np.random.randn(H, D_out)\n\nlearning_rate = 1e-6\nfor t in range(500):    \n    # \u524d\u5411\u8ba1\u7b97, \u7b97\u51fay\u7684\u9884\u6d4b\u503c\n    h = x.dot(w1)\n    h_relu = np.maximum(h, 0)\n    y_pred = h_relu.dot(w2)\n\n    # \u8ba1\u7b97\u5e76\u6253\u5370\u8bef\u5dee\u503c\n    loss = np.square(y_pred - y).sum()\n    print(t, loss)\n\n    # \u5728\u53cd\u5411\u4f20\u64ad\u4e2d, \u8ba1\u7b97\u51fa\u8bef\u5dee\u5173\u4e8ew1\u548cw2\u7684\u5bfc\u6570\n    grad_y_pred = 2.0 * (y_pred - y)\n    grad_w2 = h_relu.T.dot(grad_y_pred)\n    grad_h_relu = grad_y_pred.dot(w2.T)\n    grad_h = grad_h_relu.copy()\n    grad_h[h < 0] = 0\n    grad_w1 = x.T.dot(grad_h)\n\n    # \u66f4\u65b0\u6743\u91cd\n    w1 -= learning_rate * grad_w1\n    w2 -= learning_rate * grad_w2"
      ]
    }
  ],
  "metadata": {
    "kernelspec": {
      "display_name": "Python 3",
      "language": "python",
      "name": "python3"
    },
    "language_info": {
      "codemirror_mode": {
        "name": "ipython",
        "version": 3
      },
      "file_extension": ".py",
      "mimetype": "text/x-python",
      "name": "python",
      "nbconvert_exporter": "python",
      "pygments_lexer": "ipython3",
      "version": "3.6.3"
    }
  },
  "nbformat": 4,
  "nbformat_minor": 0
}