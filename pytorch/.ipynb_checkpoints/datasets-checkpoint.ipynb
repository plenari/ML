{
 "cells": [
  {
   "cell_type": "code",
   "execution_count": 2,
   "metadata": {},
   "outputs": [],
   "source": [
    "from torch.utils.data import Dataset, DataLoader\n",
    "import pandas as pd"
   ]
  },
  {
   "cell_type": "code",
   "execution_count": 21,
   "metadata": {},
   "outputs": [],
   "source": [
    "class file(Dataset):\n",
    "    def __init__(self,files):\n",
    "        super(file,self).__init__()\n",
    "        with open(files) as f:            \n",
    "            self.file=f.readlines()\n",
    "    def __len__(self):\n",
    "        return len(self.file)\n",
    "    def __getitem__(self,idx):\n",
    "        return self.file[idx]"
   ]
  },
  {
   "cell_type": "code",
   "execution_count": 22,
   "metadata": {},
   "outputs": [],
   "source": [
    "f=file('backward.py')"
   ]
  },
  {
   "cell_type": "code",
   "execution_count": 23,
   "metadata": {},
   "outputs": [
    {
     "data": {
      "text/plain": [
       "['# -*- coding: utf-8 -*-\\n',\n",
       " '\"\"\"\\n',\n",
       " 'Created on Sun Apr 29 16:23:43 2018\\n',\n",
       " '\\n',\n",
       " '@author: omf\\n',\n",
       " '\"\"\"\\n',\n",
       " 'import torch as t\\n',\n",
       " 'from torch.autograd import Variable as v\\n',\n",
       " '# compute jacobian matrix\\n',\n",
       " 'x = t.FloatTensor([2, 1]).view(1, 2)\\n',\n",
       " 'x = v(x, requires_grad=True)\\n',\n",
       " 'y = v(t.FloatTensor([[1, 2], [3, 4]]))t\\n',\n",
       " '\\n',\n",
       " 'z = t.mm(x, y)\\n',\n",
       " 'jacobian = t.zeros((2, 2))\\n',\n",
       " 'z.backward(t.FloatTensor([[1, 0]]), retain_graph=True)  # dz1/dx1, dz1/dx2\\n',\n",
       " 'jacobian[:, 0] = x.grad.data\\n',\n",
       " 'x.grad.data.zero_()\\n',\n",
       " 'z.backward(t.FloatTensor([[0, 1]]))  # dz2/dx1, dz2/dx2\\n',\n",
       " 'jacobian[:, 1] = x.grad.data\\n',\n",
       " \"print('=========jacobian========')\\n\",\n",
       " \"print('x')\\n\",\n",
       " 'print(x.data)\\n',\n",
       " \"print('y')\\n\",\n",
       " 'print(y.data)\\n',\n",
       " \"print('compute result')\\n\",\n",
       " 'print(z.data)\\n',\n",
       " \"print('jacobian matrix is')\\n\",\n",
       " 'print(jacobian)']"
      ]
     },
     "execution_count": 23,
     "metadata": {},
     "output_type": "execute_result"
    }
   ],
   "source": [
    "f.file"
   ]
  },
  {
   "cell_type": "code",
   "execution_count": 30,
   "metadata": {},
   "outputs": [
    {
     "data": {
      "text/plain": [
       "'from torch.autograd import Variable as v\\n'"
      ]
     },
     "execution_count": 30,
     "metadata": {},
     "output_type": "execute_result"
    }
   ],
   "source": [
    "f[7]"
   ]
  },
  {
   "cell_type": "code",
   "execution_count": 31,
   "metadata": {},
   "outputs": [],
   "source": [
    "dataloader = DataLoader(f, batch_size=4)"
   ]
  },
  {
   "cell_type": "code",
   "execution_count": 36,
   "metadata": {},
   "outputs": [
    {
     "name": "stdout",
     "output_type": "stream",
     "text": [
      "4\n",
      "4\n",
      "4\n",
      "4\n",
      "4\n",
      "4\n",
      "4\n",
      "1\n"
     ]
    }
   ],
   "source": [
    "for i,j in enumerate(dataloader):\n",
    "    print(len(j))"
   ]
  },
  {
   "cell_type": "code",
   "execution_count": null,
   "metadata": {},
   "outputs": [],
   "source": []
  },
  {
   "cell_type": "code",
   "execution_count": null,
   "metadata": {},
   "outputs": [],
   "source": []
  }
 ],
 "metadata": {
  "kernelspec": {
   "display_name": "Python 3",
   "language": "python",
   "name": "python3"
  },
  "language_info": {
   "codemirror_mode": {
    "name": "ipython",
    "version": 3
   },
   "file_extension": ".py",
   "mimetype": "text/x-python",
   "name": "python",
   "nbconvert_exporter": "python",
   "pygments_lexer": "ipython3",
   "version": "3.6.4"
  }
 },
 "nbformat": 4,
 "nbformat_minor": 2
}
