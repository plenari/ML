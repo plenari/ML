{
  "cells": [
    {
      "cell_type": "code",
      "execution_count": null,
      "metadata": {
        "collapsed": false
      },
      "outputs": [],
      "source": [
        "%matplotlib inline"
      ]
    },
    {
      "cell_type": "markdown",
      "metadata": {},
      "source": [
        "\nPyTorch: optim\u5305\n--------------\n\n\u672c\u4f8b\u4e2d\u7684\u5168\u8fde\u63a5\u795e\u7ecf\u7f51\u7edc\u6709\u4e00\u4e2a\u9690\u85cf\u5c42, \u540e\u63a5ReLU\u6fc0\u6d3b\u5c42, \u5e76\u4e14\u4e0d\u5e26\u504f\u7f6e\u53c2\u6570. \n\u8bad\u7ec3\u65f6\u901a\u8fc7\u6700\u5c0f\u5316\u6b27\u5f0f\u8ddd\u79bb\u7684\u5e73\u65b9, \u6765\u5b66\u4e60\u4ecex\u5230y\u7684\u6620\u5c04\n\n\u5728\u6b64\u5b9e\u73b0\u4e2d, \u6211\u4eec\u5c06\u5f03\u7528\u4e4b\u524d\u624b\u5de5\u66f4\u65b0\u6743\u503c\u7684\u505a\u6cd5, \u8f6c\u800c\u7528PyTorch\u7684nn\u5305\u6765\u642d\u5efa\u795e\u7ecf\u7f51\u7edc.\noptim\u5305\u5219\u7528\u6765\u5b9a\u4e49\u66f4\u65b0\u6743\u503c\u7684\u4f18\u5316\u5668. optim\u5305\u6709\u4f17\u591a\u6df1\u5ea6\u5b66\u4e60\u5e38\u7528\u7684\u4f18\u5316\u7b97\u6cd5, \u5305\u62ecSGD+momentum,\nRMSProp, Adam\u7b49. \n\n"
      ]
    },
    {
      "cell_type": "code",
      "execution_count": null,
      "metadata": {
        "collapsed": false
      },
      "outputs": [],
      "source": [
        "import torch\nfrom torch.autograd import Variable\n\n# N \u6279\u91cf\u5927\u5c0f; D_in\u662f\u8f93\u5165\u5c3a\u5bf8;\n# H\u662f\u9690\u85cf\u5c3a\u5bf8; D_out\u662f\u8f93\u51fa\u5c3a\u5bf8.\nN, D_in, H, D_out = 64, 1000, 100, 10\n\n# \u521b\u5efa\u968f\u673a\u5f20\u91cf\u6765\u4fdd\u5b58\u8f93\u5165\u548c\u8f93\u51fa,\u5e76\u5c06\u5b83\u4eec\u5305\u88c5\u5728\u53d8\u91cf\u4e2d.\nx = Variable(torch.randn(N, D_in))\ny = Variable(torch.randn(N, D_out), requires_grad=False)\n\n# \u4f7f\u7528nn\u5305\u6765\u5b9a\u4e49\u6211\u4eec\u7684\u6a21\u578b\u548c\u635f\u5931\u51fd\u6570.\nmodel = torch.nn.Sequential(\n    torch.nn.Linear(D_in, H),\n    torch.nn.ReLU(),\n    torch.nn.Linear(H, D_out),\n)\nloss_fn = torch.nn.MSELoss(size_average=False)\n\n# \u4f7f\u7528\u4f18\u5316\u5305\u6765\u5b9a\u4e49\u4e00\u4e2a\u4f18\u5316\u5668,\u5b83\u5c06\u4e3a\u6211\u4eec\u66f4\u65b0\u6a21\u578b\u7684\u6743\u91cd.\n# \u5728\u8fd9\u91cc,\u6211\u4eec\u5c06\u4f7f\u7528 Adam;\u8fd9\u4e2a optim \u5305\u5305\u542b\u8bb8\u591a\u5176\u4ed6\u4f18\u5316\u7b97\u6cd5.\n# Adam\u6784\u9020\u51fd\u6570\u7684\u7b2c\u4e00\u4e2a\u53c2\u6570\u544a\u8bc9\u4f18\u5316\u5668\u5e94\u8be5\u66f4\u65b0\u54ea\u4e2aVariables.\nlearning_rate = 1e-4\noptimizer = torch.optim.Adam(model.parameters(), lr=learning_rate)\nfor t in range(500):\n    # \u6b63\u5411\u4f20\u9012:\u901a\u8fc7\u5c06x\u4f20\u9012\u7ed9\u6a21\u578b\u6765\u8ba1\u7b97\u9884\u6d4b\u7684y.\n    y_pred = model(x)\n\n    # \u8ba1\u7b97\u548c\u6253\u5370\u635f\u5931\u51fd\u6570.\n    loss = loss_fn(y_pred, y)\n    print(t, loss.data[0])\n\n    # \u5728\u5411\u540e\u4f20\u9012\u4e4b\u524d,\u4f7f\u7528\u4f18\u5316\u5668\u5bf9\u8c61\u4e3a\u5176\u8981\u66f4\u65b0\u7684\u53d8\u91cf\uff08\u8fd9\u662f\u6a21\u578b\u7684\u53ef\u5b66\u4e60\u6743\u91cd\uff09\u7684\u6240\u6709\u68af\u5ea6\u5f52\u96f6.\n    # \u8fd9\u662f\u56e0\u4e3a\u9ed8\u8ba4\u60c5\u51b5\u4e0b,\u53ea\u8981\u8c03\u7528.backward(),\u68af\u5ea6\u5c31\u4f1a\u5728\u7f13\u51b2\u533a\u4e2d\u7d2f\u79ef(\u5373\u4e0d\u4f1a\u88ab\u8986\u76d6).\n    # \u67e5\u770btorch.autograd.backward\u7684\u6587\u6863\u4ee5\u83b7\u53d6\u66f4\u591a\u8be6\u7ec6\u4fe1\u606f.\n    optimizer.zero_grad()\n\n    # \u5411\u540e\u4f20\u9012:\u8ba1\u7b97\u635f\u5931\u51fd\u6570\u76f8\u5bf9\u4e8e\u6a21\u578b\u53c2\u6570\u7684\u68af\u5ea6\n    loss.backward()\n\n    # \u5728\u4f18\u5316\u5668\u4e0a\u8c03\u7528step\u51fd\u6570\u4f1a\u66f4\u65b0\u5176\u53c2\u6570\n    optimizer.step()"
      ]
    }
  ],
  "metadata": {
    "kernelspec": {
      "display_name": "Python 3",
      "language": "python",
      "name": "python3"
    },
    "language_info": {
      "codemirror_mode": {
        "name": "ipython",
        "version": 3
      },
      "file_extension": ".py",
      "mimetype": "text/x-python",
      "name": "python",
      "nbconvert_exporter": "python",
      "pygments_lexer": "ipython3",
      "version": "3.6.3"
    }
  },
  "nbformat": 4,
  "nbformat_minor": 0
}