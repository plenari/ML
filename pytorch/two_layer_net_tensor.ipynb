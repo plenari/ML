{
  "cells": [
    {
      "cell_type": "code",
      "execution_count": null,
      "metadata": {
        "collapsed": false
      },
      "outputs": [],
      "source": [
        "%matplotlib inline"
      ]
    },
    {
      "cell_type": "markdown",
      "metadata": {},
      "source": [
        "\nPyTorch: Tensors\n----------------\n\n\u672c\u4f8b\u4e2d\u7684\u5168\u8fde\u63a5\u795e\u7ecf\u7f51\u7edc\u6709\u4e00\u4e2a\u9690\u85cf\u5c42, \u540e\u63a5ReLU\u6fc0\u6d3b\u5c42, \u5e76\u4e14\u4e0d\u5e26\u504f\u7f6e\u53c2\u6570. \u8bad\u7ec3\u65f6\u4f7f\u7528\u6b27\u5f0f\u8ddd\u79bb\u5e73\u65b9\u6765\u5b66\u4e60\u4ecex\u5230y\u7684\u6620\u5c04.\n\n\u5b9e\u73b0\u4e2d\u6211\u4eec\u4f7f\u7528\u4e86PyTorch\u7684\u5f20\u91cf\u6765\u8fdb\u884c\u524d\u5411\u8ba1\u7b97, \u8bef\u5dee\u8ba1\u7b97\u548c\u540e\u5411\u4f20\u64ad.\n\nPyTorch\u7684\u5f20\u91cfTensor\u57fa\u672c\u4e0a\u548cnumpy\u7684\u6570\u7ec4\u4e00\u6837, \u4e5f\u6ca1\u6709\u4efb\u4f55\u5185\u7f6e\u7684\u6df1\u5ea6\u5b66\u4e60\u51fd\u6570, \u4e0d\u77e5\u9053\u8ba1\u7b97\u56fe\u7684\u6982\u5ff5, \u4e5f\u65e0\u6cd5\u6c42\u5bfc, \u4f5c\u4e3a\u4e00\u4e2a\u901a\u7528\u7684N\u7ef4\u6570\u7ec4, \u5b83\u53ea\u7528\u505a\u4efb\u610f\u7684\u6570\u503c\u8ba1\u7b97.\n\n\u548cnumpy\u6570\u7ec4\u6700\u5927\u7684\u533a\u522b\u5728\u4e8e, PyTorch\u5f20\u91cf\u65e2\u53ef\u4ee5\u8dd1\u5728CPU\u4e0a, \u4e5f\u53ef\u4ee5\u5728GPU\u4e0a\u4f5c\u8fd0\u7b97. \u4e3a\u4e86\u5728GPU\u4e0a\u8fdb\u884c\u8ba1\u7b97, \u53ea\u8981\u628a\u5f20\u91cf\u7c7b\u578b\u8f6c\u6210cuda\u6570\u636e\u7c7b\u578b\u5373\u53ef\u3002\n\n"
      ]
    },
    {
      "cell_type": "code",
      "execution_count": null,
      "metadata": {
        "collapsed": false
      },
      "outputs": [],
      "source": [
        "import torch\n\n\ndtype = torch.FloatTensor\n# dtype = torch.cuda.FloatTensor # \u53d6\u6d88\u6ce8\u91ca\u4ee5\u5728GPU\u4e0a\u8fd0\u884c\n\n# N \u6279\u91cf\u5927\u5c0f; D_in\u662f\u8f93\u5165\u5c3a\u5bf8;\n# H\u662f\u9690\u85cf\u5c3a\u5bf8; D_out\u662f\u8f93\u51fa\u5c3a\u5bf8.\nN, D_in, H, D_out = 64, 1000, 100, 10\n\n# \u521b\u5efa\u968f\u673a\u8f93\u5165\u548c\u8f93\u51fa\u6570\u636e\nx = torch.randn(N, D_in).type(dtype)\ny = torch.randn(N, D_out).type(dtype)\n\n# \u968f\u673a\u521d\u59cb\u5316\u6743\u91cd\nw1 = torch.randn(D_in, H).type(dtype)\nw2 = torch.randn(H, D_out).type(dtype)\n\nlearning_rate = 1e-6\nfor t in range(500):\n    # \u6b63\u5411\u4f20\u9012\uff1a\u8ba1\u7b97\u9884\u6d4by\n    h = x.mm(w1)\n    h_relu = h.clamp(min=0)\n    y_pred = h_relu.mm(w2)\n\n    # \u8ba1\u7b97\u5e76\u6253\u5370loss\n    loss = (y_pred - y).pow(2).sum()\n    print(t, loss)\n\n    # \u53cd\u5411\u4f20\u64ad\u8ba1\u7b97\u5173\u4e8e\u635f\u5931\u7684w1\u548cw2\u7684\u68af\u5ea6\n    grad_y_pred = 2.0 * (y_pred - y)\n    grad_w2 = h_relu.t().mm(grad_y_pred)\n    grad_h_relu = grad_y_pred.mm(w2.t())\n    grad_h = grad_h_relu.clone()\n    grad_h[h < 0] = 0\n    grad_w1 = x.t().mm(grad_h)\n\n    # \u4f7f\u7528\u68af\u5ea6\u4e0b\u964d\u66f4\u65b0\u6743\u91cd\n    w1 -= learning_rate * grad_w1\n    w2 -= learning_rate * grad_w2"
      ]
    }
  ],
  "metadata": {
    "kernelspec": {
      "display_name": "Python 3",
      "language": "python",
      "name": "python3"
    },
    "language_info": {
      "codemirror_mode": {
        "name": "ipython",
        "version": 3
      },
      "file_extension": ".py",
      "mimetype": "text/x-python",
      "name": "python",
      "nbconvert_exporter": "python",
      "pygments_lexer": "ipython3",
      "version": "3.6.3"
    }
  },
  "nbformat": 4,
  "nbformat_minor": 0
}