{
  "cells": [
    {
      "cell_type": "code",
      "execution_count": null,
      "metadata": {
        "collapsed": false
      },
      "outputs": [],
      "source": [
        "%matplotlib inline"
      ]
    },
    {
      "cell_type": "markdown",
      "metadata": {},
      "source": [
        "\nPyTorch: \u5b9a\u5236\u5316nn\u6a21\u5757\n--------------------------\n\n\u672c\u4f8b\u4e2d\u7684\u5168\u8fde\u63a5\u795e\u7ecf\u7f51\u7edc\u6709\u4e00\u4e2a\u9690\u85cf\u5c42, \u540e\u63a5ReLU\u6fc0\u6d3b\u5c42, \u5e76\u4e14\u4e0d\u5e26\u504f\u7f6e\u53c2\u6570. \u8bad\u7ec3\u65f6\u901a\u8fc7\u6700\u5c0f\u5316\u6b27\u5f0f\u8ddd\u79bb\u7684\u5e73\u65b9, \u6765\u5b66\u4e60\u4ecex\u5230y\u7684\u6620\u5c04.\n\n\u5728\u5b9e\u73b0\u4e2d\u6211\u4eec\u5c06\u5b9a\u4e49\u4e00\u4e2a\u5b9a\u5236\u5316\u7684\u6a21\u5757\u5b50\u7c7b. \u5982\u679c\u5df2\u6709\u6a21\u5757\u4e32\u8d77\u6765\u4e0d\u80fd\u6ee1\u8db3\u4f60\u7684\u590d\u6742\u9700\u6c42, \n\u90a3\u4e48\u4f60\u5c31\u80fd\u4ee5\u8fd9\u79cd\u65b9\u5f0f\u6765\u5b9a\u4e49\u81ea\u5df1\u7684\u6a21\u5757\u3002\n\n"
      ]
    },
    {
      "cell_type": "code",
      "execution_count": null,
      "metadata": {
        "collapsed": false
      },
      "outputs": [],
      "source": [
        "import torch\nfrom torch.autograd import Variable\n\n\nclass TwoLayerNet(torch.nn.Module):\n    def __init__(self, D_in, H, D_out):\n        \"\"\"\n        \u5728\u6784\u9020\u51fd\u6570\u4e2d,\u6211\u4eec\u5b9e\u4f8b\u5316\u4e24\u4e2ann.Linear\u6a21\u5757\u5e76\u5c06\u5b83\u4eec\u5206\u914d\u4e3a\u6210\u5458\u53d8\u91cf.\n        \"\"\"\n        super(TwoLayerNet, self).__init__()\n        self.linear1 = torch.nn.Linear(D_in, H)\n        self.linear2 = torch.nn.Linear(H, D_out)\n\n    def forward(self, x):\n        \"\"\"\n        \u5728forward\u51fd\u6570\u4e2d,\u6211\u4eec\u63a5\u53d7\u4e00\u4e2a\u53d8\u91cf\u7684\u8f93\u5165\u6570\u636e,\u6211\u4eec\u5fc5\u987b\u8fd4\u56de\u4e00\u4e2a\u53d8\u91cf\u7684\u8f93\u51fa\u6570\u636e.\n        \u6211\u4eec\u53ef\u4ee5\u4f7f\u7528\u6784\u9020\u51fd\u6570\u4e2d\u5b9a\u4e49\u7684\u6a21\u5757\u4ee5\u53ca\u53d8\u91cf\u4e0a\u7684\u4efb\u610f\u8fd0\u7b97\u7b26.\n        \"\"\"\n        h_relu = self.linear1(x).clamp(min=0)\n        y_pred = self.linear2(h_relu)\n        return y_pred\n\n\n# N \u6279\u91cf\u5927\u5c0f; D_in\u662f\u8f93\u5165\u5c3a\u5bf8;\n# H\u662f\u9690\u85cf\u5c3a\u5bf8; D_out\u662f\u8f93\u51fa\u5c3a\u5bf8.\nN, D_in, H, D_out = 64, 1000, 100, 10\n\n# \u521b\u5efa\u968f\u673a\u5f20\u91cf\u6765\u4fdd\u5b58\u8f93\u5165\u548c\u8f93\u51fa,\u5e76\u5c06\u5b83\u4eec\u5305\u88c5\u5728\u53d8\u91cf\u4e2d. \nx = Variable(torch.randn(N, D_in))\ny = Variable(torch.randn(N, D_out), requires_grad=False)\n\n# \u901a\u8fc7\u5b9e\u4f8b\u5316\u4e0a\u9762\u5b9a\u4e49\u7684\u7c7b\u6765\u6784\u5efa\u6211\u4eec\u7684\u6a21\u578b\nmodel = TwoLayerNet(D_in, H, D_out)\n\n# \u6784\u5efa\u6211\u4eec\u7684\u635f\u5931\u51fd\u6570\u548c\u4f18\u5316\u5668. \n# \u5bf9SGD\u6784\u9020\u51fd\u6570\u4e2d\u7684model.parameters()\u7684\u8c03\u7528\u5c06\u5305\u542b\u4f5c\u4e3a\u6a21\u578b\u6210\u5458\u7684\u4e24\u4e2ann.Linear\u6a21\u5757\u7684\u53ef\u5b66\u4e60\u53c2\u6570.\ncriterion = torch.nn.MSELoss(size_average=False)\noptimizer = torch.optim.SGD(model.parameters(), lr=1e-4)\nfor t in range(500):\n    # \u6b63\u5411\u4f20\u9012\uff1a\u901a\u8fc7\u5c06x\u4f20\u9012\u7ed9\u6a21\u578b\u6765\u8ba1\u7b97\u9884\u6d4b\u7684y\n    y_pred = model(x)\n\n    # \u8ba1\u7b97\u548c\u6253\u5370\u635f\u5931\n    loss = criterion(y_pred, y)\n    print(t, loss.data[0])\n\n    # \u68af\u5ea6\u7f6e\u96f6, \u6267\u884c\u53cd\u5411\u4f20\u9012\u5e76\u66f4\u65b0\u6743\u91cd.\n    optimizer.zero_grad()\n    loss.backward()\n    optimizer.step()"
      ]
    }
  ],
  "metadata": {
    "kernelspec": {
      "display_name": "Python 3",
      "language": "python",
      "name": "python3"
    },
    "language_info": {
      "codemirror_mode": {
        "name": "ipython",
        "version": 3
      },
      "file_extension": ".py",
      "mimetype": "text/x-python",
      "name": "python",
      "nbconvert_exporter": "python",
      "pygments_lexer": "ipython3",
      "version": "3.6.3"
    }
  },
  "nbformat": 4,
  "nbformat_minor": 0
}