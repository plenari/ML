{
  "cells": [
    {
      "cell_type": "code",
      "execution_count": null,
      "metadata": {
        "collapsed": false
      },
      "outputs": [],
      "source": [
        "%matplotlib inline"
      ]
    },
    {
      "cell_type": "markdown",
      "metadata": {},
      "source": [
        "\nTensorFlow: \u9759\u6001\u56fe\n-------------------------\n\n\u672c\u4f8b\u4e2d\u7684\u5168\u8fde\u63a5\u795e\u7ecf\u7f51\u7edc\u6709\u4e00\u4e2a\u9690\u85cf\u5c42, \u540e\u63a5ReLU\u6fc0\u6d3b\u5c42, \u5e76\u4e14\u4e0d\u5e26\u504f\u7f6e\u53c2\u6570. \n\u8bad\u7ec3\u65f6\u901a\u8fc7\u6700\u5c0f\u5316\u6b27\u5f0f\u8ddd\u79bb\u7684\u5e73\u65b9, \u6765\u5b66\u4e60\u4ecex\u5230y\u7684\u6620\u5c04.\n\n\u5728\u5b9e\u73b0\u4e2d, \u6211\u4eec\u4f1a\u7528\u57fa\u672c\u7684TensorFlow\u64cd\u4f5c\u6765\u5efa\u7acb\u4e00\u4e2a\u8ba1\u7b97\u56fe, \u968f\u540e\u591a\u6b21\u6267\u884c\u8fd9\u4e2a\u56fe\u6765\u8bad\u7ec3\u7f51\u7edc.\n\nTensorFlow\u548cPyTorch\u6709\u4e00\u4e2a\u5f88\u5927\u7684\u533a\u522b, \u5c31\u662fTensorFlow\u7528\u7684\u662f\u9759\u6001\u8ba1\u7b97\u56fe, \u800cPyTorch\u5219\u7528\u52a8\u6001\u8ba1\u7b97\u56fe.\n\n\u7528TensorFlow\u6211\u4eec\u5148\u5efa\u7acb\u8ba1\u7b97\u56fe, \u7136\u540e\u5728\u591a\u6b21\u6267\u884c\u8fc7\u7a0b\u4e2d, \u8ba1\u7b97\u56fe\u56fa\u5b9a\u4e0d\u53d8.\n\n"
      ]
    },
    {
      "cell_type": "code",
      "execution_count": null,
      "metadata": {
        "collapsed": false
      },
      "outputs": [],
      "source": [
        "import tensorflow as tf\nimport numpy as np\n\n# \u9996\u5148\u6211\u4eec\u8bbe\u7f6e\u8ba1\u7b97\u56fe:\n\n# N \u6279\u91cf\u5927\u5c0f; D_in\u662f\u8f93\u5165\u5c3a\u5bf8;\n# H\u662f\u9690\u85cf\u5c3a\u5bf8; D_out\u662f\u8f93\u51fa\u5c3a\u5bf8.\nN, D_in, H, D_out = 64, 1000, 100, 10\n\n# \u4e3a\u8f93\u5165\u6570\u636e\u548c\u76ee\u6807\u6570\u636e\u521b\u5efa\u5360\u4f4d\u7b26; \n# \u5f53\u6211\u4eec\u6267\u884c\u56fe\u65f6,\u8fd9\u4e9b\u5c06\u88ab\u586b\u5145\u771f\u5b9e\u7684\u6570\u636e.\nx = tf.placeholder(tf.float32, shape=(None, D_in))\ny = tf.placeholder(tf.float32, shape=(None, D_out))\n\n# \u4e3a\u6743\u91cd\u521b\u5efa\u53d8\u91cf\u5e76\u7528\u968f\u673a\u6570\u636e\u521d\u59cb\u5316\u5b83\u4eec.\n# \u4e00\u4e2aTensorFlow\u53d8\u91cf\u5728\u56fe\u7684\u6267\u884c\u4e2d\u4fdd\u6301\u5176\u503c.\nw1 = tf.Variable(tf.random_normal((D_in, H)))\nw2 = tf.Variable(tf.random_normal((H, D_out)))\n\n# \u6b63\u5411\u4f20\u9012:\u4f7f\u7528TensorFlow Tensors\u4e0a\u7684\u8fd0\u7b97\u6765\u8ba1\u7b97\u9884\u6d4b\u7684y.\n# \u8bf7\u6ce8\u610f\u6b64\u4ee3\u7801\u5b9e\u9645\u4e0a\u5e76\u672a\u6267\u884c\u4efb\u4f55\u6570\u5b57\u64cd\u4f5c;\n# \u5b83\u53ea\u662f\u8bbe\u7f6e\u6211\u4eec\u7a0d\u540e\u5c06\u6267\u884c\u7684\u8ba1\u7b97\u56fe.\nh = tf.matmul(x, w1)\nh_relu = tf.maximum(h, tf.zeros(1))\ny_pred = tf.matmul(h_relu, w2)\n\n# \u4f7f\u7528TensorFlow\u5f20\u91cf\u4e0a\u7684\u64cd\u4f5c\u8ba1\u7b97\u635f\u5931\nloss = tf.reduce_sum((y - y_pred) ** 2.0)\n\n# \u8ba1\u7b97\u76f8\u5bf9\u4e8ew1\u548cw2\u7684\u635f\u5931\u68af\u5ea6.\ngrad_w1, grad_w2 = tf.gradients(loss, [w1, w2])\n\n# \u4f7f\u7528\u68af\u5ea6\u4e0b\u964d\u66f4\u65b0\u6743\u91cd.\n# \u8981\u5b9e\u9645\u66f4\u65b0\u6743\u91cd,\u6211\u4eec\u9700\u8981\u5728\u6267\u884c\u56fe\u65f6\u8bc4\u4f30new_w1\u548cnew_w2.\n# \u8bf7\u6ce8\u610f,\u5728TensorFlow\u4e2d,\u66f4\u65b0\u6743\u503c\u7684\u884c\u4e3a\u662f\u8ba1\u7b97\u56fe\u7684\u4e00\u90e8\u5206\n# \u5728PyTorch\u4e2d,\u8fd9\u53d1\u751f\u5728\u8ba1\u7b97\u56fe\u4e4b\u5916.\nlearning_rate = 1e-6\nnew_w1 = w1.assign(w1 - learning_rate * grad_w1)\nnew_w2 = w2.assign(w2 - learning_rate * grad_w2)\n\n# \u73b0\u5728\u6211\u4eec\u5df2\u7ecf\u6784\u5efa\u4e86\u8ba1\u7b97\u56fe,\u6240\u4ee5\u6211\u4eec\u8f93\u5165\u4e00\u4e2aTensorFlow\u4f1a\u8bdd\u6765\u5b9e\u9645\u6267\u884c\u56fe.\nwith tf.Session() as sess:\n    # \u8fd0\u884c\u4e00\u6b21\u56fe\u5f62\u521d\u59cb\u5316\u53d8\u91cfw1\u548cw2.\n    sess.run(tf.global_variables_initializer())\n\n    # \u521b\u5efa\u5305\u542b\u8f93\u5165x\u548c\u76ee\u6807y\u7684\u5b9e\u9645\u6570\u636e\u7684numpy\u6570\u7ec4\n    x_value = np.random.randn(N, D_in)\n    y_value = np.random.randn(N, D_out)\n    for _ in range(500):\n        # \u591a\u6b21\u6267\u884c\u56fe. \u6bcf\u6b21\u6267\u884c\u65f6,\n        # \u6211\u4eec\u90fd\u60f3\u5c06x_value\u7ed1\u5b9a\u5230x,\u5c06y_value\u7ed1\u5b9a\u5230y,\u7528feed_dict\u53c2\u6570\u6307\u5b9a.\n        # \u6bcf\u6b21\u6211\u4eec\u6267\u884c\u56fe\u65f6,\u6211\u4eec\u90fd\u60f3\u8ba1\u7b97\u635f\u5931\u503cnew_w1 \u548c new_w2; \n        # \u8fd9\u4e9b\u5f20\u91cf\u7684\u503c\u4f5c\u4e3anumpy\u6570\u7ec4\u8fd4\u56de.\n        loss_value, _, _ = sess.run([loss, new_w1, new_w2],\n                                    feed_dict={x: x_value, y: y_value})\n        print(loss_value)"
      ]
    }
  ],
  "metadata": {
    "kernelspec": {
      "display_name": "Python 3",
      "language": "python",
      "name": "python3"
    },
    "language_info": {
      "codemirror_mode": {
        "name": "ipython",
        "version": 3
      },
      "file_extension": ".py",
      "mimetype": "text/x-python",
      "name": "python",
      "nbconvert_exporter": "python",
      "pygments_lexer": "ipython3",
      "version": "3.6.3"
    }
  },
  "nbformat": 4,
  "nbformat_minor": 0
}