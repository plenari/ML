{
 "cells": [
  {
   "cell_type": "code",
   "execution_count": 1,
   "metadata": {},
   "outputs": [],
   "source": [
    "%matplotlib inline"
   ]
  },
  {
   "cell_type": "markdown",
   "metadata": {},
   "source": [
    "\n",
    "用字符级RNN分类名称\n",
    "*********************************************\n",
    "**作者**: `Sean Robertson <https://github.com/spro/practical-pytorch>`_\n",
    "\n",
    "我们将建立和训练一个基本的字符级RNN进行分类单词. 字符级别的RNN将单词读为一系列字符 - 在每个步骤输出一个预测和“隐藏状态”,\n",
    "将先前的隐藏状态作为下一步的输入. 我们采取最后的预测作为输出,即该单词属于哪一类.\n",
    "\n",
    "具体来说,我们将用18种语言的几千个姓氏作为训练集并根据拼写预测名称来自哪种语言:\n",
    "\n",
    "::\n",
    "\n",
    "    $ python predict.py Hinton\n",
    "    (-0.47) Scottish\n",
    "    (-1.52) English\n",
    "    (-3.57) Irish\n",
    "\n",
    "    $ python predict.py Schmidhuber\n",
    "    (-0.19) German\n",
    "    (-2.48) Czech\n",
    "    (-2.68) Dutch\n",
    "\n",
    "\n",
    "**推荐阅读:**\n",
    "\n",
    "假设你至少已经安装了PyTorch,知道Python和了解张量:\n",
    "\n",
    "-  http://pytorch.org/ 安装步骤\n",
    "-  :doc:`/beginner/deep_learning_60min_blitz` 大体了解PyTorch\n",
    "-  :doc:`/beginner/pytorch_with_examples` 深入概括\n",
    "-  :doc:`/beginner/former_torchies_tutorial` 假设你是前Lua Torch用户\n",
    "\n",
    "了解RNN及其工作方式也很有用:\n",
    "\n",
    "-  `递归神经网络的不合理有效性 <http://karpathy.github.io/2015/05/21/rnn-effectiveness/>`__\n",
    "   展示了一堆真实生活的例子\n",
    "-  `理解LSTM网络 <http://colah.github.io/posts/2015-08-Understanding-LSTMs/>`__\n",
    "   是关于LSTM的具体内容,但也包含有关RNN的一般信息\n",
    "\n",
    "准备数据\n",
    "==================\n",
    "\n",
    ".. 注意::\n",
    "   从这里下载数据\n",
    "   `here <https://download.pytorch.org/tutorial/data.zip>`_\n",
    "   并将其解压到当前目录.\n",
    "\n",
    "在 ``data/names`` 目录中包含18个名为as的文本文件 \"[Language].txt\" .\n",
    "每个文件都包含一堆名称,每个名称一行大多是罗马化（但我们仍然需要从Unicode转换为ASCII）.\n",
    "\n",
    "我们最终会得到每种语言的名称列表字典 ``{language: [names ...]}``  通用变量“类别”和“行”\n",
    "（在我们的例子中用于语言和名称）用于以后的扩展性.\n",
    "\n",
    "\n"
   ]
  },
  {
   "cell_type": "code",
   "execution_count": 14,
   "metadata": {},
   "outputs": [],
   "source": [
    "from __future__ import unicode_literals, print_function, division\n",
    "from io import open\n",
    "import glob\n",
    "import os"
   ]
  },
  {
   "cell_type": "code",
   "execution_count": 13,
   "metadata": {},
   "outputs": [],
   "source": [
    "dirs=r'G:\\git\\data\\pytorch\\data\\names\\*.txt'"
   ]
  },
  {
   "cell_type": "code",
   "execution_count": 7,
   "metadata": {},
   "outputs": [
    {
     "name": "stdout",
     "output_type": "stream",
     "text": [
      "['G:\\\\git\\\\data\\\\pytorch\\\\data\\\\names\\\\Arabic.txt', 'G:\\\\git\\\\data\\\\pytorch\\\\data\\\\names\\\\Chinese.txt', 'G:\\\\git\\\\data\\\\pytorch\\\\data\\\\names\\\\Czech.txt', 'G:\\\\git\\\\data\\\\pytorch\\\\data\\\\names\\\\Dutch.txt', 'G:\\\\git\\\\data\\\\pytorch\\\\data\\\\names\\\\English.txt', 'G:\\\\git\\\\data\\\\pytorch\\\\data\\\\names\\\\French.txt', 'G:\\\\git\\\\data\\\\pytorch\\\\data\\\\names\\\\German.txt', 'G:\\\\git\\\\data\\\\pytorch\\\\data\\\\names\\\\Greek.txt', 'G:\\\\git\\\\data\\\\pytorch\\\\data\\\\names\\\\Irish.txt', 'G:\\\\git\\\\data\\\\pytorch\\\\data\\\\names\\\\Italian.txt', 'G:\\\\git\\\\data\\\\pytorch\\\\data\\\\names\\\\Japanese.txt', 'G:\\\\git\\\\data\\\\pytorch\\\\data\\\\names\\\\Korean.txt', 'G:\\\\git\\\\data\\\\pytorch\\\\data\\\\names\\\\Polish.txt', 'G:\\\\git\\\\data\\\\pytorch\\\\data\\\\names\\\\Portuguese.txt', 'G:\\\\git\\\\data\\\\pytorch\\\\data\\\\names\\\\Russian.txt', 'G:\\\\git\\\\data\\\\pytorch\\\\data\\\\names\\\\Scottish.txt', 'G:\\\\git\\\\data\\\\pytorch\\\\data\\\\names\\\\Spanish.txt', 'G:\\\\git\\\\data\\\\pytorch\\\\data\\\\names\\\\Vietnamese.txt']\n"
     ]
    }
   ],
   "source": [
    "def findFiles(path): return glob.glob(path)\n",
    "\n",
    "print(findFiles(r'G:\\git\\data\\pytorch\\data\\names\\*.txt'))"
   ]
  },
  {
   "cell_type": "code",
   "execution_count": 15,
   "metadata": {},
   "outputs": [],
   "source": [
    "import unicodedata\n",
    "import string"
   ]
  },
  {
   "cell_type": "code",
   "execution_count": 17,
   "metadata": {},
   "outputs": [
    {
     "data": {
      "text/plain": [
       "'abcdefghijklmnopqrstuvwxyzABCDEFGHIJKLMNOPQRSTUVWXYZ'"
      ]
     },
     "execution_count": 17,
     "metadata": {},
     "output_type": "execute_result"
    }
   ],
   "source": [
    "string.ascii_letters"
   ]
  },
  {
   "cell_type": "code",
   "execution_count": 21,
   "metadata": {},
   "outputs": [
    {
     "data": {
      "text/plain": [
       "'a'"
      ]
     },
     "execution_count": 21,
     "metadata": {},
     "output_type": "execute_result"
    }
   ],
   "source": [
    "unicodedata.normalize('NFD', 'a')"
   ]
  },
  {
   "cell_type": "code",
   "execution_count": 22,
   "metadata": {},
   "outputs": [
    {
     "data": {
      "text/plain": [
       "True"
      ]
     },
     "execution_count": 22,
     "metadata": {},
     "output_type": "execute_result"
    }
   ],
   "source": [
    "unicodedata.category('a')!='Mn'"
   ]
  },
  {
   "cell_type": "code",
   "execution_count": 23,
   "metadata": {},
   "outputs": [
    {
     "name": "stdout",
     "output_type": "stream",
     "text": [
      "Slusarski\n"
     ]
    }
   ],
   "source": [
    "\n",
    "all_letters = string.ascii_letters + \" .,;'\"\n",
    "n_letters = len(all_letters)\n",
    "\n",
    "# 将 Unicode 字符串转换为纯 ASCII 编码, 这里感谢 http://stackoverflow.com/a/518232/2809427\n",
    "def unicodeToAscii(s):\n",
    "    return ''.join(\n",
    "        c for c in unicodedata.normalize('NFD', s)\n",
    "        if unicodedata.category(c) != 'Mn'\n",
    "        and c in all_letters\n",
    "    )\n",
    "\n",
    "print(unicodeToAscii('Ślusàrski'))\n",
    "\n",
    "# 构建category_lines字典, 每种语言的名称列表\n",
    "category_lines = {}\n",
    "all_categories = []\n",
    "\n",
    "# 读取一个文件并分成几行\n",
    "def readLines(filename):\n",
    "    lines = open(filename, encoding='utf-8').read().strip().split('\\n')\n",
    "    return [unicodeToAscii(line) for line in lines]\n",
    "\n",
    "for filename in findFiles(dirs):\n",
    "    category = filename.split(os.sep)[-1].split('.')[0]\n",
    "    all_categories.append(category)\n",
    "    lines = readLines(filename)\n",
    "    category_lines[category] = lines\n",
    "\n",
    "n_categories = len(all_categories)"
   ]
  },
  {
   "cell_type": "markdown",
   "metadata": {},
   "source": [
    "现在我们有 ``category_lines``, 这是一个映射每个类别的字典\n",
    "(语言) 到行列表 (名称). 我们也跟踪\n",
    "``all_categories`` (只是一个语言列表) 和 ``n_categories`` 为以后做参考.\n",
    "\n",
    "\n"
   ]
  },
  {
   "cell_type": "code",
   "execution_count": 25,
   "metadata": {},
   "outputs": [
    {
     "name": "stdout",
     "output_type": "stream",
     "text": [
      "['Abandonato', 'Abatangelo', 'Abatantuono', 'Abate', 'Abategiovanni']\n"
     ]
    }
   ],
   "source": [
    "print(category_lines['Italian'][:5])"
   ]
  },
  {
   "cell_type": "markdown",
   "metadata": {},
   "source": [
    "将名字转化为张量\n",
    "--------------------------\n",
    "\n",
    "现在我们已经组织了所有的名字,我们需要将它们变成张量以便使用它们.\n",
    "\n",
    "为了表示单个字母,我们使用大小为 ``<1 x n_letters>`` 的\"单热矢量\".\n",
    "除了当前字母的索引处的1以外,单热矢量剩余填充0, e.g. ``\"b\" = <0 1 0 0 0 ...>``.\n",
    "\n",
    "为了说出一个词,我们将其中的一部分加入到二维矩阵中\n",
    "``<line_length x 1 x n_letters>``.\n",
    "\n",
    "额外的1维度是因为PyTorch假定所有内容都是批量的 - 我们在这里只使用1的批量大小.\n",
    "\n",
    "\n"
   ]
  },
  {
   "cell_type": "code",
   "execution_count": 26,
   "metadata": {
    "scrolled": true
   },
   "outputs": [
    {
     "name": "stdout",
     "output_type": "stream",
     "text": [
      "tensor([[ 0.,  0.,  0.,  0.,  0.,  0.,  0.,  0.,  0.,  0.,  0.,  0.,\n",
      "          0.,  0.,  0.,  0.,  0.,  0.,  0.,  0.,  0.,  0.,  0.,  0.,\n",
      "          0.,  0.,  0.,  0.,  0.,  0.,  0.,  0.,  0.,  0.,  0.,  1.,\n",
      "          0.,  0.,  0.,  0.,  0.,  0.,  0.,  0.,  0.,  0.,  0.,  0.,\n",
      "          0.,  0.,  0.,  0.,  0.,  0.,  0.,  0.,  0.]])\n",
      "torch.Size([5, 1, 57])\n"
     ]
    }
   ],
   "source": [
    "import torch\n",
    "\n",
    "# 从all_letters中查找字母索引, e.g. \"a\" = 0\n",
    "def letterToIndex(letter):\n",
    "    return all_letters.find(letter)\n",
    "\n",
    "# 只是为了演示, 把一个字母变成一个 <1 x n_letters> 张量\n",
    "def letterToTensor(letter):\n",
    "    tensor = torch.zeros(1, n_letters)\n",
    "    tensor[0][letterToIndex(letter)] = 1\n",
    "    return tensor\n",
    "\n",
    "# 把一行变成一个 <line_length x 1 x n_letters>,\n",
    "# 或一批单热字符向量\n",
    "def lineToTensor(line):\n",
    "    tensor = torch.zeros(len(line), 1, n_letters)\n",
    "    for li, letter in enumerate(line):\n",
    "        tensor[li][0][letterToIndex(letter)] = 1\n",
    "    return tensor\n",
    "\n",
    "print(letterToTensor('J'))\n",
    "\n",
    "print(lineToTensor('Jones').size())"
   ]
  },
  {
   "cell_type": "markdown",
   "metadata": {},
   "source": [
    "* 5,1,57\n",
    "       \n",
    "    分别代表什么？Jones对应一个y，但是确实有五个字母，每个字母有57个维度\n",
    "    \n",
    "    所以分别对应，时间序列的长度，样本，输入的维度？\n",
    "    "
   ]
  },
  {
   "cell_type": "markdown",
   "metadata": {},
   "source": [
    "创建网络\n",
    "====================\n",
    "\n",
    "在autograd之前, 在Torch中创建一个循环神经网络涉及到克隆几个步骤一个图层的参数.\n",
    "图层保持隐藏状态和渐变, 现在完全由图形本身处理.\n",
    "这意味着您可以以非常“纯粹”的方式实现RNN, 作为常规的前馈层.\n",
    "\n",
    "这个RNN模块 (大部分都是复制 `the PyTorch for Torch users tutorial <http://pytorch.org/tutorials/beginner/former_torchies/nn_tutorial.html#example-2-recurrent-net>`__)\n",
    "只有2个线性层可以在输入和隐藏状态下运行, 在输出之后有一个LogSoftmax层.\n",
    "\n",
    ".. figure:: https://i.imgur.com/Z2xbySO.png\n",
    "   :alt:\n",
    "\n",
    "\n",
    "\n"
   ]
  },
  {
   "cell_type": "code",
   "execution_count": 29,
   "metadata": {},
   "outputs": [],
   "source": [
    "import torch.nn as nn\n",
    "from torch.autograd import Variable\n",
    "\n",
    "class RNN(nn.Module):\n",
    "    def __init__(self, input_size, hidden_size, output_size):\n",
    "        super(RNN, self).__init__()\n",
    "\n",
    "        self.hidden_size = hidden_size\n",
    "\n",
    "        self.i2h = nn.Linear(input_size + hidden_size, hidden_size)\n",
    "        self.i2o = nn.Linear(input_size + hidden_size, output_size)\n",
    "        self.softmax = nn.LogSoftmax(dim=1)\n",
    "\n",
    "    def forward(self, input, hidden):\n",
    "        combined = torch.cat((input, hidden), 1)\n",
    "        hidden = self.i2h(combined)\n",
    "        output = self.i2o(combined)\n",
    "        output = self.softmax(output)\n",
    "        return output, hidden\n",
    "\n",
    "    def initHidden(self):\n",
    "        return Variable(torch.zeros(1, self.hidden_size))\n",
    "\n",
    "n_hidden = 128\n",
    "#57,128,18\n",
    "rnn = RNN(n_letters, n_hidden, n_categories)"
   ]
  },
  {
   "cell_type": "markdown",
   "metadata": {},
   "source": [
    "为了运行这个网络的一个步骤, 我们需要传递一个输入 (在我们的例子中是当前字母的张量) 和一个先前的隐藏状态 (我们首先初始化为零) .\n",
    "我们将返回输出 (每种语言的概率) 和下一个隐藏状态 (我们为下一步保留).\n",
    "请记住, PyTorch模块对变量进行操作, 而不是直接对张量进行操作."
   ]
  },
  {
   "cell_type": "code",
   "execution_count": 30,
   "metadata": {},
   "outputs": [],
   "source": [
    "input = Variable(letterToTensor('A'))\n",
    "hidden = Variable(torch.zeros(1, n_hidden))\n",
    "\n",
    "output, next_hidden = rnn(input, hidden)"
   ]
  },
  {
   "cell_type": "code",
   "execution_count": 33,
   "metadata": {},
   "outputs": [
    {
     "data": {
      "text/plain": [
       "torch.Size([1, 18])"
      ]
     },
     "execution_count": 33,
     "metadata": {},
     "output_type": "execute_result"
    }
   ],
   "source": [
    "output.shape"
   ]
  },
  {
   "cell_type": "markdown",
   "metadata": {},
   "source": [
    "为了提高效率我们不希望为每一步创建一个新的张量,\n",
    "所以我们使用 ``lineToTensor`` 而不是 ``letterToTensor`` 并使用切片.\n",
    "这可以通过预先计算批次的张量进一步优化.\n",
    "\n",
    "\n"
   ]
  },
  {
   "cell_type": "code",
   "execution_count": 34,
   "metadata": {},
   "outputs": [
    {
     "name": "stdout",
     "output_type": "stream",
     "text": [
      "tensor([[-2.8423, -2.9474, -2.8411, -2.8580, -2.9305, -2.9061, -2.8690,\n",
      "         -2.9037, -2.7865, -2.9326, -2.9553, -2.8911, -2.8138, -2.8958,\n",
      "         -2.9437, -2.9259, -2.9467, -2.8587]])\n"
     ]
    }
   ],
   "source": [
    "input = Variable(lineToTensor('Albert'))\n",
    "hidden = Variable(torch.zeros(1, n_hidden))\n",
    "\n",
    "output, next_hidden = rnn(input[0], hidden)\n",
    "print(output)"
   ]
  },
  {
   "cell_type": "markdown",
   "metadata": {},
   "source": [
    "正如你所看到的输出是一个 ``<1 x n_categories>`` 张量,\n",
    "每个项目都是该类别的可能性 (越高越有可能).\n",
    "\n",
    "\n"
   ]
  },
  {
   "cell_type": "markdown",
   "metadata": {},
   "source": [
    "训练\n",
    "========\n",
    "准备训练\n",
    "----------------------\n",
    "\n",
    "在训练之前,我们应该做一些辅助功能.\n",
    "首先是解释网络的输出, 我们知道这是每个类别的可能性.\n",
    "我么可以使用 ``Tensor.topk`` 得到最大价值的指数:\n",
    "\n",
    "\n"
   ]
  },
  {
   "cell_type": "code",
   "execution_count": 42,
   "metadata": {},
   "outputs": [
    {
     "name": "stdout",
     "output_type": "stream",
     "text": [
      "('Irish', tensor(8))\n"
     ]
    }
   ],
   "source": [
    "def categoryFromOutput(output):\n",
    "    top_n, top_i = output.data.topk(1) # Tensor out of Variable with .data\n",
    "    category_i = top_i.item()\n",
    "    return all_categories[category_i], category_i\n",
    "\n",
    "print(categoryFromOutput(output))"
   ]
  },
  {
   "cell_type": "markdown",
   "metadata": {},
   "source": [
    "我们也希望能够快速获得训练示例 (名称及其语言):\n",
    "\n",
    "\n"
   ]
  },
  {
   "cell_type": "code",
   "execution_count": null,
   "metadata": {},
   "outputs": [],
   "source": [
    "import random\n",
    "\n",
    "def randomChoice(l):\n",
    "    return l[random.randint(0, len(l) - 1)]\n",
    "\n",
    "def randomTrainingExample():\n",
    "    category = randomChoice(all_categories)\n",
    "    line = randomChoice(category_lines[category])\n",
    "    category_tensor = Variable(torch.LongTensor([all_categories.index(category)]))\n",
    "    line_tensor = Variable(lineToTensor(line))\n",
    "    return category, line, category_tensor, line_tensor\n",
    "\n",
    "for i in range(10):\n",
    "    category, line, category_tensor, line_tensor = randomTrainingExample()\n",
    "    print('category =', category, '/ line =', line)"
   ]
  },
  {
   "cell_type": "markdown",
   "metadata": {},
   "source": [
    "训练网络\n",
    "--------------------\n",
    "\n",
    "现在训练这个网络所需要的就是向大家展示一些例子, 让它猜测, 并告诉它是否是错误的.\n",
    "\n",
    "对于损失函数 ``nn.NLLLoss`` 是适当的, 因为RNN的最后一层是 ``nn.LogSoftmax``.\n",
    "\n",
    "\n"
   ]
  },
  {
   "cell_type": "code",
   "execution_count": null,
   "metadata": {},
   "outputs": [],
   "source": [
    "criterion = nn.NLLLoss()"
   ]
  },
  {
   "cell_type": "markdown",
   "metadata": {},
   "source": [
    "每个训练循环都会:\n",
    "\n",
    "-  创建输入和目标张量\n",
    "-  创建一个归零的初始隐藏状态\n",
    "-  读入每个字母\n",
    "\n",
    "   -  为下一个字母保持隐藏状态\n",
    "\n",
    "-  比较最终输出与目标\n",
    "-  反向传播\n",
    "-  返回输出和损失\n",
    "\n",
    "\n"
   ]
  },
  {
   "cell_type": "code",
   "execution_count": null,
   "metadata": {},
   "outputs": [],
   "source": [
    "learning_rate = 0.005 # 如果设置得太高, 可能会爆炸. 如果太低, 可能无法学习.\n",
    "\n",
    "def train(category_tensor, line_tensor):\n",
    "    hidden = rnn.initHidden()\n",
    "\n",
    "    rnn.zero_grad()\n",
    "\n",
    "    for i in range(line_tensor.size()[0]):\n",
    "        output, hidden = rnn(line_tensor[i], hidden)\n",
    "\n",
    "    loss = criterion(output, category_tensor)\n",
    "    loss.backward()\n",
    "\n",
    "    # 将参数梯度添加到它们的值,再乘以学习速率\n",
    "    for p in rnn.parameters():\n",
    "        p.data.add_(-learning_rate, p.grad.data)\n",
    "\n",
    "    return output, loss.data[0]"
   ]
  },
  {
   "cell_type": "markdown",
   "metadata": {},
   "source": [
    "现在我们只需要运行一些例子. 由于 ``train`` 函数返回输出和损失,我们可以打印它的猜测,并记录绘图的损失\n",
    "既然有1000个例子, 我们只打印每个 ``print_every`` 的例子, 并取平均的损失.\n",
    "\n",
    "\n"
   ]
  },
  {
   "cell_type": "code",
   "execution_count": null,
   "metadata": {},
   "outputs": [],
   "source": [
    "import time\n",
    "import math\n",
    "\n",
    "n_iters = 100000\n",
    "print_every = 5000\n",
    "plot_every = 1000\n",
    "\n",
    "\n",
    "\n",
    "# 跟踪绘图的损失\n",
    "current_loss = 0\n",
    "all_losses = []\n",
    "\n",
    "def timeSince(since):\n",
    "    now = time.time()\n",
    "    s = now - since\n",
    "    m = math.floor(s / 60)\n",
    "    s -= m * 60\n",
    "    return '%dm %ds' % (m, s)\n",
    "\n",
    "start = time.time()\n",
    "\n",
    "for iter in range(1, n_iters + 1):\n",
    "    category, line, category_tensor, line_tensor = randomTrainingExample()\n",
    "    output, loss = train(category_tensor, line_tensor)\n",
    "    current_loss += loss\n",
    "\n",
    "    # 打印循环数,损失,名称和猜测\n",
    "    if iter % print_every == 0:\n",
    "        guess, guess_i = categoryFromOutput(output)\n",
    "        correct = '✓' if guess == category else '✗ (%s)' % category\n",
    "        print('%d %d%% (%s) %.4f %s / %s %s' % (iter, iter / n_iters * 100, timeSince(start), loss, line, guess, correct))\n",
    "\n",
    "    # 将当前损失平均值添加到损失清单\n",
    "    if iter % plot_every == 0:\n",
    "        all_losses.append(current_loss / plot_every)\n",
    "        current_loss = 0"
   ]
  },
  {
   "cell_type": "markdown",
   "metadata": {},
   "source": [
    "绘制结果\n",
    "--------------------\n",
    "\n",
    "从 ``all_losses`` 绘制历史损失显示网络学习:\n",
    "\n",
    "\n"
   ]
  },
  {
   "cell_type": "code",
   "execution_count": null,
   "metadata": {},
   "outputs": [],
   "source": [
    "import matplotlib.pyplot as plt\n",
    "import matplotlib.ticker as ticker\n",
    "\n",
    "plt.figure()\n",
    "plt.plot(all_losses)"
   ]
  },
  {
   "cell_type": "markdown",
   "metadata": {},
   "source": [
    "评估结果\n",
    "======================\n",
    "\n",
    "要查看网络在不同类别中的表现如何, 我们将创建一个混淆矩阵,\n",
    "为每个实际语言 (行) 指示网络猜测哪种语言 (列).\n",
    "为了计算混淆矩阵,一堆样本通过网络运行 ``evaluate()``,\n",
    "这和 ``train()`` 减去反向传播是一样的.\n",
    "\n",
    "\n"
   ]
  },
  {
   "cell_type": "code",
   "execution_count": null,
   "metadata": {},
   "outputs": [],
   "source": [
    "# 在混淆矩阵中跟踪正确的猜测\n",
    "confusion = torch.zeros(n_categories, n_categories)\n",
    "n_confusion = 10000\n",
    "\n",
    "# 只要返回给定一行的输出即可\n",
    "def evaluate(line_tensor):\n",
    "    hidden = rnn.initHidden()\n",
    "\n",
    "    for i in range(line_tensor.size()[0]):\n",
    "        output, hidden = rnn(line_tensor[i], hidden)\n",
    "\n",
    "    return output\n",
    "\n",
    "# 通过一堆示例并记录哪些是正确的猜测\n",
    "for i in range(n_confusion):\n",
    "    category, line, category_tensor, line_tensor = randomTrainingExample()\n",
    "    output = evaluate(line_tensor)\n",
    "    guess, guess_i = categoryFromOutput(output)\n",
    "    category_i = all_categories.index(category)\n",
    "    confusion[category_i][guess_i] += 1\n",
    "\n",
    "# 通过将每一行除以其总和来标准化\n",
    "for i in range(n_categories):\n",
    "    confusion[i] = confusion[i] / confusion[i].sum()\n",
    "\n",
    "# 设置绘图\n",
    "fig = plt.figure()\n",
    "ax = fig.add_subplot(111)\n",
    "cax = ax.matshow(confusion.numpy())\n",
    "fig.colorbar(cax)\n",
    "\n",
    "# 设置轴\n",
    "ax.set_xticklabels([''] + all_categories, rotation=90)\n",
    "ax.set_yticklabels([''] + all_categories)\n",
    "\n",
    "# Force label at every tick\n",
    "ax.xaxis.set_major_locator(ticker.MultipleLocator(1))\n",
    "ax.yaxis.set_major_locator(ticker.MultipleLocator(1))\n",
    "\n",
    "# sphinx_gallery_thumbnail_number = 2\n",
    "plt.show()"
   ]
  },
  {
   "cell_type": "markdown",
   "metadata": {},
   "source": [
    "您可以从主轴上选取显示错误猜测哪些语言的亮点,\n",
    "e.g. Chinese for Korean, and Spanish for Italian.\n",
    "它似乎与希腊语很好,英语很差 (可能是因为与其他语言重叠).\n",
    "\n",
    "\n"
   ]
  },
  {
   "cell_type": "markdown",
   "metadata": {},
   "source": [
    "在用户输入上运行\n",
    "---------------------\n",
    "\n",
    "\n"
   ]
  },
  {
   "cell_type": "code",
   "execution_count": null,
   "metadata": {},
   "outputs": [],
   "source": [
    "def predict(input_line, n_predictions=3):\n",
    "    print('\\n> %s' % input_line)\n",
    "    output = evaluate(Variable(lineToTensor(input_line)))\n",
    "\n",
    "    # 获取前N个类别\n",
    "    topv, topi = output.data.topk(n_predictions, 1, True)\n",
    "    predictions = []\n",
    "\n",
    "    for i in range(n_predictions):\n",
    "        value = topv[0][i]\n",
    "        category_index = topi[0][i]\n",
    "        print('(%.2f) %s' % (value, all_categories[category_index]))\n",
    "        predictions.append([value, all_categories[category_index]])\n",
    "\n",
    "predict('Dovesky')\n",
    "predict('Jackson')\n",
    "predict('Satoshi')"
   ]
  },
  {
   "cell_type": "markdown",
   "metadata": {},
   "source": [
    "脚本的最终版本 `in the Practical PyTorch repo <https://github.com/spro/practical-pytorch/tree/master/char-rnn-classification>`__\n",
    "将上面的代码分成几个文件:\n",
    "\n",
    "-  ``data.py`` (加载文件)\n",
    "-  ``model.py`` (定义RNN)\n",
    "-  ``train.py`` (运行训练)\n",
    "-  ``predict.py`` (用命令行参数运行 ``predict()`` )\n",
    "-  ``server.py`` (使用bottle.py将预测用作JSON API)\n",
    "\n",
    "运行 ``train.py`` 来训练和保存网络.\n",
    "\n",
    "运行具有名称的 ``predict.py`` 来查看预测:\n",
    "\n",
    "::\n",
    "\n",
    "    $ python predict.py Hazaki\n",
    "    (-0.42) Japanese\n",
    "    (-1.39) Polish\n",
    "    (-3.51) Czech\n",
    "\n",
    "运行 ``server.py`` 和查看 http://localhost:5533/Yourname 获取预测的JSON输出.\n",
    "\n",
    "\n"
   ]
  },
  {
   "cell_type": "markdown",
   "metadata": {},
   "source": [
    "练习\n",
    "=========\n",
    "\n",
    "-  尝试使用不同的数据集 线条 -> 类别, 例如:\n",
    "\n",
    "   -  任何单词 -> 语言\n",
    "   -  姓 -> 性别\n",
    "   -  角色名字 -> 作家\n",
    "   -  页面标题 -> 博客或subreddit\n",
    "\n",
    "-  通过更大和/或更好的形状网络获得更好的结果\n",
    "\n",
    "   -  添加更多线性图层\n",
    "   -  试试 ``nn.LSTM`` 和 ``nn.GRU`` 图层\n",
    "   -  将多个这些RNN组合为更高级别的网络\n",
    "\n",
    "\n"
   ]
  }
 ],
 "metadata": {
  "kernelspec": {
   "display_name": "Python 3",
   "language": "python",
   "name": "python3"
  },
  "language_info": {
   "codemirror_mode": {
    "name": "ipython",
    "version": 3
   },
   "file_extension": ".py",
   "mimetype": "text/x-python",
   "name": "python",
   "nbconvert_exporter": "python",
   "pygments_lexer": "ipython3",
   "version": "3.6.4"
  }
 },
 "nbformat": 4,
 "nbformat_minor": 1
}
