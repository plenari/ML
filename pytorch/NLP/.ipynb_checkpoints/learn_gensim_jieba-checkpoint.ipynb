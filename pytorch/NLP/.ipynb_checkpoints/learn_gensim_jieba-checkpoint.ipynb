{
 "cells": [
  {
   "cell_type": "markdown",
   "metadata": {},
   "source": [
    "### 1. jieba"
   ]
  },
  {
   "cell_type": "code",
   "execution_count": 1,
   "metadata": {},
   "outputs": [],
   "source": [
    "import jieba"
   ]
  },
  {
   "cell_type": "markdown",
   "metadata": {},
   "source": [
    "#### 1. 分词"
   ]
  },
  {
   "cell_type": "code",
   "execution_count": 3,
   "metadata": {
    "scrolled": true
   },
   "outputs": [
    {
     "name": "stdout",
     "output_type": "stream",
     "text": [
      "Full Mode: 我/ 来到/ 北京/ 清华/ 清华大学/ 华大/ 大学\n"
     ]
    }
   ],
   "source": [
    "seg_list = jieba.cut(\"我来到北京清华大学\", cut_all=True, HMM=False)\n",
    "print(\"Full Mode: \" + \"/ \".join(seg_list))  # 全模式"
   ]
  },
  {
   "cell_type": "code",
   "execution_count": 4,
   "metadata": {},
   "outputs": [
    {
     "name": "stdout",
     "output_type": "stream",
     "text": [
      "Default Mode: 我/ 来到/ 北京/ 清华大学\n"
     ]
    }
   ],
   "source": [
    "seg_list = jieba.cut(\"我来到北京清华大学\", cut_all=False, HMM=True)\n",
    "print(\"Default Mode: \" + \"/ \".join(seg_list))  # 默认模式"
   ]
  },
  {
   "cell_type": "code",
   "execution_count": 5,
   "metadata": {},
   "outputs": [
    {
     "name": "stdout",
     "output_type": "stream",
     "text": [
      "他, 来到, 了, 网易, 杭研, 大厦\n"
     ]
    }
   ],
   "source": [
    "seg_list = jieba.cut(\"他来到了网易杭研大厦\", HMM=True)\n",
    "print(\", \".join(seg_list))"
   ]
  },
  {
   "cell_type": "code",
   "execution_count": 6,
   "metadata": {},
   "outputs": [
    {
     "name": "stdout",
     "output_type": "stream",
     "text": [
      "他, 来到, 了, 网易, 杭, 研, 大厦\n"
     ]
    }
   ],
   "source": [
    "seg_list = jieba.cut(\"他来到了网易杭研大厦\", HMM=False)\n",
    "print(\", \".join(seg_list))"
   ]
  },
  {
   "cell_type": "code",
   "execution_count": 7,
   "metadata": {},
   "outputs": [
    {
     "name": "stdout",
     "output_type": "stream",
     "text": [
      "小明, 硕士, 毕业, 于, 中国, 科学, 学院, 科学院, 中国科学院, 计算, 计算所, ，,  ,  ,  ,  , 后, 在, 日本, 京都, 大学, 日本京都大学, 深造\n"
     ]
    }
   ],
   "source": [
    "seg_list = jieba.cut_for_search(\"小明硕士毕业于中国科学院计算所，\\\n",
    "    后在日本京都大学深造\", HMM=True)  # 搜索引擎模式\n",
    "print(\", \".join(seg_list))"
   ]
  },
  {
   "cell_type": "code",
   "execution_count": 8,
   "metadata": {
    "scrolled": false
   },
   "outputs": [
    {
     "name": "stdout",
     "output_type": "stream",
     "text": [
      "小, 明, 硕士, 毕业, 于, 中国, 科学, 学院, 科学院, 中国科学院, 计算, 计算所, ，, 后, 在, 日本, 京都, 大学, 日本京都大学, 深造\n"
     ]
    }
   ],
   "source": [
    "seg_list = jieba.cut_for_search(\"小明硕士毕业于中国科学院计算所，后在日本京都大学深造\", HMM=False)  # 搜索引擎模式\n",
    "print(\", \".join(seg_list))"
   ]
  },
  {
   "cell_type": "markdown",
   "metadata": {},
   "source": [
    "#### 2. 关键字提取"
   ]
  },
  {
   "cell_type": "code",
   "execution_count": 9,
   "metadata": {},
   "outputs": [],
   "source": [
    "from os import path\n",
    "import jieba.analyse as analyse\n"
   ]
  },
  {
   "cell_type": "code",
   "execution_count": 57,
   "metadata": {},
   "outputs": [],
   "source": [
    "text_path = '1153.md' #设置要分析的文本路径\n",
    "with open(text_path,encoding='utf-8') as f:\n",
    "    dingzeng =f.read()"
   ]
  },
  {
   "cell_type": "code",
   "execution_count": 11,
   "metadata": {},
   "outputs": [
    {
     "name": "stdout",
     "output_type": "stream",
     "text": [
      "\n",
      "证 券代码： 002498 证券简称：汉缆股份 公告编号： 2012-084\n",
      "\n",
      "青岛汉缆股份有限公司关于重大合同中标的公告\n",
      "\n",
      "本公司及董事会全体成员保证信息披露内容的真实、准确和完整，没有虚假记载、误导性陈述或重大遗漏。\n",
      "\n",
      "\n",
      "我公司于 2012 年 11 月 20 日在巨潮资讯网 www.cninfo.com.cn\n",
      "及《中国证券报》、《上海证券报》、《证券日报》和《证券时报》上公告了关于重大经营合同中标的提示性公告。公司于 2012 年 12 月 3\n",
      "日接到国家电网公司招投标管理中心发来的《中标通知书》，通知确定公司青岛汉缆股份有限公司为“国家电网公司输变电项目哈密南-\n",
      "郑州±800千伏特高压直流输电线路工程导线施工标段（二）导地线招标活动”、 “国家电网公司输变电项目哈密南-\n",
      "郑州±800千伏特高压直流输电线路工程导线施工标段（三）导地线招标活动”、“国家电网公司输变电项目新疆与西北主网联网750千伏第二通道输变电工程特殊导线及地线招标活动”的中标单位，中标内容：公司中标3个包，中标总数量9662.02吨。中标价为人民币共计\n",
      "16928.79754 万元（大写：人民币壹亿陆仟玖佰贰拾捌万柒仟玖佰柒拾伍元肆角整）。\n",
      "\n",
      "招标人：国家电网公司注册资本： 2000 亿元\n",
      "公司法 定代表人：刘振亚\n",
      "\n",
      "注册地址：北京市西城区西大安街 86 号\n",
      "公司的经营范围：主营：输电、供电（经批准的供电区域），对外派遣实施所承包境外工程所需的劳务人员。一般经营项目：实业投资及经营管理，与电力供应有关的科学研究，技术开发，电力生产调度信息通信，咨询服务，非职业培训；进出口业务，承包境外工程和境内国际招标工程；上述境外工程所需的设备，材料出口；在国（境）外举办各类生产性企业\n",
      "。\n",
      "国家电网公司与本公司不存在关联关系，近三年与本公司发生类似业务多次。\n",
      "\n",
      "本次项目中标价占公司 2011 年度经审计后营业总收入的 4.50% ，合同履行对公司 2012 、 2013\n",
      "年的经营业绩将产生积极影响，合同履行不影响公司业务的独立性。\n",
      "\n",
      "目前，公司与中标单位尚未签署中标合同。合同签署后履行相应的信息披露程序，敬请广大投资者注意投资风险 。\n",
      "特此公告。\n",
      "\n",
      "青岛汉缆股份有限公司董事会\n",
      "2012 年 12 月 3 日\n",
      "\n"
     ]
    }
   ],
   "source": [
    "for i in text.split('\\n\\n'):\n",
    "    print(i.strip())\n"
   ]
  },
  {
   "cell_type": "code",
   "execution_count": 12,
   "metadata": {
    "scrolled": true
   },
   "outputs": [
    {
     "name": "stdout",
     "output_type": "stream",
     "text": [
      "('公司', 0.21670948104618554)\n",
      "('2012', 0.20540837633848796)\n",
      "('国家电网', 0.19931074530680412)\n",
      "('中标', 0.19285734310800687)\n",
      "('汉缆', 0.16432670107079037)\n",
      "('输变电', 0.1434356254185567)\n",
      "('工程', 0.13718890854209623)\n",
      "('合同', 0.13352403897216492)\n",
      "('招标', 0.10404365363683848)\n",
      "('千伏', 0.1029758210984536)\n",
      "('公告', 0.09447888093419245)\n",
      "('输电', 0.09361233078731959)\n",
      "('导线', 0.09228781197525773)\n",
      "('12', 0.08216335053539518)\n",
      "('800', 0.08216335053539518)\n",
      "('导地线', 0.08216335053539518)\n",
      "('青岛', 0.07545002590804124)\n",
      "('标段', 0.07429302541993127)\n",
      "('履行', 0.07335144337082475)\n",
      "('特高压', 0.07018418005429554)\n",
      "('境外', 0.07014387910804123)\n",
      "('项目', 0.06711794353429552)\n",
      "('股份', 0.06648932867890034)\n",
      "('标价', 0.06643691510226804)\n",
      "('哈密', 0.061332947832027494)\n",
      "('直流', 0.06057100561333333)\n",
      "('供电', 0.05795613409512027)\n",
      "('承包', 0.05593557573333333)\n",
      "('重大', 0.05571021928185567)\n",
      "('经营', 0.05488746512659794)\n",
      "('信息', 0.05416351229659794)\n",
      "('有限公司', 0.05354320504051546)\n",
      "('业务', 0.05277445560237114)\n",
      "('线路', 0.05144728998487973)\n",
      "('标的', 0.05119332438171822)\n",
      "('施工', 0.04946728205312715)\n",
      "('活动', 0.04857805950670103)\n",
      "('董事会', 0.046070393799862545)\n",
      "('签署', 0.045768463014776634)\n",
      "('伍元', 0.045386702650859104)\n",
      "('证券报', 0.045129541592302404)\n",
      "('经营项目', 0.04223793724914089)\n",
      "('002498', 0.04108167526769759)\n",
      "('084', 0.04108167526769759)\n",
      "('11', 0.04108167526769759)\n",
      "('20', 0.04108167526769759)\n",
      "('www', 0.04108167526769759)\n",
      "('cninfo', 0.04108167526769759)\n",
      "('com', 0.04108167526769759)\n",
      "('cn', 0.04108167526769759)\n"
     ]
    }
   ],
   "source": [
    "for key in analyse.extract_tags(text,50, withWeight=True):\n",
    "    print(key)    "
   ]
  },
  {
   "cell_type": "markdown",
   "metadata": {},
   "source": [
    "#### 3. 中文歧义，去除停用词"
   ]
  },
  {
   "cell_type": "code",
   "execution_count": 13,
   "metadata": {},
   "outputs": [],
   "source": [
    "TestStr = \"2010年底部队友谊篮球赛结束\""
   ]
  },
  {
   "cell_type": "code",
   "execution_count": null,
   "metadata": {},
   "outputs": [],
   "source": [
    "jieba.cut?"
   ]
  },
  {
   "cell_type": "code",
   "execution_count": 14,
   "metadata": {},
   "outputs": [
    {
     "name": "stdout",
     "output_type": "stream",
     "text": [
      "Full Mode: 2010/ 年底/ 部队/ 友谊/ 篮球赛/ 结束\n"
     ]
    }
   ],
   "source": [
    "seg_list = jieba.cut(TestStr, cut_all=False)\n",
    "print(\"Full Mode:\", \"/ \".join(seg_list)) # 全模式"
   ]
  },
  {
   "cell_type": "code",
   "execution_count": null,
   "metadata": {},
   "outputs": [],
   "source": [
    "jieba.cut_for_search?"
   ]
  },
  {
   "cell_type": "code",
   "execution_count": 15,
   "metadata": {},
   "outputs": [
    {
     "name": "stdout",
     "output_type": "stream",
     "text": [
      "cut for Search 2010/年底/部队/友谊/篮球/球赛/篮球赛/结束\n"
     ]
    }
   ],
   "source": [
    "seg_list = jieba.cut_for_search(TestStr,HMM=True) # 搜索引擎模式\n",
    "print(\"cut for Search\",\"/\".join(seg_list))"
   ]
  },
  {
   "cell_type": "code",
   "execution_count": 16,
   "metadata": {},
   "outputs": [],
   "source": [
    "def jiebaclearText(text):\n",
    "    mywordlist = []\n",
    "    seg_list = jieba.cut(text, cut_all=False)\n",
    "    liststr=\"/ \".join(seg_list)\n",
    "    f_stop = open(stopwords_path,encoding='utf-8')\n",
    "    try:\n",
    "        f_stop_text = f_stop.read( )\n",
    "    finally:\n",
    "        f_stop.close( )\n",
    "    f_stop_seg_list=f_stop_text.split('\\n')\n",
    "    for myword in liststr.split('/'):\n",
    "        if not(myword.strip() in f_stop_seg_list) and len(myword.strip())>1:\n",
    "            mywordlist.append(myword)\n",
    "    return ''.join(mywordlist)"
   ]
  },
  {
   "cell_type": "code",
   "execution_count": 17,
   "metadata": {},
   "outputs": [
    {
     "data": {
      "text/plain": [
       "['!', '\"', '#', '$', '%']"
      ]
     },
     "execution_count": 17,
     "metadata": {},
     "output_type": "execute_result"
    }
   ],
   "source": [
    "with open('stop_words.txt',encoding='utf-8') as f:\n",
    "    stop=f.readlines()\n",
    "stop=[i.strip() for i in stop]\n",
    "stop[:5]"
   ]
  },
  {
   "cell_type": "code",
   "execution_count": 18,
   "metadata": {},
   "outputs": [
    {
     "name": "stdout",
     "output_type": "stream",
     "text": [
      " 代码 002498 证券 简称 汉缆 股份 公告 编号 2012 084 青岛 汉缆 股份 有限公司 关于 重大 合同 标的 公告 公司 董事会 全体成员 保证 信息 披露 内容 真实 准确 完整 没有 虚假 记载 误导性 陈述 重大 遗漏 公司 2012 11 20 巨潮 资讯网 www cninfo com cn 中国 证券报 上海 证券报 证券日报 证券时报 公告 关于 重大 经营 合同 标的 提示性 公告 公司 2012 12 接到 国家电网 公司 招投标 管理中心 发来 中标 通知书 通知 确定 公司 青岛 汉缆 股份 有限公司 国家电网 公司 输变电 项目 哈密 郑州 800 千伏 特高压 直流 输电 线路 工程 导线 施工 标段 导地线 招标 活动 国家电网 公司 输变电 项目 哈密 郑州 800 千伏 特高压 直流 输电 线路 工程 导线 施工 标段 导地线 招标 活动 国家电网 公司 输变电 项目 新疆 西北 主网 联网 750 千伏 第二 通道 输变电 工程 特殊 导线 地线 招标 活动 中标 单位 中标 内容 公司 中标 中标 数量 9662.02 标价 人民币 共计 16928.79754 万元 大写 人民币 亿陆仟玖佰 万柒仟玖佰柒拾 伍元 肆角整 招标人 国家电网 公司 注册资本 2000 亿元 公司法 代表人 刘振亚 注册 地址 北京市 西城区 大安 86 公司 经营范围 主营 输电 供电 批准 供电 区域 对外 派遣 实施 承包 境外 工程 劳务 人员 一般 经营项目 实业 投资 经营 管理 电力供应 有关 科学研究 技术开发 电力 生产 调度 信息 通信 咨询服务 职业培训 进出口 业务 承包 境外 工程 境内 国际 招标 工程 上述 境外 工程 设备 材料 出口 在国 举办 各类 生产性 企业 国家电网 公司 公司 存在 关联 关系 近三年 公司 发生 类似 业务 多次 本次 项目 标价 公司 2011 年度 审计 营业 总收入 4.50% 合同 履行 公司 2012 2013 经营 业绩 产生 积极 影响 合同 履行 影响 公司 业务 独立性 目前 公司 中标 单位 尚未 签署 中标 合同 合同 签署 履行 相应 信息 披露 程序 敬请 广大 投资者 注意 投资 风险 特此 公告 青岛 汉缆 股份 有限公司 董事会 2012 12\n"
     ]
    }
   ],
   "source": [
    "stopwords_path='stop_words.txt'\n",
    "text1=jiebaclearText(text)\n",
    "print(text1)"
   ]
  },
  {
   "cell_type": "markdown",
   "metadata": {},
   "source": [
    "#### 4. 分词更加准确"
   ]
  },
  {
   "cell_type": "raw",
   "metadata": {},
   "source": [
    "jieba.add_word\n",
    "jieba.enable_parallel\n",
    "    "
   ]
  },
  {
   "cell_type": "code",
   "execution_count": 19,
   "metadata": {},
   "outputs": [],
   "source": [
    "jieba.load_userdict?"
   ]
  },
  {
   "cell_type": "code",
   "execution_count": 20,
   "metadata": {},
   "outputs": [],
   "source": [
    "import jieba.posseg as pseg"
   ]
  },
  {
   "cell_type": "code",
   "execution_count": 21,
   "metadata": {},
   "outputs": [
    {
     "name": "stdout",
     "output_type": "stream",
     "text": [
      "李小福/是/创新/办/主任/也/是/云/计算/方面/的/专家/;/ /什么/是/八/一双/鹿/\n",
      "/例如/我/输入/一个/带/“/韩玉/赏鉴/”/的/标题/，/在/自定义词/库中/也/增加/了/此/词为/N/类/\n",
      "/「/台/中/」/正確/應該/不會/被/切開/。/mac/上/可/分出/「/石墨/烯/」/；/此時/又/可以/分出/來凱/特琳/了/。\n"
     ]
    }
   ],
   "source": [
    "test_sent = (\n",
    "\"李小福是创新办主任也是云计算方面的专家; 什么是八一双鹿\\n\"\n",
    "\"例如我输入一个带“韩玉赏鉴”的标题，在自定义词库中也增加了此词为N类\\n\"\n",
    "\"「台中」正確應該不會被切開。mac上可分出「石墨烯」；此時又可以分出來凱特琳了。\"\n",
    ")\n",
    "words = jieba.cut(test_sent)\n",
    "print('/'.join(words))\n"
   ]
  },
  {
   "cell_type": "code",
   "execution_count": 27,
   "metadata": {},
   "outputs": [],
   "source": [
    "result=pseg.cut(test_sent)"
   ]
  },
  {
   "cell_type": "code",
   "execution_count": 29,
   "metadata": {
    "collapsed": true
   },
   "outputs": [
    {
     "data": {
      "text/plain": [
       "[pair('李小福', 'nr'),\n",
       " pair('是', 'v'),\n",
       " pair('创新', 'v'),\n",
       " pair('办', 'v'),\n",
       " pair('主任', 'b'),\n",
       " pair('也', 'd'),\n",
       " pair('是', 'v'),\n",
       " pair('云', 'n'),\n",
       " pair('计算', 'v'),\n",
       " pair('方面', 'n'),\n",
       " pair('的', 'uj'),\n",
       " pair('专家', 'n'),\n",
       " pair(';', 'x'),\n",
       " pair(' ', 'x'),\n",
       " pair('什么', 'r'),\n",
       " pair('是', 'v'),\n",
       " pair('八', 'm'),\n",
       " pair('一双', 'm'),\n",
       " pair('鹿', 'nr'),\n",
       " pair('\\n', 'x'),\n",
       " pair('例如', 'v'),\n",
       " pair('我', 'r'),\n",
       " pair('输入', 'v'),\n",
       " pair('一个', 'm'),\n",
       " pair('带', 'v'),\n",
       " pair('“', 'x'),\n",
       " pair('韩玉', 'nr'),\n",
       " pair('赏鉴', 'v'),\n",
       " pair('”', 'x'),\n",
       " pair('的', 'uj'),\n",
       " pair('标题', 'n'),\n",
       " pair('，', 'x'),\n",
       " pair('在', 'p'),\n",
       " pair('自定义词', 'n'),\n",
       " pair('库中', 'nrt'),\n",
       " pair('也', 'd'),\n",
       " pair('增加', 'v'),\n",
       " pair('了', 'ul'),\n",
       " pair('此', 'r'),\n",
       " pair('词', 'n'),\n",
       " pair('为', 'p'),\n",
       " pair('N', 'eng'),\n",
       " pair('类', 'q'),\n",
       " pair('\\n', 'x'),\n",
       " pair('「', 'x'),\n",
       " pair('台', 'q'),\n",
       " pair('中', 'f'),\n",
       " pair('」', 'x'),\n",
       " pair('正確', 'ad'),\n",
       " pair('應該', 'v'),\n",
       " pair('不', 'd'),\n",
       " pair('會', 'v'),\n",
       " pair('被', 'p'),\n",
       " pair('切開', 'ad'),\n",
       " pair('。', 'x'),\n",
       " pair('mac', 'eng'),\n",
       " pair('上', 'f'),\n",
       " pair('可', 'v'),\n",
       " pair('分出', 'v'),\n",
       " pair('「', 'x'),\n",
       " pair('石墨', 'n'),\n",
       " pair('烯', 'x'),\n",
       " pair('」', 'x'),\n",
       " pair('；', 'x'),\n",
       " pair('此時', 'c'),\n",
       " pair('又', 'd'),\n",
       " pair('可以', 'c'),\n",
       " pair('分出', 'v'),\n",
       " pair('來', 'v'),\n",
       " pair('凱特琳', 'nrt'),\n",
       " pair('了', 'ul'),\n",
       " pair('。', 'x')]"
      ]
     },
     "execution_count": 29,
     "metadata": {},
     "output_type": "execute_result"
    }
   ],
   "source": [
    "list(result)"
   ]
  },
  {
   "cell_type": "code",
   "execution_count": 32,
   "metadata": {},
   "outputs": [
    {
     "data": {
      "text/plain": [
       "<bound method Tokenizer.suggest_freq of <Tokenizer dictionary=None>>"
      ]
     },
     "execution_count": 32,
     "metadata": {},
     "output_type": "execute_result"
    }
   ],
   "source": [
    "#建议改变频率\n",
    "jieba.suggest_freq"
   ]
  },
  {
   "cell_type": "markdown",
   "metadata": {},
   "source": [
    "### 2. gensim"
   ]
  },
  {
   "cell_type": "markdown",
   "metadata": {},
   "source": [
    "#### 2.1 把单词变成字典"
   ]
  },
  {
   "cell_type": "code",
   "execution_count": 34,
   "metadata": {},
   "outputs": [],
   "source": [
    "from gensim import corpora\n",
    "from collections import defaultdict"
   ]
  },
  {
   "cell_type": "code",
   "execution_count": 35,
   "metadata": {},
   "outputs": [],
   "source": [
    "documents = [\"Human machine interface for lab abc computer applications\",\n",
    "             \"A survey of user opinion of computer system response time\",\n",
    "             \"The EPS user interface management system\",\n",
    "             \"System and human system engineering testing of EPS\",\n",
    "             \"Relation of user perceived response time to error measurement\",\n",
    "             \"The generation of random binary unordered trees\",\n",
    "             \"The intersection graph of paths in trees\",\n",
    "             \"Graph minors IV Widths of trees and well quasi ordering\",\n",
    "             \"Graph minors A survey\"]"
   ]
  },
  {
   "cell_type": "code",
   "execution_count": 36,
   "metadata": {},
   "outputs": [],
   "source": [
    "stoplist = set('for a of the and to in'.split())\n",
    "texts = [[word for word in document.lower().split() if word not in stoplist]\n",
    "         for document in documents]"
   ]
  },
  {
   "cell_type": "code",
   "execution_count": 37,
   "metadata": {
    "scrolled": true
   },
   "outputs": [
    {
     "data": {
      "text/plain": [
       "[['human', 'machine', 'interface', 'lab', 'abc', 'computer', 'applications'],\n",
       " ['survey', 'user', 'opinion', 'computer', 'system', 'response', 'time'],\n",
       " ['eps', 'user', 'interface', 'management', 'system'],\n",
       " ['system', 'human', 'system', 'engineering', 'testing', 'eps'],\n",
       " ['relation', 'user', 'perceived', 'response', 'time', 'error', 'measurement'],\n",
       " ['generation', 'random', 'binary', 'unordered', 'trees'],\n",
       " ['intersection', 'graph', 'paths', 'trees'],\n",
       " ['graph', 'minors', 'iv', 'widths', 'trees', 'well', 'quasi', 'ordering'],\n",
       " ['graph', 'minors', 'survey']]"
      ]
     },
     "execution_count": 37,
     "metadata": {},
     "output_type": "execute_result"
    }
   ],
   "source": [
    "texts"
   ]
  },
  {
   "cell_type": "code",
   "execution_count": 38,
   "metadata": {},
   "outputs": [],
   "source": [
    "# 去掉只出现一次的单词\n",
    "frequency = defaultdict(int)\n",
    "for text in texts:\n",
    "    for token in text:\n",
    "        frequency[token] += 1\n",
    "texts = [[token for token in text if frequency[token] > 1]\n",
    "         for text in texts]\n",
    "\n",
    "dictionary = corpora.Dictionary(texts)   # 生成词典\n",
    "\n",
    "# 将文档存入字典，字典有很多功能，比如\n",
    "# diction.token2id 存放的是单词-id key-value对\n",
    "# diction.dfs 存放的是单词的出现频率\n",
    "dictionary.save('deerwester.dict')  # store the dictionary, for future reference\n",
    "corpus = [dictionary.doc2bow(text) for text in texts]\n",
    "corpora.MmCorpus.serialize('eerwester.mm', corpus) "
   ]
  },
  {
   "cell_type": "code",
   "execution_count": 54,
   "metadata": {},
   "outputs": [
    {
     "name": "stdout",
     "output_type": "stream",
     "text": [
      "0 computer\n",
      "1 human\n",
      "2 interface\n",
      "3 response\n",
      "4 survey\n",
      "5 system\n",
      "6 time\n",
      "7 user\n",
      "8 eps\n",
      "9 trees\n",
      "10 graph\n",
      "11 minors\n"
     ]
    }
   ],
   "source": [
    "for i,j in dictionary.items():\n",
    "    print(i,j)\n",
    "    "
   ]
  },
  {
   "cell_type": "code",
   "execution_count": 67,
   "metadata": {},
   "outputs": [],
   "source": [
    "import gensim\n",
    "from gensim.models import word2vec\n",
    "#https://radimrehurek.com/gensim/models/word2vec.html"
   ]
  },
  {
   "cell_type": "code",
   "execution_count": 72,
   "metadata": {
    "scrolled": true
   },
   "outputs": [],
   "source": [
    "dingzeng=dingzeng.replace('\\n','').replace(' ','')\n"
   ]
  },
  {
   "cell_type": "code",
   "execution_count": 73,
   "metadata": {},
   "outputs": [
    {
     "data": {
      "text/plain": [
       "'证券 代码 ： 002498 证券 简称 ： 汉缆 股份 公告 编号 ： 2012 - 084 青岛 汉缆 股份 有限公司 关于 重大 合同 中 标的 公告 本 公司 及 董事会 全体成员 保证 信息 披露 内容 的 真实 、 准确 和 完整 ， 没有 虚假 记载 、 误导性 陈述 或 重大 遗漏 。 我 公司 于 2012 年 11 月 20 日 在 巨潮 资讯网 www . cninfo . com . cn 及 《 中国 证券报 》 、 《 上海 证券报 》 、 《 证券日报 》 和 《 证券时报 》 上 公告 了 关于 重大 经营 合同 中 标的 提示性 公告 。 公司 于 2012 年 12 月 3 日 接到 国家电网 公司 招投标 管理中心 发来 的 《 中标 通知书 》 ， 通知 确定 公司 青岛 汉缆 股份 有限公司 为 “ 国家电网 公司 输变电 项目 哈密 南 - 郑州 ± 800 千伏 特高压 直流 输电 线路 工程 导线 施工 标段 （ 二 ） 导地线 招标 活动 ” 、 “ 国家电网 公司 输变电 项目 哈密 南 - 郑州 ± 800 千伏 特高压 直流 输电 线路 工程 导线 施工 标段 （ 三 ） 导地线 招标 活动 ” 、 “ 国家电网 公司 输变电 项目 新疆 与 西北 主网 联网 750 千伏 第二 通道 输变电 工程 特殊 导线 及 地线 招标 活动 ” 的 中标 单位 ， 中标 内容 ： 公司 中标 3 个 包 ， 中标 总 数量 9662.02 吨 。 中 标价 为 人民币 共计 16928.79754 万元 （ 大写 ： 人民币 壹 亿陆仟玖佰 贰 拾 捌 万柒仟玖佰柒拾 伍元 肆角整 ） 。 招标人 ： 国家电网 公司 注册资本 ： 2000 亿元 公司 法定代表 人 ： 刘振亚 注册 地址 ： 北京市 西城区 西 大安 街 86 号 公司 的 经营范围 ： 主营 ： 输电 、 供电 （ 经 批准 的 供电 区域 ） ， 对外 派遣 实施 所 承包 境外 工程 所 需 的 劳务 人员 。 一般 经营项目 ： 实业 投资 及 经营 管理 ， 与 电力供应 有关 的 科学研究 ， 技术开发 ， 电力 生产 调度 信息 通信 ， 咨询服务 ， 非 职业培训 ； 进出口 业务 ， 承包 境外 工程 和 境内 国际 招标 工程 ； 上述 境外 工程 所 需 的 设备 ， 材料 出口 ； 在国 （ 境 ） 外 举办 各类 生产性 企业 。 国家电网 公司 与 本 公司 不 存在 关联 关系 ， 近三年 与 本 公司 发生 类似 业务 多次 。 本次 项目 中 标价 占 公司 2011 年度 经 审计 后 营业 总收入 的 4.50% ， 合同 履行 对 公司 2012 、 2013 年 的 经营 业绩 将 产生 积极 影响 ， 合同 履行 不 影响 公司 业务 的 独立性 。 目前 ， 公司 与 中标 单位 尚未 签署 中标 合同 。 合同 签署 后 履行 相应 的 信息 披露 程序 ， 敬请 广大 投资者 注意 投资 风险 。 特此 公告 。 青岛 汉缆 股份 有限公司 董事会 2012 年 12 月 3 日'"
      ]
     },
     "execution_count": 73,
     "metadata": {},
     "output_type": "execute_result"
    }
   ],
   "source": [
    "words=jieba.cut(dingzeng,cut_all=False)\n",
    "words=' '.join(words)\n",
    "words"
   ]
  },
  {
   "cell_type": "code",
   "execution_count": 74,
   "metadata": {},
   "outputs": [],
   "source": [
    "model=word2vec.Word2Vec(words)"
   ]
  },
  {
   "cell_type": "code",
   "execution_count": 76,
   "metadata": {},
   "outputs": [
    {
     "data": {
      "text/plain": [
       "<gensim.models.keyedvectors.Word2VecKeyedVectors at 0x173eb401518>"
      ]
     },
     "execution_count": 76,
     "metadata": {},
     "output_type": "execute_result"
    }
   ],
   "source": [
    "model.wv"
   ]
  },
  {
   "cell_type": "code",
   "execution_count": null,
   "metadata": {},
   "outputs": [],
   "source": []
  },
  {
   "cell_type": "code",
   "execution_count": null,
   "metadata": {},
   "outputs": [],
   "source": []
  },
  {
   "cell_type": "code",
   "execution_count": null,
   "metadata": {},
   "outputs": [],
   "source": []
  }
 ],
 "metadata": {
  "kernelspec": {
   "display_name": "Python 3",
   "language": "python",
   "name": "python3"
  },
  "language_info": {
   "codemirror_mode": {
    "name": "ipython",
    "version": 3
   },
   "file_extension": ".py",
   "mimetype": "text/x-python",
   "name": "python",
   "nbconvert_exporter": "python",
   "pygments_lexer": "ipython3",
   "version": "3.6.4"
  }
 },
 "nbformat": 4,
 "nbformat_minor": 2
}
