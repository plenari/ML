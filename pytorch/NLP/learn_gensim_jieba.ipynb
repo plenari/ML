{
 "cells": [
  {
   "cell_type": "markdown",
   "metadata": {},
   "source": [
    "### 1. jieba"
   ]
  },
  {
   "cell_type": "code",
   "execution_count": 1,
   "metadata": {},
   "outputs": [],
   "source": [
    "import jieba"
   ]
  },
  {
   "cell_type": "markdown",
   "metadata": {},
   "source": [
    "#### 1. 分词"
   ]
  },
  {
   "cell_type": "code",
   "execution_count": 2,
   "metadata": {
    "scrolled": false
   },
   "outputs": [
    {
     "name": "stderr",
     "output_type": "stream",
     "text": [
      "Building prefix dict from the default dictionary ...\n",
      "Loading model from cache C:\\Users\\omf\\AppData\\Local\\Temp\\jieba.cache\n",
      "Loading model cost 0.792 seconds.\n",
      "Prefix dict has been built succesfully.\n"
     ]
    },
    {
     "name": "stdout",
     "output_type": "stream",
     "text": [
      "Full Mode: 我/ 来到/ 北京/ 清华/ 清华大学/ 华大/ 大学\n"
     ]
    }
   ],
   "source": [
    "seg_list = jieba.cut(\"我来到北京清华大学\", cut_all=True, HMM=False)\n",
    "print(\"Full Mode: \" + \"/ \".join(seg_list))  # 全模式"
   ]
  },
  {
   "cell_type": "code",
   "execution_count": 3,
   "metadata": {},
   "outputs": [
    {
     "name": "stdout",
     "output_type": "stream",
     "text": [
      "Default Mode: 我/ 来到/ 北京/ 清华大学\n"
     ]
    }
   ],
   "source": [
    "seg_list = jieba.cut(\"我来到北京清华大学\", cut_all=False, HMM=True)\n",
    "print(\"Default Mode: \" + \"/ \".join(seg_list))  # 默认模式"
   ]
  },
  {
   "cell_type": "code",
   "execution_count": 4,
   "metadata": {},
   "outputs": [
    {
     "name": "stdout",
     "output_type": "stream",
     "text": [
      "他, 来到, 了, 网易, 杭研, 大厦\n"
     ]
    }
   ],
   "source": [
    "seg_list = jieba.cut(\"他来到了网易杭研大厦\", HMM=True)\n",
    "print(\", \".join(seg_list))"
   ]
  },
  {
   "cell_type": "code",
   "execution_count": 5,
   "metadata": {},
   "outputs": [
    {
     "name": "stdout",
     "output_type": "stream",
     "text": [
      "他, 来到, 了, 网易, 杭, 研, 大厦\n"
     ]
    }
   ],
   "source": [
    "seg_list = jieba.cut(\"他来到了网易杭研大厦\", HMM=False)\n",
    "print(\", \".join(seg_list))"
   ]
  },
  {
   "cell_type": "markdown",
   "metadata": {},
   "source": [
    "* 比 cut_all 还要多"
   ]
  },
  {
   "cell_type": "code",
   "execution_count": 8,
   "metadata": {
    "scrolled": true
   },
   "outputs": [
    {
     "name": "stdout",
     "output_type": "stream",
     "text": [
      "小明, 硕士, 毕业, 于, 中国, 科学, 学院, 科学院, 中国科学院, 计算, 计算所, ,, 后, 在, 日本, 京都, 大学, 日本京都大学, 深造\n"
     ]
    }
   ],
   "source": [
    "seg_list = jieba.cut_for_search(\"小明硕士毕业于中国科学院计算所,后在日本京都大学深造\", HMM=True)  # 搜索引擎模式\n",
    "print(\", \".join(seg_list))"
   ]
  },
  {
   "cell_type": "markdown",
   "metadata": {},
   "source": [
    "#### 2. 关键字提取"
   ]
  },
  {
   "cell_type": "code",
   "execution_count": 70,
   "metadata": {},
   "outputs": [],
   "source": [
    "from os import path\n",
    "import jieba.analyse as analyse"
   ]
  },
  {
   "cell_type": "code",
   "execution_count": 18,
   "metadata": {},
   "outputs": [],
   "source": [
    "text_path = '1153.md' #设置要分析的文本路径\n",
    "with open(text_path,encoding='utf-8') as f:\n",
    "    dingzeng =f.read()"
   ]
  },
  {
   "cell_type": "code",
   "execution_count": 19,
   "metadata": {},
   "outputs": [
    {
     "name": "stdout",
     "output_type": "stream",
     "text": [
      "\n",
      "证 券代码： 002498 证券简称：汉缆股份 公告编号： 2012-084\n",
      "\n",
      "青岛汉缆股份有限公司关于重大合同中标的公告\n",
      "\n",
      "本公司及董事会全体成员保证信息披露内容的真实、准确和完整，没有虚假记载、误导性陈述或重大遗漏。\n",
      "\n",
      "\n",
      "我公司于 2012 年 11 月 20 日在巨潮资讯网 www.cninfo.com.cn\n",
      "及《中国证券报》、《上海证券报》、《证券日报》和《证券时报》上公告了关于重大经营合同中标的提示性公告。公司于 2012 年 12 月 3\n",
      "日接到国家电网公司招投标管理中心发来的《中标通知书》，通知确定公司青岛汉缆股份有限公司为“国家电网公司输变电项目哈密南-\n",
      "郑州±800千伏特高压直流输电线路工程导线施工标段（二）导地线招标活动”、 “国家电网公司输变电项目哈密南-\n",
      "郑州±800千伏特高压直流输电线路工程导线施工标段（三）导地线招标活动”、“国家电网公司输变电项目新疆与西北主网联网750千伏第二通道输变电工程特殊导线及地线招标活动”的中标单位，中标内容：公司中标3个包，中标总数量9662.02吨。中标价为人民币共计\n",
      "16928.79754 万元（大写：人民币壹亿陆仟玖佰贰拾捌万柒仟玖佰柒拾伍元肆角整）。\n",
      "\n",
      "招标人：国家电网公司注册资本： 2000 亿元\n",
      "公司法 定代表人：刘振亚\n",
      "\n",
      "注册地址：北京市西城区西大安街 86 号\n",
      "公司的经营范围：主营：输电、供电（经批准的供电区域），对外派遣实施所承包境外工程所需的劳务人员。一般经营项目：实业投资及经营管理，与电力供应有关的科学研究，技术开发，电力生产调度信息通信，咨询服务，非职业培训；进出口业务，承包境外工程和境内国际招标工程；上述境外工程所需的设备，材料出口；在国（境）外举办各类生产性企业\n",
      "。\n",
      "国家电网公司与本公司不存在关联关系，近三年与本公司发生类似业务多次。\n",
      "\n",
      "本次项目中标价占公司 2011 年度经审计后营业总收入的 4.50% ，合同履行对公司 2012 、 2013\n",
      "年的经营业绩将产生积极影响，合同履行不影响公司业务的独立性。\n",
      "\n",
      "目前，公司与中标单位尚未签署中标合同。合同签署后履行相应的信息披露程序，敬请广大投资者注意投资风险 。\n",
      "特此公告。\n",
      "\n",
      "青岛汉缆股份有限公司董事会\n",
      "2012 年 12 月 3 日\n",
      "\n"
     ]
    }
   ],
   "source": [
    "for i in dingzeng.split('\\n\\n'):\n",
    "    print(i.strip())"
   ]
  },
  {
   "cell_type": "code",
   "execution_count": 38,
   "metadata": {},
   "outputs": [],
   "source": [
    "hb='为何我无法申请开通花呗信用卡收款'"
   ]
  },
  {
   "cell_type": "code",
   "execution_count": 64,
   "metadata": {},
   "outputs": [],
   "source": [
    "import numpy as np"
   ]
  },
  {
   "cell_type": "code",
   "execution_count": 66,
   "metadata": {
    "scrolled": true
   },
   "outputs": [],
   "source": [
    "arg=np.argsort(([hb.find(i) for  i in  analyse.tfidf(hb)]))"
   ]
  },
  {
   "cell_type": "code",
   "execution_count": 69,
   "metadata": {},
   "outputs": [
    {
     "data": {
      "text/plain": [
       "['为何', '无法', '申请', '开通', '信用卡', '收款']"
      ]
     },
     "execution_count": 69,
     "metadata": {},
     "output_type": "execute_result"
    }
   ],
   "source": [
    "[analyse.tfidf(hb)[i] for i in arg]"
   ]
  },
  {
   "cell_type": "code",
   "execution_count": 51,
   "metadata": {},
   "outputs": [
    {
     "data": {
      "text/plain": [
       "['信用卡', '开通', '收款', '无法', '申请']"
      ]
     },
     "execution_count": 51,
     "metadata": {},
     "output_type": "execute_result"
    }
   ],
   "source": [
    "sorted(analyse.textrank(hb))"
   ]
  },
  {
   "cell_type": "code",
   "execution_count": 71,
   "metadata": {
    "scrolled": true
   },
   "outputs": [
    {
     "name": "stdout",
     "output_type": "stream",
     "text": [
      "('收款', 1.7242215984166667)\n",
      "('信用卡', 1.3830931385166665)\n",
      "('开通', 1.2520193744049999)\n",
      "('为何', 1.0755848820633334)\n",
      "('申请', 1.003249241625)\n",
      "('无法', 0.8958532573716668)\n"
     ]
    }
   ],
   "source": [
    "for key in analyse.extract_tags('为何我无法申请开通花呗信用卡收款',None, withWeight=True,withFlag=True):\n",
    "    print(key)    "
   ]
  },
  {
   "cell_type": "markdown",
   "metadata": {},
   "source": [
    "#### 3. 中文歧义，去除停用词"
   ]
  },
  {
   "cell_type": "code",
   "execution_count": 13,
   "metadata": {},
   "outputs": [],
   "source": [
    "TestStr = \"2010年底部队友谊篮球赛结束\""
   ]
  },
  {
   "cell_type": "code",
   "execution_count": null,
   "metadata": {},
   "outputs": [],
   "source": [
    "jieba.cut?"
   ]
  },
  {
   "cell_type": "code",
   "execution_count": 14,
   "metadata": {},
   "outputs": [
    {
     "name": "stdout",
     "output_type": "stream",
     "text": [
      "Full Mode: 2010/ 年底/ 部队/ 友谊/ 篮球赛/ 结束\n"
     ]
    }
   ],
   "source": [
    "seg_list = jieba.cut(TestStr, cut_all=False)\n",
    "print(\"Full Mode:\", \"/ \".join(seg_list)) # 全模式"
   ]
  },
  {
   "cell_type": "code",
   "execution_count": null,
   "metadata": {},
   "outputs": [],
   "source": [
    "jieba.cut_for_search?"
   ]
  },
  {
   "cell_type": "code",
   "execution_count": 15,
   "metadata": {},
   "outputs": [
    {
     "name": "stdout",
     "output_type": "stream",
     "text": [
      "cut for Search 2010/年底/部队/友谊/篮球/球赛/篮球赛/结束\n"
     ]
    }
   ],
   "source": [
    "seg_list = jieba.cut_for_search(TestStr,HMM=True) # 搜索引擎模式\n",
    "print(\"cut for Search\",\"/\".join(seg_list))"
   ]
  },
  {
   "cell_type": "code",
   "execution_count": 16,
   "metadata": {},
   "outputs": [],
   "source": [
    "def jiebaclearText(text):\n",
    "    mywordlist = []\n",
    "    seg_list = jieba.cut(text, cut_all=False)\n",
    "    liststr=\"/ \".join(seg_list)\n",
    "    f_stop = open(stopwords_path,encoding='utf-8')\n",
    "    try:\n",
    "        f_stop_text = f_stop.read( )\n",
    "    finally:\n",
    "        f_stop.close( )\n",
    "    f_stop_seg_list=f_stop_text.split('\\n')\n",
    "    for myword in liststr.split('/'):\n",
    "        if not(myword.strip() in f_stop_seg_list) and len(myword.strip())>1:\n",
    "            mywordlist.append(myword)\n",
    "    return ''.join(mywordlist)"
   ]
  },
  {
   "cell_type": "code",
   "execution_count": 17,
   "metadata": {},
   "outputs": [
    {
     "data": {
      "text/plain": [
       "['!', '\"', '#', '$', '%']"
      ]
     },
     "execution_count": 17,
     "metadata": {},
     "output_type": "execute_result"
    }
   ],
   "source": [
    "with open('stop_words.txt',encoding='utf-8') as f:\n",
    "    stop=f.readlines()\n",
    "stop=[i.strip() for i in stop]\n",
    "stop[:5]"
   ]
  },
  {
   "cell_type": "code",
   "execution_count": 18,
   "metadata": {},
   "outputs": [
    {
     "name": "stdout",
     "output_type": "stream",
     "text": [
      " 代码 002498 证券 简称 汉缆 股份 公告 编号 2012 084 青岛 汉缆 股份 有限公司 关于 重大 合同 标的 公告 公司 董事会 全体成员 保证 信息 披露 内容 真实 准确 完整 没有 虚假 记载 误导性 陈述 重大 遗漏 公司 2012 11 20 巨潮 资讯网 www cninfo com cn 中国 证券报 上海 证券报 证券日报 证券时报 公告 关于 重大 经营 合同 标的 提示性 公告 公司 2012 12 接到 国家电网 公司 招投标 管理中心 发来 中标 通知书 通知 确定 公司 青岛 汉缆 股份 有限公司 国家电网 公司 输变电 项目 哈密 郑州 800 千伏 特高压 直流 输电 线路 工程 导线 施工 标段 导地线 招标 活动 国家电网 公司 输变电 项目 哈密 郑州 800 千伏 特高压 直流 输电 线路 工程 导线 施工 标段 导地线 招标 活动 国家电网 公司 输变电 项目 新疆 西北 主网 联网 750 千伏 第二 通道 输变电 工程 特殊 导线 地线 招标 活动 中标 单位 中标 内容 公司 中标 中标 数量 9662.02 标价 人民币 共计 16928.79754 万元 大写 人民币 亿陆仟玖佰 万柒仟玖佰柒拾 伍元 肆角整 招标人 国家电网 公司 注册资本 2000 亿元 公司法 代表人 刘振亚 注册 地址 北京市 西城区 大安 86 公司 经营范围 主营 输电 供电 批准 供电 区域 对外 派遣 实施 承包 境外 工程 劳务 人员 一般 经营项目 实业 投资 经营 管理 电力供应 有关 科学研究 技术开发 电力 生产 调度 信息 通信 咨询服务 职业培训 进出口 业务 承包 境外 工程 境内 国际 招标 工程 上述 境外 工程 设备 材料 出口 在国 举办 各类 生产性 企业 国家电网 公司 公司 存在 关联 关系 近三年 公司 发生 类似 业务 多次 本次 项目 标价 公司 2011 年度 审计 营业 总收入 4.50% 合同 履行 公司 2012 2013 经营 业绩 产生 积极 影响 合同 履行 影响 公司 业务 独立性 目前 公司 中标 单位 尚未 签署 中标 合同 合同 签署 履行 相应 信息 披露 程序 敬请 广大 投资者 注意 投资 风险 特此 公告 青岛 汉缆 股份 有限公司 董事会 2012 12\n"
     ]
    }
   ],
   "source": [
    "stopwords_path='stop_words.txt'\n",
    "text1=jiebaclearText(text)\n",
    "print(text1)"
   ]
  },
  {
   "cell_type": "markdown",
   "metadata": {},
   "source": [
    "#### 4. 分词更加准确"
   ]
  },
  {
   "cell_type": "raw",
   "metadata": {},
   "source": [
    "jieba.add_word\n",
    "jieba.enable_parallel\n",
    "    "
   ]
  },
  {
   "cell_type": "code",
   "execution_count": 19,
   "metadata": {},
   "outputs": [],
   "source": [
    "jieba.load_userdict?"
   ]
  },
  {
   "cell_type": "code",
   "execution_count": 20,
   "metadata": {},
   "outputs": [],
   "source": [
    "import jieba.posseg as pseg"
   ]
  },
  {
   "cell_type": "code",
   "execution_count": 21,
   "metadata": {},
   "outputs": [
    {
     "name": "stdout",
     "output_type": "stream",
     "text": [
      "李小福/是/创新/办/主任/也/是/云/计算/方面/的/专家/;/ /什么/是/八/一双/鹿/\n",
      "/例如/我/输入/一个/带/“/韩玉/赏鉴/”/的/标题/，/在/自定义词/库中/也/增加/了/此/词为/N/类/\n",
      "/「/台/中/」/正確/應該/不會/被/切開/。/mac/上/可/分出/「/石墨/烯/」/；/此時/又/可以/分出/來凱/特琳/了/。\n"
     ]
    }
   ],
   "source": [
    "test_sent = (\n",
    "\"李小福是创新办主任也是云计算方面的专家; 什么是八一双鹿\\n\"\n",
    "\"例如我输入一个带“韩玉赏鉴”的标题，在自定义词库中也增加了此词为N类\\n\"\n",
    "\"「台中」正確應該不會被切開。mac上可分出「石墨烯」；此時又可以分出來凱特琳了。\"\n",
    ")\n",
    "words = jieba.cut(test_sent)\n",
    "print('/'.join(words))\n"
   ]
  },
  {
   "cell_type": "code",
   "execution_count": 27,
   "metadata": {},
   "outputs": [],
   "source": [
    "result=pseg.cut(test_sent)"
   ]
  },
  {
   "cell_type": "code",
   "execution_count": 29,
   "metadata": {
    "scrolled": true
   },
   "outputs": [
    {
     "data": {
      "text/plain": [
       "[pair('李小福', 'nr'),\n",
       " pair('是', 'v'),\n",
       " pair('创新', 'v'),\n",
       " pair('办', 'v'),\n",
       " pair('主任', 'b'),\n",
       " pair('也', 'd'),\n",
       " pair('是', 'v'),\n",
       " pair('云', 'n'),\n",
       " pair('计算', 'v'),\n",
       " pair('方面', 'n'),\n",
       " pair('的', 'uj'),\n",
       " pair('专家', 'n'),\n",
       " pair(';', 'x'),\n",
       " pair(' ', 'x'),\n",
       " pair('什么', 'r'),\n",
       " pair('是', 'v'),\n",
       " pair('八', 'm'),\n",
       " pair('一双', 'm'),\n",
       " pair('鹿', 'nr'),\n",
       " pair('\\n', 'x'),\n",
       " pair('例如', 'v'),\n",
       " pair('我', 'r'),\n",
       " pair('输入', 'v'),\n",
       " pair('一个', 'm'),\n",
       " pair('带', 'v'),\n",
       " pair('“', 'x'),\n",
       " pair('韩玉', 'nr'),\n",
       " pair('赏鉴', 'v'),\n",
       " pair('”', 'x'),\n",
       " pair('的', 'uj'),\n",
       " pair('标题', 'n'),\n",
       " pair('，', 'x'),\n",
       " pair('在', 'p'),\n",
       " pair('自定义词', 'n'),\n",
       " pair('库中', 'nrt'),\n",
       " pair('也', 'd'),\n",
       " pair('增加', 'v'),\n",
       " pair('了', 'ul'),\n",
       " pair('此', 'r'),\n",
       " pair('词', 'n'),\n",
       " pair('为', 'p'),\n",
       " pair('N', 'eng'),\n",
       " pair('类', 'q'),\n",
       " pair('\\n', 'x'),\n",
       " pair('「', 'x'),\n",
       " pair('台', 'q'),\n",
       " pair('中', 'f'),\n",
       " pair('」', 'x'),\n",
       " pair('正確', 'ad'),\n",
       " pair('應該', 'v'),\n",
       " pair('不', 'd'),\n",
       " pair('會', 'v'),\n",
       " pair('被', 'p'),\n",
       " pair('切開', 'ad'),\n",
       " pair('。', 'x'),\n",
       " pair('mac', 'eng'),\n",
       " pair('上', 'f'),\n",
       " pair('可', 'v'),\n",
       " pair('分出', 'v'),\n",
       " pair('「', 'x'),\n",
       " pair('石墨', 'n'),\n",
       " pair('烯', 'x'),\n",
       " pair('」', 'x'),\n",
       " pair('；', 'x'),\n",
       " pair('此時', 'c'),\n",
       " pair('又', 'd'),\n",
       " pair('可以', 'c'),\n",
       " pair('分出', 'v'),\n",
       " pair('來', 'v'),\n",
       " pair('凱特琳', 'nrt'),\n",
       " pair('了', 'ul'),\n",
       " pair('。', 'x')]"
      ]
     },
     "execution_count": 29,
     "metadata": {},
     "output_type": "execute_result"
    }
   ],
   "source": [
    "list(result)"
   ]
  },
  {
   "cell_type": "code",
   "execution_count": 32,
   "metadata": {},
   "outputs": [
    {
     "data": {
      "text/plain": [
       "<bound method Tokenizer.suggest_freq of <Tokenizer dictionary=None>>"
      ]
     },
     "execution_count": 32,
     "metadata": {},
     "output_type": "execute_result"
    }
   ],
   "source": [
    "#建议改变频率\n",
    "jieba.suggest_freq"
   ]
  },
  {
   "cell_type": "markdown",
   "metadata": {},
   "source": [
    "### 2. gensim"
   ]
  },
  {
   "cell_type": "markdown",
   "metadata": {},
   "source": [
    "#### 2.1 把单词变成字典"
   ]
  },
  {
   "cell_type": "code",
   "execution_count": 34,
   "metadata": {},
   "outputs": [],
   "source": [
    "from gensim import corpora\n",
    "from collections import defaultdict"
   ]
  },
  {
   "cell_type": "code",
   "execution_count": 35,
   "metadata": {},
   "outputs": [],
   "source": [
    "documents = [\"Human machine interface for lab abc computer applications\",\n",
    "             \"A survey of user opinion of computer system response time\",\n",
    "             \"The EPS user interface management system\",\n",
    "             \"System and human system engineering testing of EPS\",\n",
    "             \"Relation of user perceived response time to error measurement\",\n",
    "             \"The generation of random binary unordered trees\",\n",
    "             \"The intersection graph of paths in trees\",\n",
    "             \"Graph minors IV Widths of trees and well quasi ordering\",\n",
    "             \"Graph minors A survey\"]"
   ]
  },
  {
   "cell_type": "code",
   "execution_count": 36,
   "metadata": {},
   "outputs": [],
   "source": [
    "stoplist = set('for a of the and to in'.split())\n",
    "texts = [[word for word in document.lower().split() if word not in stoplist]\n",
    "         for document in documents]"
   ]
  },
  {
   "cell_type": "code",
   "execution_count": 37,
   "metadata": {
    "scrolled": true
   },
   "outputs": [
    {
     "data": {
      "text/plain": [
       "[['human', 'machine', 'interface', 'lab', 'abc', 'computer', 'applications'],\n",
       " ['survey', 'user', 'opinion', 'computer', 'system', 'response', 'time'],\n",
       " ['eps', 'user', 'interface', 'management', 'system'],\n",
       " ['system', 'human', 'system', 'engineering', 'testing', 'eps'],\n",
       " ['relation', 'user', 'perceived', 'response', 'time', 'error', 'measurement'],\n",
       " ['generation', 'random', 'binary', 'unordered', 'trees'],\n",
       " ['intersection', 'graph', 'paths', 'trees'],\n",
       " ['graph', 'minors', 'iv', 'widths', 'trees', 'well', 'quasi', 'ordering'],\n",
       " ['graph', 'minors', 'survey']]"
      ]
     },
     "execution_count": 37,
     "metadata": {},
     "output_type": "execute_result"
    }
   ],
   "source": [
    "texts"
   ]
  },
  {
   "cell_type": "code",
   "execution_count": 38,
   "metadata": {},
   "outputs": [],
   "source": [
    "# 去掉只出现一次的单词\n",
    "frequency = defaultdict(int)\n",
    "for text in texts:\n",
    "    for token in text:\n",
    "        frequency[token] += 1\n",
    "texts = [[token for token in text if frequency[token] > 1]\n",
    "         for text in texts]\n",
    "\n",
    "dictionary = corpora.Dictionary(texts)   # 生成词典\n",
    "\n",
    "# 将文档存入字典，字典有很多功能，比如\n",
    "# diction.token2id 存放的是单词-id key-value对\n",
    "# diction.dfs 存放的是单词的出现频率\n",
    "dictionary.save('deerwester.dict')  # store the dictionary, for future reference\n",
    "corpus = [dictionary.doc2bow(text) for text in texts]\n",
    "corpora.MmCorpus.serialize('eerwester.mm', corpus) "
   ]
  },
  {
   "cell_type": "code",
   "execution_count": 54,
   "metadata": {},
   "outputs": [
    {
     "name": "stdout",
     "output_type": "stream",
     "text": [
      "0 computer\n",
      "1 human\n",
      "2 interface\n",
      "3 response\n",
      "4 survey\n",
      "5 system\n",
      "6 time\n",
      "7 user\n",
      "8 eps\n",
      "9 trees\n",
      "10 graph\n",
      "11 minors\n"
     ]
    }
   ],
   "source": [
    "for i,j in dictionary.items():\n",
    "    print(i,j)\n",
    "    "
   ]
  },
  {
   "cell_type": "code",
   "execution_count": 72,
   "metadata": {
    "scrolled": true
   },
   "outputs": [
    {
     "name": "stderr",
     "output_type": "stream",
     "text": [
      "F:\\app\\anaconda\\lib\\site-packages\\gensim\\utils.py:1197: UserWarning: detected Windows; aliasing chunkize to chunkize_serial\n",
      "  warnings.warn(\"detected Windows; aliasing chunkize to chunkize_serial\")\n"
     ]
    }
   ],
   "source": [
    "import gensim\n",
    "from gensim.models import word2vec\n",
    "#https://radimrehurek.com/gensim/models/word2vec.html"
   ]
  },
  {
   "cell_type": "code",
   "execution_count": 73,
   "metadata": {},
   "outputs": [],
   "source": [
    "word2vec.Word2Vec?"
   ]
  },
  {
   "cell_type": "code",
   "execution_count": 224,
   "metadata": {
    "scrolled": false
   },
   "outputs": [
    {
     "data": {
      "text/plain": [
       "'证券 代码 ： 002498 证券 简称 ： 汉缆 股份 公告 编号 ： 2012 - 084 青岛 汉缆 股份 有限公司 关于 重大 合同 中 标的 公告 本 公司 及 董事会 全体成员 保证 信息 披露 内容 的 真实 、 准确 和 完整 ， 没有 虚假 记载 、 误导性 陈述 或 重大 遗漏 。 我 公司 于 2012 年 11 月 20 日 在 巨潮 资讯网 www . cninfo . com . cn 及 《 中国 证券报 》 、 《 上海 证券报 》 、 《 证券日报 》 和 《 证券时报 》 上 公告 了 关于 重大 经营 合同 中 标的 提示性 公告 。 公司 于 2012 年 12 月 3 日 接到 国家电网 公司 招投标 管理中心 发来 的 《 中标 通知书 》 ， 通知 确定 公司 青岛 汉缆 股份 有限公司 为 “ 国家电网 公司 输变电 项目 哈密 南 - 郑州 ± 800 千伏 特高压 直流 输电 线路 工程 导线 施工 标段 （ 二 ） 导地线 招标 活动 ” 、 “ 国家电网 公司 输变电 项目 哈密 南 - 郑州 ± 800 千伏 特高压 直流 输电 线路 工程 导线 施工 标段 （ 三 ） 导地线 招标 活动 ” 、 “ 国家电网 公司 输变电 项目 新疆 与 西北 主网 联网 750 千伏 第二 通道 输变电 工程 特殊 导线 及 地线 招标 活动 ” 的 中标 单位 ， 中标 内容 ： 公司 中标 3 个 包 ， 中标 总 数量 9662.02 吨 。 中 标价 为 人民币 共计 16928.79754 万元 （ 大写 ： 人民币 壹 亿陆仟玖佰 贰 拾 捌 万柒仟玖佰柒拾 伍元 肆角整 ） 。 招标人 ： 国家电网 公司 注册资本 ： 2000 亿元 公司 法定代表 人 ： 刘振亚 注册 地址 ： 北京市 西城区 西 大安 街 86 号 公司 的 经营范围 ： 主营 ： 输电 、 供电 （ 经 批准 的 供电 区域 ） ， 对外 派遣 实施 所 承包 境外 工程 所 需 的 劳务 人员 。 一般 经营项目 ： 实业 投资 及 经营 管理 ， 与 电力供应 有关 的 科学研究 ， 技术开发 ， 电力 生产 调度 信息 通信 ， 咨询服务 ， 非 职业培训 ； 进出口 业务 ， 承包 境外 工程 和 境内 国际 招标 工程 ； 上述 境外 工程 所 需 的 设备 ， 材料 出口 ； 在国 （ 境 ） 外 举办 各类 生产性 企业 。 国家电网 公司 与 本 公司 不 存在 关联 关系 ， 近三年 与 本 公司 发生 类似 业务 多次 。 本次 项目 中 标价 占 公司 2011 年度 经 审计 后 营业 总收入 的 4.50% ， 合同 履行 对 公司 2012 、 2013 年 的 经营 业绩 将 产生 积极 影响 ， 合同 履行 不 影响 公司 业务 的 独立性 。 目前 ， 公司 与 中标 单位 尚未 签署 中标 合同 。 合同 签署 后 履行 相应 的 信息 披露 程序 ， 敬请 广大 投资者 注意 投资 风险 。 特此 公告 。 青岛 汉缆 股份 有限公司 董事会 2012 年 12 月 3 日'"
      ]
     },
     "execution_count": 224,
     "metadata": {},
     "output_type": "execute_result"
    }
   ],
   "source": [
    "dingzeng=dingzeng.replace('\\n','').replace(' ','')\n",
    "words=jieba.cut(dingzeng,cut_all=False)\n",
    "words=' '.join(words)\n",
    "words"
   ]
  },
  {
   "cell_type": "code",
   "execution_count": 230,
   "metadata": {
    "scrolled": false
   },
   "outputs": [],
   "source": [
    "wordi=words.split()"
   ]
  },
  {
   "cell_type": "code",
   "execution_count": 232,
   "metadata": {
    "collapsed": true
   },
   "outputs": [
    {
     "data": {
      "text/plain": [
       "{'-': <gensim.models.keyedvectors.Vocab at 0x173eb8a8a90>,\n",
       " '.': <gensim.models.keyedvectors.Vocab at 0x173ebfc3ac8>,\n",
       " '002498': <gensim.models.keyedvectors.Vocab at 0x173eb8a8400>,\n",
       " '084': <gensim.models.keyedvectors.Vocab at 0x173eb8a89e8>,\n",
       " '11': <gensim.models.keyedvectors.Vocab at 0x173ebf56240>,\n",
       " '12': <gensim.models.keyedvectors.Vocab at 0x173ebfc34a8>,\n",
       " '16928.79754': <gensim.models.keyedvectors.Vocab at 0x173eb7cea20>,\n",
       " '20': <gensim.models.keyedvectors.Vocab at 0x173ebf563c8>,\n",
       " '2000': <gensim.models.keyedvectors.Vocab at 0x173ebd2c390>,\n",
       " '2011': <gensim.models.keyedvectors.Vocab at 0x173ebbdc2e8>,\n",
       " '2012': <gensim.models.keyedvectors.Vocab at 0x173eb8a8b70>,\n",
       " '2013': <gensim.models.keyedvectors.Vocab at 0x173ebbdcc18>,\n",
       " '3': <gensim.models.keyedvectors.Vocab at 0x173ebfc3438>,\n",
       " '4.50%': <gensim.models.keyedvectors.Vocab at 0x173ebbdc6d8>,\n",
       " '750': <gensim.models.keyedvectors.Vocab at 0x173eb23a940>,\n",
       " '800': <gensim.models.keyedvectors.Vocab at 0x173ebf336d8>,\n",
       " '86': <gensim.models.keyedvectors.Vocab at 0x173eb8f1c88>,\n",
       " '9662.02': <gensim.models.keyedvectors.Vocab at 0x173eb7ce0b8>,\n",
       " 'cn': <gensim.models.keyedvectors.Vocab at 0x173ebfc3978>,\n",
       " 'cninfo': <gensim.models.keyedvectors.Vocab at 0x173ebfc3a58>,\n",
       " 'com': <gensim.models.keyedvectors.Vocab at 0x173ebfc39e8>,\n",
       " 'www': <gensim.models.keyedvectors.Vocab at 0x173ebf56470>,\n",
       " '±': <gensim.models.keyedvectors.Vocab at 0x173ebf330b8>,\n",
       " '“': <gensim.models.keyedvectors.Vocab at 0x173ebfc3d68>,\n",
       " '”': <gensim.models.keyedvectors.Vocab at 0x173ebf33898>,\n",
       " '、': <gensim.models.keyedvectors.Vocab at 0x173ebf56a58>,\n",
       " '。': <gensim.models.keyedvectors.Vocab at 0x173ebf562b0>,\n",
       " '《': <gensim.models.keyedvectors.Vocab at 0x173ebfc3908>,\n",
       " '》': <gensim.models.keyedvectors.Vocab at 0x173ebfc37b8>,\n",
       " '一般': <gensim.models.keyedvectors.Vocab at 0x173eb0cc358>,\n",
       " '万元': <gensim.models.keyedvectors.Vocab at 0x173eb7cecc0>,\n",
       " '万柒仟玖佰柒拾': <gensim.models.keyedvectors.Vocab at 0x173ebd2c240>,\n",
       " '三': <gensim.models.keyedvectors.Vocab at 0x173eb0bc048>,\n",
       " '上': <gensim.models.keyedvectors.Vocab at 0x173ebfc35f8>,\n",
       " '上海': <gensim.models.keyedvectors.Vocab at 0x173ebfc3748>,\n",
       " '上述': <gensim.models.keyedvectors.Vocab at 0x173eb090b70>,\n",
       " '不': <gensim.models.keyedvectors.Vocab at 0x173ebbdc518>,\n",
       " '与': <gensim.models.keyedvectors.Vocab at 0x173eb23afd0>,\n",
       " '业务': <gensim.models.keyedvectors.Vocab at 0x173eb090160>,\n",
       " '业绩': <gensim.models.keyedvectors.Vocab at 0x173ebbdc2b0>,\n",
       " '个': <gensim.models.keyedvectors.Vocab at 0x173eb7ced68>,\n",
       " '中': <gensim.models.keyedvectors.Vocab at 0x173eb8a8ba8>,\n",
       " '中国': <gensim.models.keyedvectors.Vocab at 0x173ebfc3898>,\n",
       " '中标': <gensim.models.keyedvectors.Vocab at 0x173ebfc3128>,\n",
       " '为': <gensim.models.keyedvectors.Vocab at 0x173ebfc3cf8>,\n",
       " '主网': <gensim.models.keyedvectors.Vocab at 0x173eb23ab00>,\n",
       " '主营': <gensim.models.keyedvectors.Vocab at 0x173eb8f1630>,\n",
       " '举办': <gensim.models.keyedvectors.Vocab at 0x173eb0902b0>,\n",
       " '了': <gensim.models.keyedvectors.Vocab at 0x173ebfc3588>,\n",
       " '二': <gensim.models.keyedvectors.Vocab at 0x173ebf33860>,\n",
       " '于': <gensim.models.keyedvectors.Vocab at 0x173ebf56550>,\n",
       " '产生': <gensim.models.keyedvectors.Vocab at 0x173ebbdc9e8>,\n",
       " '人': <gensim.models.keyedvectors.Vocab at 0x173ebd2cf28>,\n",
       " '人员': <gensim.models.keyedvectors.Vocab at 0x173eb0cc588>,\n",
       " '人民币': <gensim.models.keyedvectors.Vocab at 0x173eb7cee10>,\n",
       " '亿元': <gensim.models.keyedvectors.Vocab at 0x173ebd2c2e8>,\n",
       " '亿陆仟玖佰': <gensim.models.keyedvectors.Vocab at 0x173eb7ce160>,\n",
       " '代码': <gensim.models.keyedvectors.Vocab at 0x173eb8a85c0>,\n",
       " '企业': <gensim.models.keyedvectors.Vocab at 0x173ebbdc550>,\n",
       " '伍元': <gensim.models.keyedvectors.Vocab at 0x173ebd2c4a8>,\n",
       " '供电': <gensim.models.keyedvectors.Vocab at 0x173eb8f1da0>,\n",
       " '保证': <gensim.models.keyedvectors.Vocab at 0x173ebf56438>,\n",
       " '信息': <gensim.models.keyedvectors.Vocab at 0x173ebf56cc0>,\n",
       " '全体成员': <gensim.models.keyedvectors.Vocab at 0x173ebf56940>,\n",
       " '公司': <gensim.models.keyedvectors.Vocab at 0x173eb8a8208>,\n",
       " '公告': <gensim.models.keyedvectors.Vocab at 0x173eb8a8438>,\n",
       " '共计': <gensim.models.keyedvectors.Vocab at 0x173eb7ceb00>,\n",
       " '关于': <gensim.models.keyedvectors.Vocab at 0x173eb8a8ef0>,\n",
       " '关系': <gensim.models.keyedvectors.Vocab at 0x173ebbdc9b0>,\n",
       " '关联': <gensim.models.keyedvectors.Vocab at 0x173ebbdcac8>,\n",
       " '内容': <gensim.models.keyedvectors.Vocab at 0x173ebf569e8>,\n",
       " '准确': <gensim.models.keyedvectors.Vocab at 0x173ebf56d68>,\n",
       " '出口': <gensim.models.keyedvectors.Vocab at 0x173eb090390>,\n",
       " '刘振亚': <gensim.models.keyedvectors.Vocab at 0x173ebd2ceb8>,\n",
       " '劳务': <gensim.models.keyedvectors.Vocab at 0x173eb0cc978>,\n",
       " '包': <gensim.models.keyedvectors.Vocab at 0x173eb7cecf8>,\n",
       " '北京市': <gensim.models.keyedvectors.Vocab at 0x173ebd2cd68>,\n",
       " '区域': <gensim.models.keyedvectors.Vocab at 0x173eb8f1550>,\n",
       " '千伏': <gensim.models.keyedvectors.Vocab at 0x173ebf33630>,\n",
       " '单位': <gensim.models.keyedvectors.Vocab at 0x173eb7cef60>,\n",
       " '南': <gensim.models.keyedvectors.Vocab at 0x173ebfc3f98>,\n",
       " '占': <gensim.models.keyedvectors.Vocab at 0x173ebbdc358>,\n",
       " '及': <gensim.models.keyedvectors.Vocab at 0x173eb8a81d0>,\n",
       " '发来': <gensim.models.keyedvectors.Vocab at 0x173ebfc3198>,\n",
       " '发生': <gensim.models.keyedvectors.Vocab at 0x173ebbdcb00>,\n",
       " '号': <gensim.models.keyedvectors.Vocab at 0x173eb8f17f0>,\n",
       " '各类': <gensim.models.keyedvectors.Vocab at 0x173eb0902e8>,\n",
       " '合同': <gensim.models.keyedvectors.Vocab at 0x173eb8a8c88>,\n",
       " '后': <gensim.models.keyedvectors.Vocab at 0x173ebbdc128>,\n",
       " '吨': <gensim.models.keyedvectors.Vocab at 0x173eb7cedd8>,\n",
       " '和': <gensim.models.keyedvectors.Vocab at 0x173ebf56c88>,\n",
       " '咨询服务': <gensim.models.keyedvectors.Vocab at 0x173eb0906a0>,\n",
       " '哈密': <gensim.models.keyedvectors.Vocab at 0x173ebfc3d30>,\n",
       " '国家电网': <gensim.models.keyedvectors.Vocab at 0x173ebfc3208>,\n",
       " '国际': <gensim.models.keyedvectors.Vocab at 0x173eb090dd8>,\n",
       " '在': <gensim.models.keyedvectors.Vocab at 0x173ebf560f0>,\n",
       " '在国': <gensim.models.keyedvectors.Vocab at 0x173eb090d30>,\n",
       " '地址': <gensim.models.keyedvectors.Vocab at 0x173ebd2cdd8>,\n",
       " '地线': <gensim.models.keyedvectors.Vocab at 0x173eb7cef98>,\n",
       " '境': <gensim.models.keyedvectors.Vocab at 0x173eb0907f0>,\n",
       " '境内': <gensim.models.keyedvectors.Vocab at 0x173eb090b38>,\n",
       " '境外': <gensim.models.keyedvectors.Vocab at 0x173eb0cc438>,\n",
       " '壹': <gensim.models.keyedvectors.Vocab at 0x173eb7ce898>,\n",
       " '外': <gensim.models.keyedvectors.Vocab at 0x173eb0903c8>,\n",
       " '多次': <gensim.models.keyedvectors.Vocab at 0x173ebbdcc88>,\n",
       " '大写': <gensim.models.keyedvectors.Vocab at 0x173eb7cea58>,\n",
       " '大安': <gensim.models.keyedvectors.Vocab at 0x173eb8f1898>,\n",
       " '存在': <gensim.models.keyedvectors.Vocab at 0x173ebbdc5c0>,\n",
       " '完整': <gensim.models.keyedvectors.Vocab at 0x173ebf56ef0>,\n",
       " '实业': <gensim.models.keyedvectors.Vocab at 0x173eb090ef0>,\n",
       " '实施': <gensim.models.keyedvectors.Vocab at 0x173eb8f13c8>,\n",
       " '审计': <gensim.models.keyedvectors.Vocab at 0x173ebbdc198>,\n",
       " '对': <gensim.models.keyedvectors.Vocab at 0x173ebbdc860>,\n",
       " '对外': <gensim.models.keyedvectors.Vocab at 0x173eb8f1ac8>,\n",
       " '导地线': <gensim.models.keyedvectors.Vocab at 0x173ebf33710>,\n",
       " '导线': <gensim.models.keyedvectors.Vocab at 0x173ebf33080>,\n",
       " '将': <gensim.models.keyedvectors.Vocab at 0x173ebbdc080>,\n",
       " '尚未': <gensim.models.keyedvectors.Vocab at 0x173ebbdc6a0>,\n",
       " '履行': <gensim.models.keyedvectors.Vocab at 0x173ebbdc5f8>,\n",
       " '工程': <gensim.models.keyedvectors.Vocab at 0x173ebf33588>,\n",
       " '巨潮': <gensim.models.keyedvectors.Vocab at 0x173ebf56390>,\n",
       " '年': <gensim.models.keyedvectors.Vocab at 0x173ebf565f8>,\n",
       " '年度': <gensim.models.keyedvectors.Vocab at 0x173ebbdc208>,\n",
       " '广大': <gensim.models.keyedvectors.Vocab at 0x173ebbdc400>,\n",
       " '影响': <gensim.models.keyedvectors.Vocab at 0x173ebbdc160>,\n",
       " '总': <gensim.models.keyedvectors.Vocab at 0x173eb7ce8d0>,\n",
       " '总收入': <gensim.models.keyedvectors.Vocab at 0x173ebbdc048>,\n",
       " '我': <gensim.models.keyedvectors.Vocab at 0x173ebf56588>,\n",
       " '或': <gensim.models.keyedvectors.Vocab at 0x173ebf56eb8>,\n",
       " '所': <gensim.models.keyedvectors.Vocab at 0x173eb8f1278>,\n",
       " '批准': <gensim.models.keyedvectors.Vocab at 0x173eb8f1390>,\n",
       " '承包': <gensim.models.keyedvectors.Vocab at 0x173eb8f1240>,\n",
       " '技术开发': <gensim.models.keyedvectors.Vocab at 0x173eb090d68>,\n",
       " '投资': <gensim.models.keyedvectors.Vocab at 0x173eb090198>,\n",
       " '投资者': <gensim.models.keyedvectors.Vocab at 0x173ebbdc320>,\n",
       " '披露': <gensim.models.keyedvectors.Vocab at 0x173ebf567b8>,\n",
       " '招投标': <gensim.models.keyedvectors.Vocab at 0x173ebfc32e8>,\n",
       " '招标': <gensim.models.keyedvectors.Vocab at 0x173ebf337f0>,\n",
       " '招标人': <gensim.models.keyedvectors.Vocab at 0x173ebd2cb38>,\n",
       " '拾': <gensim.models.keyedvectors.Vocab at 0x173ebd2c080>,\n",
       " '捌': <gensim.models.keyedvectors.Vocab at 0x173ebd2ccc0>,\n",
       " '接到': <gensim.models.keyedvectors.Vocab at 0x173ebfc3358>,\n",
       " '提示性': <gensim.models.keyedvectors.Vocab at 0x173ebfc33c8>,\n",
       " '敬请': <gensim.models.keyedvectors.Vocab at 0x173ebbdc7b8>,\n",
       " '数量': <gensim.models.keyedvectors.Vocab at 0x173eb7ce940>,\n",
       " '新疆': <gensim.models.keyedvectors.Vocab at 0x173eb23aef0>,\n",
       " '施工': <gensim.models.keyedvectors.Vocab at 0x173ebf335f8>,\n",
       " '日': <gensim.models.keyedvectors.Vocab at 0x173ebf564a8>,\n",
       " '月': <gensim.models.keyedvectors.Vocab at 0x173ebf564e0>,\n",
       " '有关': <gensim.models.keyedvectors.Vocab at 0x173eb090128>,\n",
       " '有限公司': <gensim.models.keyedvectors.Vocab at 0x173eb8a8320>,\n",
       " '本': <gensim.models.keyedvectors.Vocab at 0x173eb8a8278>,\n",
       " '本次': <gensim.models.keyedvectors.Vocab at 0x173ebbdc278>,\n",
       " '材料': <gensim.models.keyedvectors.Vocab at 0x173eb090710>,\n",
       " '标价': <gensim.models.keyedvectors.Vocab at 0x173eb7ceb70>,\n",
       " '标段': <gensim.models.keyedvectors.Vocab at 0x173ebf33518>,\n",
       " '标的': <gensim.models.keyedvectors.Vocab at 0x173eb8a86d8>,\n",
       " '汉缆': <gensim.models.keyedvectors.Vocab at 0x173eb8a8828>,\n",
       " '没有': <gensim.models.keyedvectors.Vocab at 0x173ebf56b70>,\n",
       " '法定代表': <gensim.models.keyedvectors.Vocab at 0x173ebd2cf98>,\n",
       " '注册': <gensim.models.keyedvectors.Vocab at 0x173ebd2ce48>,\n",
       " '注册资本': <gensim.models.keyedvectors.Vocab at 0x173ebd2c550>,\n",
       " '注意': <gensim.models.keyedvectors.Vocab at 0x173ebbdc390>,\n",
       " '活动': <gensim.models.keyedvectors.Vocab at 0x173ebf33828>,\n",
       " '派遣': <gensim.models.keyedvectors.Vocab at 0x173eb8f1908>,\n",
       " '特此': <gensim.models.keyedvectors.Vocab at 0x173eb56fb70>,\n",
       " '特殊': <gensim.models.keyedvectors.Vocab at 0x173eb23a7f0>,\n",
       " '特高压': <gensim.models.keyedvectors.Vocab at 0x173ebf33668>,\n",
       " '独立性': <gensim.models.keyedvectors.Vocab at 0x173ebbdcba8>,\n",
       " '生产': <gensim.models.keyedvectors.Vocab at 0x173eb090a20>,\n",
       " '生产性': <gensim.models.keyedvectors.Vocab at 0x173ebbdcb38>,\n",
       " '电力': <gensim.models.keyedvectors.Vocab at 0x173eb090c50>,\n",
       " '电力供应': <gensim.models.keyedvectors.Vocab at 0x173eb0905f8>,\n",
       " '的': <gensim.models.keyedvectors.Vocab at 0x173ebf565c0>,\n",
       " '目前': <gensim.models.keyedvectors.Vocab at 0x173ebbdc7f0>,\n",
       " '直流': <gensim.models.keyedvectors.Vocab at 0x173ebf33a20>,\n",
       " '相应': <gensim.models.keyedvectors.Vocab at 0x173ebbdc4a8>,\n",
       " '真实': <gensim.models.keyedvectors.Vocab at 0x173ebf56c50>,\n",
       " '确定': <gensim.models.keyedvectors.Vocab at 0x173ebfc3cc0>,\n",
       " '科学研究': <gensim.models.keyedvectors.Vocab at 0x173eb090cf8>,\n",
       " '积极': <gensim.models.keyedvectors.Vocab at 0x173ebbdc940>,\n",
       " '程序': <gensim.models.keyedvectors.Vocab at 0x173ebbdc780>,\n",
       " '第二': <gensim.models.keyedvectors.Vocab at 0x173eb23aa90>,\n",
       " '签署': <gensim.models.keyedvectors.Vocab at 0x173ebbdc898>,\n",
       " '简称': <gensim.models.keyedvectors.Vocab at 0x173eb8a8f28>,\n",
       " '管理': <gensim.models.keyedvectors.Vocab at 0x173eb0904a8>,\n",
       " '管理中心': <gensim.models.keyedvectors.Vocab at 0x173ebfc3278>,\n",
       " '类似': <gensim.models.keyedvectors.Vocab at 0x173ebbdcb70>,\n",
       " '线路': <gensim.models.keyedvectors.Vocab at 0x173ebf333c8>,\n",
       " '经': <gensim.models.keyedvectors.Vocab at 0x173eb8f1710>,\n",
       " '经营': <gensim.models.keyedvectors.Vocab at 0x173ebfc3518>,\n",
       " '经营范围': <gensim.models.keyedvectors.Vocab at 0x173eb8f17b8>,\n",
       " '经营项目': <gensim.models.keyedvectors.Vocab at 0x173eb0cc908>,\n",
       " '编号': <gensim.models.keyedvectors.Vocab at 0x173eb8a8940>,\n",
       " '职业培训': <gensim.models.keyedvectors.Vocab at 0x173eb090358>,\n",
       " '联网': <gensim.models.keyedvectors.Vocab at 0x173eb23acc0>,\n",
       " '肆角整': <gensim.models.keyedvectors.Vocab at 0x173ebd2cba8>,\n",
       " '股份': <gensim.models.keyedvectors.Vocab at 0x173eb8a88d0>,\n",
       " '营业': <gensim.models.keyedvectors.Vocab at 0x173ebbdc0b8>,\n",
       " '董事会': <gensim.models.keyedvectors.Vocab at 0x173eb8a8f60>,\n",
       " '虚假': <gensim.models.keyedvectors.Vocab at 0x173ebf56ac8>,\n",
       " '街': <gensim.models.keyedvectors.Vocab at 0x173eb8f1f60>,\n",
       " '西': <gensim.models.keyedvectors.Vocab at 0x173eb8f1748>,\n",
       " '西北': <gensim.models.keyedvectors.Vocab at 0x173eb23ac50>,\n",
       " '西城区': <gensim.models.keyedvectors.Vocab at 0x173eb8f1b38>,\n",
       " '记载': <gensim.models.keyedvectors.Vocab at 0x173ebf56f28>,\n",
       " '设备': <gensim.models.keyedvectors.Vocab at 0x173eb090e80>,\n",
       " '证券': <gensim.models.keyedvectors.Vocab at 0x173eb1e7240>,\n",
       " '证券报': <gensim.models.keyedvectors.Vocab at 0x173ebfc3828>,\n",
       " '证券日报': <gensim.models.keyedvectors.Vocab at 0x173ebfc36d8>,\n",
       " '证券时报': <gensim.models.keyedvectors.Vocab at 0x173ebfc3668>,\n",
       " '误导性': <gensim.models.keyedvectors.Vocab at 0x173ebf56e48>,\n",
       " '调度': <gensim.models.keyedvectors.Vocab at 0x173eb090a90>,\n",
       " '贰': <gensim.models.keyedvectors.Vocab at 0x173eb7ce978>,\n",
       " '资讯网': <gensim.models.keyedvectors.Vocab at 0x173ebf56320>,\n",
       " '输变电': <gensim.models.keyedvectors.Vocab at 0x173ebfc3b38>,\n",
       " '输电': <gensim.models.keyedvectors.Vocab at 0x173ebf33780>,\n",
       " '近三年': <gensim.models.keyedvectors.Vocab at 0x173ebbdca90>,\n",
       " '进出口': <gensim.models.keyedvectors.Vocab at 0x173eb0901d0>,\n",
       " '通信': <gensim.models.keyedvectors.Vocab at 0x173eb090c18>,\n",
       " '通知': <gensim.models.keyedvectors.Vocab at 0x173ebfc3048>,\n",
       " '通知书': <gensim.models.keyedvectors.Vocab at 0x173ebfc30b8>,\n",
       " '通道': <gensim.models.keyedvectors.Vocab at 0x173eb23a2e8>,\n",
       " '遗漏': <gensim.models.keyedvectors.Vocab at 0x173ebf56f98>,\n",
       " '郑州': <gensim.models.keyedvectors.Vocab at 0x173ebd63fd0>,\n",
       " '重大': <gensim.models.keyedvectors.Vocab at 0x173eb8a8e48>,\n",
       " '陈述': <gensim.models.keyedvectors.Vocab at 0x173ebf56710>,\n",
       " '需': <gensim.models.keyedvectors.Vocab at 0x173eb0cc898>,\n",
       " '青岛': <gensim.models.keyedvectors.Vocab at 0x173eb8a8668>,\n",
       " '非': <gensim.models.keyedvectors.Vocab at 0x173eb090518>,\n",
       " '项目': <gensim.models.keyedvectors.Vocab at 0x173ebfc3dd8>,\n",
       " '风险': <gensim.models.keyedvectors.Vocab at 0x173ebbdc0f0>,\n",
       " '（': <gensim.models.keyedvectors.Vocab at 0x173ebf338d0>,\n",
       " '）': <gensim.models.keyedvectors.Vocab at 0x173ebf337b8>,\n",
       " '，': <gensim.models.keyedvectors.Vocab at 0x173ebf56fd0>,\n",
       " '：': <gensim.models.keyedvectors.Vocab at 0x173eb8a8630>,\n",
       " '；': <gensim.models.keyedvectors.Vocab at 0x173eb090400>}"
      ]
     },
     "execution_count": 232,
     "metadata": {},
     "output_type": "execute_result"
    }
   ],
   "source": [
    "model=word2vec.Word2Vec([wordi],min_count=1,iter=10)\n",
    "model.wv.vocab"
   ]
  },
  {
   "cell_type": "code",
   "execution_count": 1,
   "metadata": {},
   "outputs": [
    {
     "ename": "NameError",
     "evalue": "name 'model' is not defined",
     "output_type": "error",
     "traceback": [
      "\u001b[1;31m---------------------------------------------------------------------------\u001b[0m",
      "\u001b[1;31mNameError\u001b[0m                                 Traceback (most recent call last)",
      "\u001b[1;32m<ipython-input-1-afb708021c7d>\u001b[0m in \u001b[0;36m<module>\u001b[1;34m()\u001b[0m\n\u001b[1;32m----> 1\u001b[1;33m \u001b[0mmodel\u001b[0m\u001b[1;33m.\u001b[0m\u001b[0msave\u001b[0m\u001b[1;33m(\u001b[0m\u001b[1;34m'model'\u001b[0m\u001b[1;33m)\u001b[0m\u001b[1;33m\u001b[0m\u001b[0m\n\u001b[0m\u001b[0;32m      2\u001b[0m \u001b[0mmodeli\u001b[0m\u001b[1;33m=\u001b[0m\u001b[0mword2vec\u001b[0m\u001b[1;33m.\u001b[0m\u001b[0mWord2Vec\u001b[0m\u001b[1;33m.\u001b[0m\u001b[0mload\u001b[0m\u001b[1;33m(\u001b[0m\u001b[1;34m'model'\u001b[0m\u001b[1;33m)\u001b[0m\u001b[1;33m\u001b[0m\u001b[0m\n",
      "\u001b[1;31mNameError\u001b[0m: name 'model' is not defined"
     ]
    }
   ],
   "source": [
    "model.save('model')\n",
    "modeli=word2vec.Word2Vec.load('model')"
   ]
  },
  {
   "cell_type": "code",
   "execution_count": 2,
   "metadata": {},
   "outputs": [
    {
     "name": "stderr",
     "output_type": "stream",
     "text": [
      "F:\\app\\anaconda\\lib\\site-packages\\gensim\\utils.py:1197: UserWarning: detected Windows; aliasing chunkize to chunkize_serial\n",
      "  warnings.warn(\"detected Windows; aliasing chunkize to chunkize_serial\")\n"
     ]
    }
   ],
   "source": [
    "import gensim"
   ]
  },
  {
   "cell_type": "code",
   "execution_count": 5,
   "metadata": {},
   "outputs": [],
   "source": [
    "gensim.models.Doc2Vec?"
   ]
  }
 ],
 "metadata": {
  "kernelspec": {
   "display_name": "Python 3",
   "language": "python",
   "name": "python3"
  },
  "language_info": {
   "codemirror_mode": {
    "name": "ipython",
    "version": 3
   },
   "file_extension": ".py",
   "mimetype": "text/x-python",
   "name": "python",
   "nbconvert_exporter": "python",
   "pygments_lexer": "ipython3",
   "version": "3.6.4"
  }
 },
 "nbformat": 4,
 "nbformat_minor": 2
}
